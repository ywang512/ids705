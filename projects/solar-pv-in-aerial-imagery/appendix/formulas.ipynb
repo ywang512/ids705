{
 "cells": [
  {
   "cell_type": "markdown",
   "metadata": {},
   "source": [
    " "
   ]
  },
  {
   "cell_type": "markdown",
   "metadata": {},
   "source": [
    "$$\n",
    "C(x,y) = \\sum_{i=-\\infty}^{\\infty}\\sum_{j=-\\infty}^{\\infty}I(i,j)G_x(x-j, y-i) \\tag{1}\n",
    "$$"
   ]
  },
  {
   "cell_type": "markdown",
   "metadata": {},
   "source": [
    "$$\n",
    "D_x(x,y) = \\frac{\\partial{C}}{\\partial{x}}(x,y) = \\frac{\\partial}{\\partial x}\\sum_{i=-\\infty}^{\\infty}\\sum_{j=-\\infty}^{\\infty}I(i,j)G(x-j, y-i) = \\sum_{i=-\\infty}^{\\infty}\\sum_{j=-\\infty}^{\\infty}I(i,j)G_x(x-j, y-i) \\tag{2.1}\n",
    "$$"
   ]
  },
  {
   "cell_type": "markdown",
   "metadata": {},
   "source": [
    "$$\n",
    "D_y(x,y) = \\frac{\\partial{C}}{\\partial{y}}(x,y) = \\frac{\\partial}{\\partial y}\\sum_{i=-\\infty}^{\\infty}\\sum_{j=-\\infty}^{\\infty}I(i,j)G(x-j, y-i) = \\sum_{i=-\\infty}^{\\infty}\\sum_{j=-\\infty}^{\\infty}I(i,j)G_y(x-j, y-i) \\tag{2.2}\n",
    "$$"
   ]
  },
  {
   "cell_type": "markdown",
   "metadata": {},
   "source": [
    "$$\n",
    "I_c(r,c) = D_x(x,y)|_{(c,r)} \\;\\;\\;\\;\\;\\;\\; I_r(r,c) = D_y(x,y)|_{(c,r)} \\tag{3}\n",
    "$$"
   ]
  },
  {
   "cell_type": "markdown",
   "metadata": {},
   "source": [
    "$$G(x,y) = e^{-\\frac{x^2+y^2}{2\\sigma^2}} = e^{-\\frac{x^2}{2\\sigma^2}}e^{-\\frac{y^2}{2\\sigma^2}} = g(x)g(y) \\tag{4}$$"
   ]
  },
  {
   "cell_type": "markdown",
   "metadata": {},
   "source": [
    " "
   ]
  },
  {
   "cell_type": "markdown",
   "metadata": {},
   "source": [
    "$$\n",
    "G_x(x,y) = -\\frac{x}{\\sigma^2}e^{-\\frac{x^2}{2\\sigma^2}}e^{-\\frac{y^2}{2\\sigma^2}} = d(x)g(y) \\;\\;\\;\\;\\;\\; G_y(x,y) = -\\frac{y}{\\sigma^2}e^{-\\frac{x^2}{2\\sigma^2}}e^{-\\frac{y^2}{2\\sigma^2}} = g(x)d(y) \\tag{5}\n",
    "$$"
   ]
  },
  {
   "cell_type": "markdown",
   "metadata": {},
   "source": [
    "$$\n",
    "I_x(r,c) = \\sum_{i=-\\alpha}^{\\alpha}\\sum_{j=-\\alpha}^{\\alpha}I(i,j)G_x(c-j, r-i) \\;\\;\\;\\;\\;\\; I_y(r,c) = \\sum_{i=-\\alpha}^{\\alpha}\\sum_{j=-\\alpha}^{\\alpha}I(i,j)G_y(c-j, r-i) \\;\\;\\;\\text{where}\\;\\alpha = 3.5\\sigma\\tag{6}\n",
    "$$"
   ]
  },
  {
   "cell_type": "markdown",
   "metadata": {},
   "source": [
    "$$\n",
    "Gradient = \\sqrt{I_x^2 + I_y^2} \\tag{7}\n",
    "$$"
   ]
  },
  {
   "cell_type": "markdown",
   "metadata": {},
   "source": [
    " "
   ]
  },
  {
   "cell_type": "code",
   "execution_count": null,
   "metadata": {},
   "outputs": [],
   "source": []
  }
 ],
 "metadata": {
  "kernelspec": {
   "display_name": "Python 3",
   "language": "python",
   "name": "python3"
  },
  "language_info": {
   "codemirror_mode": {
    "name": "ipython",
    "version": 3
   },
   "file_extension": ".py",
   "mimetype": "text/x-python",
   "name": "python",
   "nbconvert_exporter": "python",
   "pygments_lexer": "ipython3",
   "version": "3.7.1"
  }
 },
 "nbformat": 4,
 "nbformat_minor": 2
}
