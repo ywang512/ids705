{
 "cells": [
  {
   "cell_type": "markdown",
   "metadata": {},
   "source": [
    "## Instructions\n",
    "**(a)** How to complete assignments\n",
    "- Each question is followed by one or more sections, each with an empty cell called \"ANSWER\". Insert your answer for that question below the word \"ANSWER\". You may use multiple cells for each answer that include both markdown and code.\n",
    "- **All** plots should have axes labels and legends should be used when there are multiple series plotted on a single plot\n",
    "- All figures should be of adequate size to read and should be clear - points will be deducted for blurry plots\n",
    "- Code should be valid (able to run and producing the correct answer), neat, understandable, and well commented\n",
    "- All math should be typeset using [LateX equations](https://tobi.oetiker.ch/lshort/lshort.pdf).\n",
    "- All text that is not code should be formatted using markdown. Two references to help include: [ref1](https://github.com/adam-p/markdown-here/wiki/Markdown-Cheatsheet) and [ref2](http://jupyter-notebook.readthedocs.io/en/stable/examples/Notebook/Working%20With%20Markdown%20Cells.html)\n",
    "- **Presentation matters**: for full credit this document should be easily navigatable with answers for subquestions clearly indicated (e.g. using \"(a)\" to indicate a subquestion). Proper grammar and spelling is expected and text should be descriptive and provide adequate detail to answer questions.\n",
    "\n",
    "**(b)** How to submit\n",
    "1. Ensure that all cells have been run. Cells that have not been run will be treated as unanswered questions\n",
    "2. Ensure that your content is easily legible on the printed document - if we cannot read it, we cannot grade it, and no credit will be given for anything we cannot read.\n",
    "3. Create a PDF document of your notebook. There are a few ways to do this. For example, using Google Chrome, go to File->Print Preview, then after verifying the document looks correct, go to print and for your printer choose \"Save as PDF.\" \n",
    "4. Hand your document by the start of class on the assigned due date. \n",
    "\n",
    "**(c)** GitLab Instructions\n",
    "1. Login via [GitLab Community Edition](https://gitlab.oit.duke.edu/users/sign_in). Choose Duke Shibboleth Login and then you'll be redirect to a webpage that requires your netid credentials to login. ![Gitlab Login](../img/gitlab_login.png)\n",
    "2. Go to the repo with your name (contact Rongsheng if you haven't been invited yet). Clone the repo with URL. The remaining steps are just the same as with GitHub ![Gitlab Project](../img/gitlab_project.png)\n",
    "3. Push your repo to GitLab: I think most of you already had a repo connected to GitHub. It's pretty easy to re-direct your current local repo to GitLab. Just use the following commands (you can see them in your project page when it is empty):\n",
    "```\n",
    "cd existing_repo\n",
    "git remote rename origin old-origin\n",
    "git remote add origin https://gitlab.oit.duke.edu/IDS705-Sp19/[Your Name].git\n",
    "git push -u origin --all\n",
    "git push -u origin --tags\n",
    "```"
   ]
  },
  {
   "cell_type": "markdown",
   "metadata": {},
   "source": [
    "## Example Question and Response\n",
    "Below is an example question to demonstrate how to answer a question using a Jupyter notebook."
   ]
  },
  {
   "cell_type": "markdown",
   "metadata": {},
   "source": [
    "## 0\n",
    "Calculate the (a) first and (b) second derivative of $f(x) = x^3$. lastly, (c) numerically evaluate the second derivative for $x=3$."
   ]
  },
  {
   "cell_type": "markdown",
   "metadata": {},
   "source": [
    "**ANSWER**\n",
    "The first and second derivatives are calculated as follows:\n",
    "\n",
    "**(a)** The first derivative:\n",
    "$$ \\frac{df}{dx} = 3x^2$$\n",
    "\n",
    "**(b)** The second derivative:\n",
    "$$ \\frac{d^2f}{dx^2} = 6x$$"
   ]
  },
  {
   "cell_type": "code",
   "execution_count": 4,
   "metadata": {},
   "outputs": [
    {
     "name": "stdout",
     "output_type": "stream",
     "text": [
      "(c) The second derivative at x = 3 is 18\n"
     ]
    }
   ],
   "source": [
    "# (c) Numerically evaluate the second derivative for f(x)\n",
    "\n",
    "# Initialize variables for the analysis\n",
    "x = 3\n",
    "\n",
    "# Compute the derivative\n",
    "df2 = 6 * x\n",
    "\n",
    "print('(c) The second derivative at x = 3 is {}'.format(df2))"
   ]
  },
  {
   "cell_type": "markdown",
   "metadata": {
    "collapsed": true
   },
   "source": [
    "## Reason for using Jupyter Notebooks\n",
    "Using Jupyter notebooks allows you to practice applying machine learning concepts while building programming and  writing skills, strengthening your ability to both create creative solutions to machine learning challenges while simultaneously enhancing your ability to **communicate** the meaning behind your findings and why others should give credence to your results.\n",
    "\n",
    "## Sources\n",
    "*Some questions on the assignments are adapted from sources including*:  \n",
    "1. James et al., *An Introduction to Statistical Learning*  \n",
    "2. Abu-Mostafa, Yaser, *Learning from Data*  \n",
    "3. Weinberger, Kilian, Machine Learning CS4780, Cornell University"
   ]
  },
  {
   "cell_type": "code",
   "execution_count": null,
   "metadata": {
    "collapsed": true
   },
   "outputs": [],
   "source": []
  }
 ],
 "metadata": {
  "kernelspec": {
   "display_name": "Python 3",
   "language": "python",
   "name": "python3"
  },
  "language_info": {
   "codemirror_mode": {
    "name": "ipython",
    "version": 3
   },
   "file_extension": ".py",
   "mimetype": "text/x-python",
   "name": "python",
   "nbconvert_exporter": "python",
   "pygments_lexer": "ipython3",
   "version": "3.7.2"
  }
 },
 "nbformat": 4,
 "nbformat_minor": 2
}
