{
 "cells": [
  {
   "cell_type": "markdown",
   "metadata": {},
   "source": [
    "# Assignment 5 - Reinforcement Learning\n",
    "\n",
    "## *Yifei Wang*\n",
    "Netid:  *yw323*"
   ]
  },
  {
   "cell_type": "markdown",
   "metadata": {},
   "source": [
    "### Blackjack\n",
    "\n",
    "Your goal is to develop a reinforcement learning technique to learn the optimal policy for winning at blackjack. Here, we're going to modify the rules from traditional blackjack a bit in a way that corresponds to the game presented in Sutton and Barto's *Reinforcement Learning: An Introduction* (Chapter 5, example 5.1). A full implementation of the game is provided and usage examples are detailed in the class header below.\n",
    "\n",
    "The rules of this modified version of the game of blackjack are as follows:\n",
    "\n",
    "- Blackjack is a card game where the goal is to obtain cards that sum to as near as possible to 21 without going over.  We're playing against a fixed (autonomous) dealer.\n",
    "- Face cards (Jack, Queen, King) have point value 10. Aces can either count as 11 or 1, and we're refer to it as 'usable' at 11 (indicating that it could be used as a '1' if need be. This game is placed with a deck of cards sampled with replacement.\n",
    "- The game starts with each (player and dealer) having one face up and one face down card.\n",
    "- The player can request additional cards (hit, or action '1') until they decide to stop (stay, action '0') or exceed 21 (bust, the game ends and player loses).\n",
    "- After the player stays, the dealer reveals their facedown card, and draws until their sum is 17 or greater. If the dealer goes bust the player wins. If neither player nor dealer busts, the outcome (win, lose, draw) is decided by whose sum is closer to 21.  The reward for winning is +1, drawing is 0, and losing is -1.\n",
    "\n",
    "\n",
    "\n",
    "You will accomplish three things:\n",
    "1. Try your hand at this game of blackjack and see what your human reinforcement learning system is able to achieve\n",
    "2. Evaluate a simple policy using Monte Carlo policy evaluation\n",
    "3. Determine an optimal policy using Monte Carlo control\n",
    "\n",
    "*This problem is adapted from David Silver's [excellent series on Reinforcement Learning](http://www0.cs.ucl.ac.uk/staff/d.silver/web/Teaching.html) at University College London*"
   ]
  },
  {
   "cell_type": "markdown",
   "metadata": {},
   "source": [
    "## 1\n",
    "\n",
    "### [10 points] Human reinforcement learning \n",
    "\n",
    "Using the code detailed below, play 50 hands of blackjack, and record your overall average reward. This will help you get accustomed with how the game works, the data structures involved with representing states, and what strategies are most effective."
   ]
  },
  {
   "cell_type": "code",
   "execution_count": 1,
   "metadata": {},
   "outputs": [],
   "source": [
    "import numpy as np\n",
    "\n",
    "class Blackjack():\n",
    "    \"\"\"Simple blackjack environment adapted from OpenAI Gym:\n",
    "        https://github.com/openai/gym/blob/master/gym/envs/toy_text/blackjack.py\n",
    "    \n",
    "    Blackjack is a card game where the goal is to obtain cards that sum to as\n",
    "    near as possible to 21 without going over.  They're playing against a fixed\n",
    "    dealer.\n",
    "    \n",
    "    Face cards (Jack, Queen, King) have point value 10.\n",
    "    Aces can either count as 11 or 1, and it's called 'usable' at 11.\n",
    "    This game is placed with a deck sampled with replacement.\n",
    "    \n",
    "    The game starts with each (player and dealer) having one face up and one\n",
    "    face down card.\n",
    "    \n",
    "    The player can request additional cards (hit = 1) until they decide to stop\n",
    "    (stay = 0) or exceed 21 (bust).\n",
    "    \n",
    "    After the player stays, the dealer reveals their facedown card, and draws\n",
    "    until their sum is 17 or greater.  If the dealer goes bust the player wins.\n",
    "    If neither player nor dealer busts, the outcome (win, lose, draw) is\n",
    "    decided by whose sum is closer to 21.  The reward for winning is +1,\n",
    "    drawing is 0, and losing is -1.\n",
    "    \n",
    "    The observation is a 3-tuple of: the players current sum,\n",
    "    the dealer's one showing card (1-10 where 1 is ace),\n",
    "    and whether or not the player holds a usable ace (0 or 1).\n",
    "    \n",
    "    This environment corresponds to the version of the blackjack problem\n",
    "    described in Example 5.1 in Reinforcement Learning: An Introduction\n",
    "    by Sutton and Barto (1998).\n",
    "    \n",
    "    http://incompleteideas.net/sutton/book/the-book.html\n",
    "    \n",
    "    Usage: \n",
    "        Initialize the class:\n",
    "            game = Blackjack()\n",
    "        \n",
    "        Deal the cards:\n",
    "            game.deal()\n",
    "            \n",
    "             (14, 3, False)\n",
    "             \n",
    "            This is the agent's observation of the state of the game:\n",
    "            The first value is the sum of cards in your hand (14 in this case)\n",
    "            The second is the visible card in the dealer's hand (3 in this case)\n",
    "            The Boolean is a flag (False in this case) to indicate whether or \n",
    "                not you have a usable Ace\n",
    "            (Note: if you have a usable ace, the sum will treat the ace as a \n",
    "                value of '11' - this is the case if this Boolean flag is \"true\")\n",
    "            \n",
    "        Take an action: Hit (1) or stay (0)\n",
    "        \n",
    "            Take a hit: game.step(1)\n",
    "            To Stay:    game.step(0)\n",
    "            \n",
    "        The output summarizes the game status:\n",
    "            \n",
    "            ((15, 3, False), 0, False)\n",
    "            \n",
    "            The first tuple (15, 3, False), is the agent's observation of the\n",
    "            state of the game as described above.\n",
    "            The second value (0) indicates the rewards\n",
    "            The third value (False) indicates whether the game is finished\n",
    "    \"\"\"\n",
    "    \n",
    "    def __init__(self):\n",
    "        # 1 = Ace, 2-10 = Number cards, Jack/Queen/King = 10\n",
    "        self.deck   = [1, 2, 3, 4, 5, 6, 7, 8, 9, 10, 10, 10, 10]\n",
    "        self.dealer = []\n",
    "        self.player = []\n",
    "        self.deal()\n",
    "\n",
    "    def step(self, action):\n",
    "        if action == 1:  # hit: add a card to players hand and return\n",
    "            self.player.append(self.draw_card())\n",
    "            if self.is_bust(self.player):\n",
    "                done = True\n",
    "                reward = -1\n",
    "            else:\n",
    "                done = False\n",
    "                reward = 0\n",
    "        else:  # stay: play out the dealers hand, and score\n",
    "            done = True\n",
    "            while self.sum_hand(self.dealer) < 17:\n",
    "                self.dealer.append(self.draw_card())\n",
    "            reward = self.cmp(self.score(self.player), self.score(self.dealer))\n",
    "        return self._get_obs(), reward, done\n",
    "\n",
    "    def _get_obs(self):\n",
    "        return (self.sum_hand(self.player), self.dealer[0], self.usable_ace(self.player))\n",
    "\n",
    "    def deal(self):\n",
    "        self.dealer = self.draw_hand()\n",
    "        self.player = self.draw_hand()\n",
    "        return self._get_obs()\n",
    "    \n",
    "    #------------------------------------------\n",
    "    # Other helper functions\n",
    "    #------------------------------------------\n",
    "    def cmp(self, a, b):\n",
    "        return float(a > b) - float(a < b)\n",
    "    \n",
    "    def draw_card(self):\n",
    "        return int(np.random.choice(self.deck))\n",
    "    \n",
    "    def draw_hand(self):\n",
    "        return [self.draw_card(), self.draw_card()]\n",
    "    \n",
    "    def usable_ace(self,hand):  # Does this hand have a usable ace?\n",
    "        return 1 in hand and sum(hand) + 10 <= 21\n",
    "    \n",
    "    def sum_hand(self,hand):  # Return current hand total\n",
    "        if self.usable_ace(hand):\n",
    "            return sum(hand) + 10\n",
    "        return sum(hand)\n",
    "    \n",
    "    def is_bust(self,hand):  # Is this hand a bust?\n",
    "        return self.sum_hand(hand) > 21\n",
    "    \n",
    "    def score(self,hand):  # What is the score of this hand (0 if bust)\n",
    "        return 0 if self.is_bust(hand) else self.sum_hand(hand)"
   ]
  },
  {
   "cell_type": "markdown",
   "metadata": {},
   "source": [
    "Here's an example of how it works to get you started:"
   ]
  },
  {
   "cell_type": "code",
   "execution_count": 2,
   "metadata": {
    "scrolled": true
   },
   "outputs": [
    {
     "name": "stdout",
     "output_type": "stream",
     "text": [
      "(15, 2, False)\n",
      "((21, 2, False), 0, False)\n"
     ]
    }
   ],
   "source": [
    "import numpy as np\n",
    "\n",
    "# Initialize the class:\n",
    "game = Blackjack()\n",
    "\n",
    "# Deal the cards:\n",
    "s0 = game.deal()\n",
    "print(s0)\n",
    "\n",
    "# Take an action: Hit = 1 or stay = 0. Here's a hit:\n",
    "s1 = game.step(1)\n",
    "print(s1)\n",
    "\n",
    "# If you wanted to stay:\n",
    "# game.step(2)\n",
    "\n",
    "# When it's gameover, just redeal:\n",
    "# game.deal()"
   ]
  },
  {
   "cell_type": "markdown",
   "metadata": {},
   "source": [
    "**ANSWER**"
   ]
  },
  {
   "cell_type": "code",
   "execution_count": 3,
   "metadata": {},
   "outputs": [],
   "source": [
    "def human_policy(state):\n",
    "    '''\n",
    "    simplified human policy\n",
    "    '''\n",
    "    \n",
    "    player_state = state[0] if isinstance(state[0], tuple) else state\n",
    "    player_sum = player_state[0]\n",
    "    dealer_sum = player_state[1]\n",
    "    player_ace = player_state[2]\n",
    "    if dealer_sum in (1,7,8,9,10):\n",
    "        hit_thres = 16\n",
    "    else:\n",
    "        hit_thres = 15\n",
    "    if player_sum >= hit_thres:\n",
    "        action = 0\n",
    "    else:\n",
    "        action = 1\n",
    "    return action\n",
    "    \n",
    "\n",
    "def human_play(n_iter=50):\n",
    "    '''\n",
    "    use human policy to play for n_iter rounds\n",
    "    '''\n",
    "    \n",
    "    print(\">\"*10 + \" Human Policy\")\n",
    "    rewards = 0\n",
    "    states = []\n",
    "    for n in range(n_iter):\n",
    "        state = []\n",
    "        game = Blackjack()\n",
    "        state.append(game.deal())\n",
    "        done = False\n",
    "        if not done:\n",
    "            s = game.step(human_policy(state[-1]))\n",
    "            state.append(s[0])\n",
    "            done = s[2]\n",
    "            rewards += s[1]\n",
    "        state.append(s[1])\n",
    "        states.append(state)\n",
    "    print(\"n_hands: %d\\trewards: %d\" % (n_iter, rewards))\n",
    "    return states, rewards\n",
    "\n",
    "\n",
    "def states_print(states):\n",
    "    '''\n",
    "    print the states\n",
    "    '''\n",
    "    print(\">>>>>  Result for %d States  >>>>>\" % len(states))\n",
    "    for state in states:\n",
    "        for s in state:\n",
    "            print(s, end=\"\\t\")\n",
    "        print(\"\")\n"
   ]
  },
  {
   "cell_type": "code",
   "execution_count": 4,
   "metadata": {},
   "outputs": [
    {
     "name": "stdout",
     "output_type": "stream",
     "text": [
      ">>>>>>>>>> Human Policy\n",
      "n_hands: 50\trewards: 0\n",
      ">>>>>  Result for 50 States  >>>>>\n",
      "(20, 6, False)\t(20, 6, False)\t1.0\t\n",
      "(17, 10, False)\t(17, 10, False)\t0.0\t\n",
      "(16, 2, False)\t(16, 2, False)\t1.0\t\n",
      "(20, 10, False)\t(20, 10, False)\t1.0\t\n",
      "(12, 3, False)\t(15, 3, False)\t0\t\n",
      "(15, 10, False)\t(16, 10, False)\t0\t\n",
      "(12, 10, False)\t(15, 10, False)\t0\t\n",
      "(18, 8, False)\t(18, 8, False)\t0.0\t\n",
      "(20, 7, False)\t(20, 7, False)\t-1.0\t\n",
      "(21, 2, True)\t(21, 2, True)\t1.0\t\n",
      "(15, 8, False)\t(24, 8, False)\t-1\t\n",
      "(13, 10, False)\t(23, 10, False)\t-1\t\n",
      "(14, 6, False)\t(24, 6, False)\t-1\t\n",
      "(18, 8, False)\t(18, 8, False)\t1.0\t\n",
      "(10, 9, False)\t(20, 9, False)\t0\t\n",
      "(12, 6, True)\t(12, 6, False)\t0\t\n",
      "(15, 5, True)\t(15, 5, True)\t-1.0\t\n",
      "(20, 10, False)\t(20, 10, False)\t1.0\t\n",
      "(11, 10, False)\t(14, 10, False)\t0\t\n",
      "(12, 3, False)\t(17, 3, False)\t0\t\n",
      "(18, 10, True)\t(18, 10, True)\t-1.0\t\n",
      "(12, 9, False)\t(22, 9, False)\t-1\t\n",
      "(18, 7, True)\t(18, 7, True)\t1.0\t\n",
      "(15, 8, False)\t(24, 8, False)\t-1\t\n",
      "(18, 3, False)\t(18, 3, False)\t1.0\t\n",
      "(17, 10, False)\t(17, 10, False)\t0.0\t\n",
      "(15, 4, False)\t(15, 4, False)\t1.0\t\n",
      "(11, 5, False)\t(20, 5, False)\t0\t\n",
      "(13, 9, False)\t(23, 9, False)\t-1\t\n",
      "(15, 10, False)\t(20, 10, False)\t0\t\n",
      "(20, 10, False)\t(20, 10, False)\t1.0\t\n",
      "(13, 9, False)\t(23, 9, False)\t-1\t\n",
      "(14, 10, True)\t(13, 10, False)\t0\t\n",
      "(9, 4, False)\t(15, 4, False)\t0\t\n",
      "(15, 6, True)\t(15, 6, True)\t1.0\t\n",
      "(11, 10, False)\t(21, 10, False)\t0\t\n",
      "(10, 1, False)\t(15, 1, False)\t0\t\n",
      "(14, 2, False)\t(24, 2, False)\t-1\t\n",
      "(8, 1, False)\t(11, 1, False)\t0\t\n",
      "(8, 7, False)\t(14, 7, False)\t0\t\n",
      "(11, 10, False)\t(14, 10, False)\t0\t\n",
      "(8, 6, False)\t(18, 6, False)\t0\t\n",
      "(9, 1, False)\t(19, 1, False)\t0\t\n",
      "(7, 2, False)\t(17, 2, False)\t0\t\n",
      "(16, 2, False)\t(16, 2, False)\t-1.0\t\n",
      "(6, 4, False)\t(16, 4, False)\t0\t\n",
      "(13, 6, False)\t(16, 6, False)\t0\t\n",
      "(8, 10, False)\t(18, 10, False)\t0\t\n",
      "(20, 5, False)\t(20, 5, False)\t1.0\t\n",
      "(12, 8, False)\t(20, 8, False)\t0\t\n",
      "expected rewards 0.0\n"
     ]
    }
   ],
   "source": [
    "states, rewards = human_play(n_iter=50)\n",
    "states_print(states)\n",
    "print(\"expected rewards %a\" % (rewards/50))"
   ]
  },
  {
   "cell_type": "markdown",
   "metadata": {},
   "source": [
    "## 2\n",
    "\n",
    "### [40 points] Perform Monte Carlo Policy Evaluation\n",
    "\n",
    "Thinking that you want to make your millions playing blackjack, you decide to test out a policy for playing this game. Your idea is an aggressive strategy: always hit unless the total of your cards adds up to 20 or 21, in which case you stay.\n",
    "\n",
    "**(a)** Use Monte Carlo policy evaluation to evaluate the expected returns from each state. Create plots for these similar to Sutton and Barto, Figure 5.1 where you plot the expected returns for each state. In this case create 2 plots:\n",
    "1. When you have a useable ace, plot the state space with the dealer's card on the x-axis, and the player's sum on the y-axis, and use the 'RdBu' matplotlib colormap and `imshow` to plot the value of each state under the policy described above. The domain of your x and y axes should include all possible states (2 to 21 for the player sum, and 1 to 10 for the dealer's card). Do this for for 10,000 episodes.\n",
    "2. Repeat (1) for the states without a usable ace.\n",
    "3. Repeat (1) for the case of 500,000 episodes.\n",
    "4. Relwat (2) for the case of 500,000 episodes.\n",
    "\n",
    "**(b)** Show a plot of the overall average reward per episode vs the number of episodes. For both the 10,000 episode case and the 500,000 episode case, record the overall average reward for this policy and report that value. "
   ]
  },
  {
   "cell_type": "markdown",
   "metadata": {},
   "source": [
    "**ANSWER**"
   ]
  },
  {
   "cell_type": "markdown",
   "metadata": {},
   "source": [
    "**(a)** Use Monte Carlo policy evaluation to evaluate the expected returns from each state. Create plots for these similar to Sutton and Barto, Figure 5.1 where you plot the expected returns for each state."
   ]
  },
  {
   "cell_type": "code",
   "execution_count": null,
   "metadata": {},
   "outputs": [],
   "source": [
    "def aggressive_policy(state):\n",
    "    '''\n",
    "    aggressive human policy\n",
    "    '''\n",
    "\n",
    "    player_state = state[0] if isinstance(state[0], tuple) else state\n",
    "    player_sum = player_state[0]\n",
    "    dealer_sum = player_state[1]\n",
    "    player_ace = player_state[2]\n",
    "    hit_thres = 20\n",
    "    if player_sum >= hit_thres:\n",
    "        action = 0\n",
    "    else:\n",
    "        action = 1\n",
    "    return action"
   ]
  },
  {
   "cell_type": "code",
   "execution_count": null,
   "metadata": {},
   "outputs": [],
   "source": [
    "import matplotlib.pyplot as plt\n",
    "%matplotlib inline\n",
    "\n",
    "def iter_play(N, policy):\n",
    "    '''\n",
    "    x - dealer: 1 - 10\n",
    "    y - player: 2 - 21\n",
    "    \n",
    "    assgine immediate rewards to last state\n",
    "    '''\n",
    "    \n",
    "    expected_return_N = np.zeros((20, 10), dtype=int)\n",
    "    expected_return_N_c = np.zeros((20, 10), dtype=int)\n",
    "    expected_return_A = np.zeros((20, 10), dtype=int)\n",
    "    expected_return_A_c = np.zeros((20, 10), dtype=int)\n",
    "    \n",
    "    for i in range(N):\n",
    "        done = False\n",
    "        game = Blackjack()\n",
    "        s = game.deal()\n",
    "        player_i = s[0] - 2\n",
    "        dealer_i = s[1] - 1\n",
    "        ace = s[2]\n",
    "        \n",
    "        while not done:\n",
    "            s, reward, done = game.step(policy(s))\n",
    "                \n",
    "            # useable Ace\n",
    "            if ace:\n",
    "                expected_return_A[player_i, dealer_i] += reward\n",
    "                expected_return_A_c[player_i, dealer_i] += 1\n",
    "\n",
    "            # no useable Ace\n",
    "            else:\n",
    "                expected_return_N[player_i, dealer_i] += reward\n",
    "                expected_return_N_c[player_i, dealer_i] += 1\n",
    "            \n",
    "            player_i, dealer_i = s[0]-2, s[1]-1\n",
    "        \n",
    "    expected_return_A_c[expected_return_A_c == 0] = 1\n",
    "    expected_return_N_c[expected_return_N_c == 0] = 1\n",
    "        \n",
    "    return np.divide(expected_return_A, expected_return_A_c), np.divide(expected_return_N, expected_return_N_c)"
   ]
  },
  {
   "cell_type": "code",
   "execution_count": null,
   "metadata": {},
   "outputs": [
    {
     "data": {
      "image/png": "[encoded data removed]",
      "text/plain": [
       "<Figure size 864x720 with 4 Axes>"
      ]
     },
     "metadata": {
      "needs_background": "light"
     },
     "output_type": "display_data"
    }
   ],
   "source": [
    "expected_returns = iter_play(N = 10000, policy=aggressive_policy)\n",
    "titles = [\"with useable Ace\", \"without useable Ace\"]\n",
    "\n",
    "plt.figure(figsize=(12,10))\n",
    "plt.subplot(1,2,1)\n",
    "plt.imshow(expected_returns[0], vmin=-1, vmax=1, cmap=\"RdBu\")\n",
    "plt.title(titles[0], fontsize=18)\n",
    "plt.xlabel(\"Dealer's Card\", fontsize=14)\n",
    "plt.xticks(np.arange(10), list(map(str, np.arange(1,11))))\n",
    "plt.ylabel(\"Player's Sum\", fontsize=14)\n",
    "plt.yticks(np.arange(20), list(map(str, np.arange(2,22))))\n",
    "plt.colorbar()\n",
    "\n",
    "plt.subplot(1,2,2)\n",
    "plt.imshow(expected_returns[1], vmin=-1, vmax=1, cmap=\"RdBu\")\n",
    "plt.title(titles[1], fontsize=18)\n",
    "plt.xlabel(\"Dealer's Card\", fontsize=14)\n",
    "plt.xticks(np.arange(10), list(map(str, np.arange(1,11))))\n",
    "plt.ylabel(\"Player's Sum\", fontsize=14)\n",
    "plt.yticks(np.arange(20), list(map(str, np.arange(2,22))))\n",
    "plt.colorbar()\n",
    "\n",
    "plt.suptitle(\"Expected Immediate Returns for Each State\", y=0.93, fontsize=22)\n",
    "plt.show()"
   ]
  },
  {
   "cell_type": "code",
   "execution_count": null,
   "metadata": {},
   "outputs": [
    {
     "data": {
      "image/png": "[encoded data removed]",
      "text/plain": [
       "<Figure size 864x720 with 4 Axes>"
      ]
     },
     "metadata": {
      "needs_background": "light"
     },
     "output_type": "display_data"
    }
   ],
   "source": [
    "expected_returns = iter_play(N = 500000, policy=aggressive_policy)\n",
    "titles = [\"with useable Ace\", \"without useable Ace\"]\n",
    "\n",
    "plt.figure(figsize=(12,10))\n",
    "plt.subplot(1,2,1)\n",
    "plt.imshow(expected_returns[0], vmin=-1, vmax=1, cmap=\"RdBu\")\n",
    "plt.title(titles[0], fontsize=18)\n",
    "plt.xlabel(\"Dealer's Card\", fontsize=14)\n",
    "plt.xticks(np.arange(10), list(map(str, np.arange(1,11))))\n",
    "plt.ylabel(\"Player's Sum\", fontsize=14)\n",
    "plt.yticks(np.arange(20), list(map(str, np.arange(2,22))))\n",
    "plt.colorbar()\n",
    "\n",
    "plt.subplot(1,2,2)\n",
    "plt.imshow(expected_returns[1], vmin=-1, vmax=1, cmap=\"RdBu\")\n",
    "plt.title(titles[1], fontsize=18)\n",
    "plt.xlabel(\"Dealer's Card\", fontsize=14)\n",
    "plt.xticks(np.arange(10), list(map(str, np.arange(1,11))))\n",
    "plt.ylabel(\"Player's Sum\", fontsize=14)\n",
    "plt.yticks(np.arange(20), list(map(str, np.arange(2,22))))\n",
    "plt.colorbar()\n",
    "\n",
    "plt.suptitle(\"Expected Immediate Returns for Each State\", y=0.93, fontsize=22)\n",
    "plt.show()"
   ]
  },
  {
   "cell_type": "code",
   "execution_count": null,
   "metadata": {},
   "outputs": [],
   "source": [
    "import matplotlib.pyplot as plt\n",
    "%matplotlib inline\n",
    "\n",
    "def iter_play(N, policy):\n",
    "    '''\n",
    "    x - dealer: 1 - 10\n",
    "    y - player: 2 - 21\n",
    "    \n",
    "    assign final returns to every state come across\n",
    "    '''\n",
    "    \n",
    "    expected_return_N = np.zeros((20, 10), dtype=int)\n",
    "    expected_return_N_c = np.zeros((20, 10), dtype=int)\n",
    "    expected_return_A = np.zeros((20, 10), dtype=int)\n",
    "    expected_return_A_c = np.zeros((20, 10), dtype=int)\n",
    "    \n",
    "    for i in range(N):\n",
    "        done = False\n",
    "        states = list()\n",
    "        game = Blackjack()\n",
    "        s = game.deal()\n",
    "        ace = s[2]\n",
    "        \n",
    "        while not done:\n",
    "            states.append([s[0]-2, s[1]-1])\n",
    "            s, reward, done = game.step(policy(s))\n",
    "                \n",
    "        # useable Ace\n",
    "        if ace:\n",
    "            for player_i, dealer_i in states:\n",
    "                expected_return_A[player_i, dealer_i] += reward\n",
    "                expected_return_A_c[player_i, dealer_i] += 1\n",
    "        \n",
    "        # no useable Ace\n",
    "        else:\n",
    "            for player_i, dealer_i in states:\n",
    "                expected_return_N[player_i, dealer_i] += reward\n",
    "                expected_return_N_c[player_i, dealer_i] += 1\n",
    "        \n",
    "    expected_return_A_c[expected_return_A_c == 0] = 1\n",
    "    expected_return_N_c[expected_return_N_c == 0] = 1\n",
    "        \n",
    "    return np.divide(expected_return_A, expected_return_A_c), np.divide(expected_return_N, expected_return_N_c)"
   ]
  },
  {
   "cell_type": "code",
   "execution_count": null,
   "metadata": {},
   "outputs": [
    {
     "data": {
      "image/png": "[encoded data removed]",
      "text/plain": [
       "<Figure size 864x720 with 4 Axes>"
      ]
     },
     "metadata": {
      "needs_background": "light"
     },
     "output_type": "display_data"
    }
   ],
   "source": [
    "expected_returns = iter_play(N = 10000, policy=aggressive_policy)\n",
    "titles = [\"with useable Ace\", \"without useable Ace\"]\n",
    "\n",
    "plt.figure(figsize=(12,10))\n",
    "plt.subplot(1,2,1)\n",
    "plt.imshow(expected_returns[0], vmin=-1, vmax=1, cmap=\"RdBu\")\n",
    "plt.title(titles[0], fontsize=18)\n",
    "plt.xlabel(\"Dealer's Card\", fontsize=14)\n",
    "plt.xticks(np.arange(10), list(map(str, np.arange(1,11))))\n",
    "plt.ylabel(\"Player's Sum\", fontsize=14)\n",
    "plt.yticks(np.arange(20), list(map(str, np.arange(2,22))))\n",
    "plt.colorbar()\n",
    "\n",
    "plt.subplot(1,2,2)\n",
    "plt.imshow(expected_returns[1], vmin=-1, vmax=1, cmap=\"RdBu\")\n",
    "plt.title(titles[1], fontsize=18)\n",
    "plt.xlabel(\"Dealer's Card\", fontsize=14)\n",
    "plt.xticks(np.arange(10), list(map(str, np.arange(1,11))))\n",
    "plt.ylabel(\"Player's Sum\", fontsize=14)\n",
    "plt.yticks(np.arange(20), list(map(str, np.arange(2,22))))\n",
    "plt.colorbar()\n",
    "\n",
    "plt.suptitle(\"Expected Final Returns for Each State\", y=0.93, fontsize=22)\n",
    "plt.show()"
   ]
  },
  {
   "cell_type": "code",
   "execution_count": null,
   "metadata": {},
   "outputs": [
    {
     "data": {
      "image/png": "[encoded data removed]",
      "text/plain": [
       "<Figure size 864x720 with 4 Axes>"
      ]
     },
     "metadata": {
      "needs_background": "light"
     },
     "output_type": "display_data"
    }
   ],
   "source": [
    "expected_returns = iter_play(N = 500000, policy=aggressive_policy)\n",
    "titles = [\"with useable Ace\", \"without useable Ace\"]\n",
    "\n",
    "plt.figure(figsize=(12,10))\n",
    "plt.subplot(1,2,1)\n",
    "plt.imshow(expected_returns[0], vmin=-1, vmax=1, cmap=\"RdBu\")\n",
    "plt.title(titles[0], fontsize=18)\n",
    "plt.xlabel(\"Dealer's Card\", fontsize=14)\n",
    "plt.xticks(np.arange(10), list(map(str, np.arange(1,11))))\n",
    "plt.ylabel(\"Player's Sum\", fontsize=14)\n",
    "plt.yticks(np.arange(20), list(map(str, np.arange(2,22))))\n",
    "plt.colorbar()\n",
    "\n",
    "plt.subplot(1,2,2)\n",
    "plt.imshow(expected_returns[1], vmin=-1, vmax=1, cmap=\"RdBu\")\n",
    "plt.title(titles[1], fontsize=18)\n",
    "plt.xlabel(\"Dealer's Card\", fontsize=14)\n",
    "plt.xticks(np.arange(10), list(map(str, np.arange(1,11))))\n",
    "plt.ylabel(\"Player's Sum\", fontsize=14)\n",
    "plt.yticks(np.arange(20), list(map(str, np.arange(2,22))))\n",
    "plt.colorbar()\n",
    "\n",
    "plt.suptitle(\"Expected Final Returns for Each State\", y=0.93, fontsize=22)\n",
    "plt.show()"
   ]
  },
  {
   "cell_type": "markdown",
   "metadata": {},
   "source": [
    "**(b)** Show a plot of the overall average reward per episode vs the number of episodes. For both the 10,000 episode case and the 500,000 episode case, record the overall average reward for this policy and report that value. "
   ]
  },
  {
   "cell_type": "code",
   "execution_count": null,
   "metadata": {},
   "outputs": [
    {
     "data": {
      "image/png": "[encoded data removed]",
      "text/plain": [
       "<Figure size 1152x432 with 1 Axes>"
      ]
     },
     "metadata": {
      "needs_background": "light"
     },
     "output_type": "display_data"
    }
   ],
   "source": [
    "np.random.seed(323)\n",
    "N = 500000\n",
    "rewards = []\n",
    "\n",
    "for i in range(N):\n",
    "    done = False\n",
    "    game = Blackjack()\n",
    "    s = game.deal()\n",
    "    player_i = s[0] - 2\n",
    "    dealer_i = s[1] - 1\n",
    "    ace = s[2]\n",
    "    while not done:\n",
    "        s, reward, done = game.step(aggressive_policy(s))\n",
    "    rewards.append(reward)\n",
    "expected_returns = np.cumsum(rewards) / np.arange(1, N+1)\n",
    "\n",
    "plt.figure(figsize=(16,6))\n",
    "plt.plot(np.arange(1, N+1), expected_returns, '-')\n",
    "plt.title(\"Expected Returns vs. Number of Episodes\", fontsize=18)\n",
    "plt.xlabel(\"Number of Episodes\", fontsize=16)\n",
    "plt.ylabel(\"Expected Returns\", fontsize=16)\n",
    "plt.show()"
   ]
  },
  {
   "cell_type": "markdown",
   "metadata": {},
   "source": [
    "## 3\n",
    "\n",
    "### [40 points] Perform Monte Carlo Control\n",
    "\n",
    "**(a)** Using Monte Carlo Control through policy iteration, estimate the optimal policy for playing our modified blackjack game to maximize rewards. \n",
    "\n",
    "In doing this, use the following assumptions:\n",
    "1. Initialize the value function and the state value function to all zeros\n",
    "2. Keep a running tally of the number of times the agent visited each state and chose an action. $N(s_t,a_t)$ is the number of times action $a$ has been selected from state $s$. You'll need this to compute the running average. You can implement an online average as: $\\bar{x}_{t} = \\frac{1}{N}x_t + \\frac{N-1}{N}\\bar{x}_{t-1}$ \n",
    "3. Use an $\\epsilon$-greedy exploration strategy with $\\epsilon_t = \\frac{N_0}{N_0 + N(s_t)}$, where we define $N_0 = 100$. Vary $N_0$ as needed.\n",
    "\n",
    "Show your result by plotting the optimal value function: $V^*(s) = max_a Q^*(s,a)$ and the optimal policy $\\pi^*(s)$. Create plots for these similar to Sutton and Barto, Figure 5.2 in the new draft edition, or 5.5 in the original edition. Your results SHOULD be very similar to the plots in that text. For these plots include:\n",
    "1. When you have a useable ace, plot the state space with the dealer's card on the x-axis, and the player's sum on the y-axis, and use the 'RdBu' matplotlib colormap and `imshow` to plot the value of each state under the policy described above. The domain of your x and y axes should include all possible states (2 to 21 for the player sum, and 1 to 10 for the dealer's visible card).\n",
    "2. Repeat (1) for the states without a usable ace.\n",
    "3. A plot of the optimal policy $\\pi^*(s)$ for the states with a usable ace (this plot could be an imshow plot with binary values).\n",
    "4. A plot of the optimal policy $\\pi^*(s)$ for the states without a usable ace (this plot could be an imshow plot with binary values).\n",
    "\n",
    "**(b)** Show a plot of the overall average reward per episode vs the number of episodes. What is the average reward your control strategy was able to achieve?\n",
    "\n",
    "*Note: convergence of this algorithm is extremely slow. You may need to let this run a few million episodes before the policy starts to converge. You're not expected to get EXACTLY the optimal policy, but it should be visibly close.* "
   ]
  },
  {
   "cell_type": "markdown",
   "metadata": {},
   "source": [
    "**ANSWER**"
   ]
  },
  {
   "cell_type": "markdown",
   "metadata": {},
   "source": [
    "**(a)** Using Monte Carlo Control through policy iteration, estimate the optimal policy for playing our modified blackjack game to maximize rewards. "
   ]
  },
  {
   "cell_type": "code",
   "execution_count": null,
   "metadata": {},
   "outputs": [
    {
     "data": {
      "text/plain": [
       "0.028284271247461905"
      ]
     },
     "execution_count": 13,
     "metadata": {},
     "output_type": "execute_result"
    }
   ],
   "source": [
    "np.linalg.norm(np.zeros((2,20,10,2))+0.001 - np.zeros((2,20,10,2)))"
   ]
  },
  {
   "cell_type": "code",
   "execution_count": null,
   "metadata": {},
   "outputs": [],
   "source": [
    "class MCMC_BlackJack():\n",
    "    '''\n",
    "    Use Monte Carlo Method to optimize BlackJack strategy\n",
    "    \n",
    "    Policy: For each state, choose the action with greater action_value with a e-greedy exploration strategy\n",
    "    Player_sum: 2 - 21\n",
    "    Dealer_card: 1 - 10\n",
    "    Usabel_ace: 0 or 1\n",
    "    State: tuple (Usable_ace, Player_sum-2, Dealer_card-1)\n",
    "    Action: Hit (1) or Stay (0)\n",
    "    \n",
    "    '''\n",
    "    \n",
    "    def __init__(self, N=5000, N0=100, tol=1e-3):\n",
    "        self.state_value = np.zeros((2, 20, 10))\n",
    "        self.action_value = np.zeros((2, 20, 10, 2))\n",
    "        self.trial_times = np.zeros((2, 20, 10, 2), dtype=int)\n",
    "        self.running_returns = []\n",
    "        self.episode = 0\n",
    "        self.N = N\n",
    "        self.N0 = N0\n",
    "        self.tol = tol\n",
    "        \n",
    "    \n",
    "    def get_action(self, state):\n",
    "        # action_value equals\n",
    "        if self.action_value[state+(0,)] == self.action_value[state+(1,)]:\n",
    "            return np.random.randint(0, 2)\n",
    "        # return min with epsilon probability\n",
    "        else:\n",
    "            epsilon = self.N0 / (self.N0 + np.sum(self.trial_times[state]))\n",
    "            r = np.random.random()\n",
    "            action = np.argmax(self.action_value[state])\n",
    "            if r < epsilon:\n",
    "                return int(1-action)\n",
    "            else:\n",
    "                return int(action)\n",
    "    \n",
    "    \n",
    "    def play_one_game(self):\n",
    "        '''\n",
    "        play one game with current policy\n",
    "        return the states and reward\n",
    "        '''\n",
    "        game = Blackjack()\n",
    "        state_actions = list()\n",
    "        done = False\n",
    "        s = game.deal()\n",
    "        while not done:\n",
    "            p, d, a = s\n",
    "            state = (int(a), p-2, d-1)\n",
    "            action = self.get_action(state)\n",
    "            state_actions.append(state + (action,))\n",
    "            s, reward, done = game.step(action)\n",
    "\n",
    "        return state_actions, reward\n",
    "    \n",
    "    \n",
    "    def policy_eval(self):\n",
    "        '''\n",
    "        update state_value and action_value until converge\n",
    "        '''\n",
    "        diff = 1\n",
    "        i = 0\n",
    "        while diff > self.tol:\n",
    "            if i % 100 == 0:\n",
    "                print(\"iter: %4.d\" % i, end=\"\\t\")\n",
    "            before = self.action_value.copy()\n",
    "            for j in range(self.N):\n",
    "                state_actions, reward = self.play_one_game()\n",
    "                self.running_returns.append(reward)\n",
    "                self.episode += 1\n",
    "                self.policy_iter(state_actions, reward)\n",
    "            after = self.action_value.copy()\n",
    "            diff = np.linalg.norm(after - before)\n",
    "            print(\">\", end=\"\")\n",
    "            if i % 100 == 99:\n",
    "                print(\"\\tdiff: %.6f\" % diff)\n",
    "            i += 1\n",
    "            \n",
    "        #return None\n",
    "    \n",
    "\n",
    "    def policy_iter(self, state_actions, reward):\n",
    "        '''\n",
    "        update policy by updating the action_value using online average returns\n",
    "        '''\n",
    "        \n",
    "        for state_action in state_actions:\n",
    "            # update trial_times\n",
    "            N = self.trial_times[state_action]\n",
    "            self.trial_times[state_action] += 1\n",
    "            # update action_value\n",
    "            self.action_value[state_action] = N/(N+1) * self.action_value[state_action] + reward / (N+1)\n",
    "            \n",
    "    \n",
    "    def plot_policy(self):\n",
    "        self.state_value = np.max(self.action_value, axis=-1)\n",
    "        policy = np.argmax(self.action_value, axis=-1)\n",
    "        \n",
    "        # state_value with usable ace\n",
    "        plt.figure(figsize=(12,20))\n",
    "        plt.subplot(2,2,1)\n",
    "        plt.imshow(self.state_value[1], vmin=-1, vmax=1, cmap=\"RdBu\")\n",
    "        plt.title(\"State Value with Usable Ace\", fontsize=18)\n",
    "        plt.xlabel(\"Dealer's Card\", fontsize=14)\n",
    "        plt.xticks(np.arange(10), list(map(str, np.arange(1,11))))\n",
    "        plt.ylabel(\"Player's Sum\", fontsize=14)\n",
    "        plt.yticks(np.arange(20), list(map(str, np.arange(2,22))))\n",
    "        plt.colorbar()\n",
    "    \n",
    "        # state_value without usable ace\n",
    "        plt.subplot(2,2,2)\n",
    "        plt.imshow(self.state_value[0], vmin=-1, vmax=1, cmap=\"RdBu\")\n",
    "        plt.title(\"State Value without Usable Ace\", fontsize=18)\n",
    "        plt.xlabel(\"Dealer's Card\", fontsize=14)\n",
    "        plt.xticks(np.arange(10), list(map(str, np.arange(1,11))))\n",
    "        plt.ylabel(\"Player's Sum\", fontsize=14)\n",
    "        plt.yticks(np.arange(20), list(map(str, np.arange(2,22))))\n",
    "        plt.colorbar()\n",
    "        \n",
    "        # optimized policy with usable ace\n",
    "        plt.subplot(2,2,3)\n",
    "        plt.imshow(policy[1], vmin=-0.2, vmax=1.2, cmap=\"RdBu\")\n",
    "        plt.title(\"Optimized Policy with Usable Ace\", fontsize=18)\n",
    "        plt.xlabel(\"Dealer's Card\\nRed: Stay (0)\\nBlue: Hit (1)\", fontsize=14)\n",
    "        plt.xticks(np.arange(10), list(map(str, np.arange(1,11))))\n",
    "        plt.ylabel(\"Player's Sum\", fontsize=14)\n",
    "        plt.yticks(np.arange(20), list(map(str, np.arange(2,22))))\n",
    "        plt.colorbar()\n",
    "        \n",
    "        # optimized policy without usable ace\n",
    "        plt.subplot(2,2,4)\n",
    "        plt.imshow(policy[0], vmin=-0.2, vmax=1.2, cmap=\"RdBu\")\n",
    "        plt.title(\"Optimized Policy without Usable Ace\", fontsize=18)\n",
    "        plt.xlabel(\"Dealer's Card\\nRed: Stay (0)\\nBlue: Hit (1)\", fontsize=14)\n",
    "        plt.xticks(np.arange(10), list(map(str, np.arange(1,11))))\n",
    "        plt.ylabel(\"Player's Sum\", fontsize=14)\n",
    "        plt.yticks(np.arange(20), list(map(str, np.arange(2,22))))\n",
    "        plt.colorbar()\n",
    "\n",
    "        plt.suptitle(\"Expected Final Returns for Each State\", y=0.93, fontsize=22)\n",
    "        plt.show()\n",
    "        \n",
    "    \n",
    "    def plot_running_returns(self):\n",
    "        X = np.arange(1, 1 + self.episode)\n",
    "        running_avg_returns = np.cumsum(self.running_returns) / X\n",
    "        plt.figure(figsize=(16,6))\n",
    "        plt.plot(X, running_avg_returns, \"-\")\n",
    "        plt.title(\"Overall Avg. Returns vs. Number of Episodes\", fontsize=18)\n",
    "        plt.xlabel(\"Number of Episodes\", fontsize=16)\n",
    "        plt.ylabel(\"Overall Avg. Returns\", fontsize=16)\n",
    "        plt.show()"
   ]
  },
  {
   "cell_type": "code",
   "execution_count": null,
   "metadata": {},
   "outputs": [
    {
     "name": "stdout",
     "output_type": "stream",
     "text": [
      "iter:    0\t>>>>>>>>>>>>>>>>>>>>>>>>>>>>>>>>>>>>>>>>>>>>>>>>>>>>>>>>>>>>>>>>>>>>>>>>>>>>>>>>>>>>>>>>>>>>>>>>>>>>\tdiff: 0.102797\n",
      "iter:  100\t>>>>>>>>>>>>>>>>>>>>>>>>>>>>>>>>>>>>>>>>>>>>>>>>>>>>>>>>>>>>>>>>>>>>>>>>>>>>>>>>>>>>>>>>>>>>>>>>>>>>\tdiff: 0.053597\n",
      "iter:  200\t>>>>>>>>>>>>>>>>>>>>>>>>>>>>>>>>>>>>>>>>>>>>>>>>>>>>>>>>>>>>>>>>>>>>>>>>>>>>>>>>>>>>>>>>>>>>>>>>>>>>\tdiff: 0.032656\n",
      "iter:  300\t>>>>>>>>>>>>>>>>>>>>>>>>>>>>>>>>>>>>>>>>>>>>>>>>>>>>>>>>>>>>>>>>>>>>>>>>>>>>>>>>>>>>>>>>>>>>>>>>>>>>\tdiff: 0.025734\n",
      "iter:  400\t>>>>>>>>>>>>>>>>>>>>>>>>>>>>>>>>>>>>>>>>>>>>>>>>>>>>>>>>>>>>>>>>>>>>>>>>>>>>>>>>>>>>>>>>>>>>>>>>>>>>\tdiff: 0.020679\n",
      "iter:  500\t>>>>>>>>>>>>>>>>>>>>>>>>>>>>>>>>>>>>>>>>>>>>>>>>>>>>>>>>>>>>>>>>>>>>>>>>>>>>>>>>>>>>>>>>>>>>>>>>>>>>\tdiff: 0.015720\n",
      "iter:  600\t>>>>>>>>>>>>>>>>>>>>>>>>>>>>>>>>>>>>>>>>>>>>>>>>>>>>>>>>>>>>>>>>>>>>>>>>>>>>>>>>>>>>>>>>>>>>>>>>>>>>\tdiff: 0.012325\n",
      "iter:  700\t>>>>>>>>>>>>>>>>>>>>>>>>>>>>>>>>>>>>>>>>>>>>>>>>>>>>>>>>>>>>>>>>>>>>>>>>>>>>>>>>>>>>>>>>>>>>>>>>>>>>\tdiff: 0.013081\n",
      "iter:  800\t>>>>>>>>>>>>>>>>>>>>>>>>>>>>>>>>>>>>>>>>>>>>>>>>>>>>>>>>>>>>>>>>>>>>>>>>>>>>>>>>>>>>>>>>>>>>>>>>>>>>\tdiff: 0.013733\n",
      "iter:  900\t>>>>>>>>>>>>>>>>>>>>>>>>>>>>>>>>>>>>>>>>>>>>>>>>>>>>>>>>>>>>>>>>>>>>>>>>>>>>>>>>>>>>>>>>>>>>>>>>>>>>\tdiff: 0.014254\n",
      "iter: 1000\t>>>>>>>>>>>>>>>>>>>>>>>>>>>>>>>>>>>>>>>>>>>>>>>>>>>>>>>>>>>>>>>>>>>>>>>>>>>>>>>>>>>>>>>>>>>>>>>>>>>>\tdiff: 0.008218\n",
      "iter: 1100\t>>>>>>>>>>>>>>>>>>>>>>>>>>>>>>>>>>>>>>>>>>>>>>>>>>>>>>>>>>>>>>>>>>>>>>>>>>>>>>>>>>>>>>>>>>>>>>>>>>>>\tdiff: 0.009335\n",
      "iter: 1200\t>>>>>>>>>>>>>>>>>>>>>>>>>>>>>>>>>>>>>>>>>>>>>>>>>>>>>>>>>>>>>>>>>>>>>>>>>>>>>>>>>>>>>>>>>>>>>>>>>>>>\tdiff: 0.008608\n",
      "iter: 1300\t>>>>>>>>>>>>>>>>>>>>>>>>>>>>>>>>>>>>>>>>>>>>>>>>>>>>>>>>>>>>>>>>>>>>>>>>>>>>>>>>>>>>>>>>>>>>>>>>>>>>\tdiff: 0.009055\n",
      "iter: 1400\t>>>>>>>>>>>>>>>>>>>>>>>>>>>>>>>>>>>>>>>>>>>>>>>>>>>>>>>>>>>>>>>>>>>>>>>>>>>>>>>>>>>>>>>>>>>>>>>>>>>>\tdiff: 0.007406\n",
      "iter: 1500\t>>>>>>>>>>>>>>>>>>>>>>>>>>>>>>>>>>>>>>>>>>>>>>>>>>>>>>>>>>>>>>>>>>>>>>>>>>>>>>>>>>>>>>>>>>>>>>>>>>>>\tdiff: 0.006586\n",
      "iter: 1600\t>>>>>>>>>>>>>>>>>>>>>>>>>>>>>>>>>>>>>>>>>>>>>>>>>>>>>>>>>>>>>>>>>>>>>>>>>>>>>>>>>>>>>>>>>>>>>>>>>>>>\tdiff: 0.005859\n",
      "iter: 1700\t>>>>>>>>>>>>>>>>>>>>>>>>>>>>>>>>>>>>>>>>>>>>>>>>>>>>>>>>>>>>>>>>>>>>>>>>>>>>>>>>>>>>>>>>>>>>>>>>>>>>\tdiff: 0.004983\n",
      "iter: 1800\t>>>>>>>>>>>>>>>>>>>>>>>>>>>>>>>>>>>>>>>>>>>>>>>>>>>>>>>>>>>>>>>>>>>>>>>>>>>>>>>>>>>>>>>>>>>>>>>>>>>>\tdiff: 0.008136\n",
      "iter: 1900\t>>>>>>>>>>>>>>>>>>>>>>>>>>>>>>>>>>>>>>>>>>>>>>>>>>>>>>>>>>>>>>>>>>>>>>>>>>>>>>>>>>>>>>>>>>>>>>>>>>>>\tdiff: 0.007559\n",
      "iter: 2000\t>>>>>>>>>>>>>>>>>>>>>>>>>>>>>>>>>>>>>>>>>>>>>>>>>>>>>>>>>>>>>>>>>>>>>>>>>>>>>>>>>>>>>>>>>>>>>>>>>>>>\tdiff: 0.006182\n",
      "iter: 2100\t>>>>>>>>>>>>>>>>>>>>>>>>>>>>>>>>>>>>>>>>>>>>>>>>>>>>>>>>>>>>>>>>>>>>>>>>>>>>>>>>>>>>>>>>>>>>>>>>>>>>\tdiff: 0.008282\n",
      "iter: 2200\t>>>>>>>>>>>>>>>>>>>>>>>>>>>>>>>>>>>>>>>>>>>>>>>>>>>>>>>>>>>>>>>>>>>>>>>>>>>>>>>>>>>>>>>>>>>>>>>>>>>>\tdiff: 0.007971\n",
      "iter: 2300\t>>>>>>>>>>>>>>>>>>>>>>>>>>>>>>>>>>>>>>>>>>>>>>>>>>>>>>>>>>>>>>>>>>>>>>>>>>>>>>>>>>>>>>>>>>>>>>>>>>>>\tdiff: 0.004918\n",
      "iter: 2400\t>>>>>>>>>>>>>>>>>>>>>>>>>>>>>>>>>>>>>>>>>>>>>>>>>>>>>>>>>>>>>>>>>>>>>>>>>>>>>>>>>>>>>>>>>>>>>>>>>>>>\tdiff: 0.006864\n",
      "iter: 2500\t>>>>>>>>>>>>>>>>>>>>>>>>>>>>>>>>>>>>>>>>>>>>>>>>>>>>>>>>>>>>>>>>>>>>>>>>>>>>>>>>>>>>>>>>>>>>>>>>>>>>\tdiff: 0.005628\n",
      "iter: 2600\t>>>>>>>>>>>>>>>>>>>>>>>>>>>>>>>>>>>>>>>>>>>>>>>>>>>>>>>>>>>>>>>>>>>>>>>>>>>>>>>>>>>>>>>>>>>>>>>>>>>>\tdiff: 0.004446\n",
      "iter: 2700\t>>>>>>>>>>>>>>>>>>>>>>>>>>>>>>>>>>>>>>>>>>>>>>>>>>>>>>>>>>>>>>>>>>>>>>>>>>>>>>>>>>>>>>>>>>>>>>>>>>>>\tdiff: 0.005285\n",
      "iter: 2800\t>>>>>>>>>>>>>>>>>>>>>>>>>>>>>>>>>>>>>>>>>>>>>>>>>>>>>>>>>>>>>>>>>>>>>>>>>>>>>>>>>>>>>>>>>>>>>>>>>>>>\tdiff: 0.003813\n",
      "iter: 2900\t>>>>>>>>>>>>>>>>>>>>>>>>>>>>>>>>>>>>>>>>>>>>>>>>>>>>>>>>>>>>>>>>>>>>>>>>>>>>>>>>>>>>>>>>>>>>>>>>>>>>\tdiff: 0.003401\n",
      "iter: 3000\t>>>>>>>>>>>>>>>>>>>>>>>>>>>>>>>>>>>>>>>>>>>>>>>>>>>>>>>>>>>>>>>>>>>>>>>>>>>>>>>>>>>>>>>>>>>>>>>>>>>>\tdiff: 0.004696\n",
      "iter: 3100\t>>>>>>>>>>>>>>>>>>>>>>>>>>>>>>>>>>>>>>>>>>>>>>>>>>>>>>>>>>>>>>>>>>>>>>>>>>>>>>>>>>>>>>>>>>>>>>>>>>>>\tdiff: 0.004213\n",
      "iter: 3200\t>>>>>>>>>>>>>>>>>>>>>>>>>>>>>>>>>>>>>>>>>>>>>>>>>>>>>>>>>>>>>>>>>>>>>>>>>>>>>>>>>>>>>>>>>>>>>>>>>>>>\tdiff: 0.004301\n",
      "iter: 3300\t>>>>>>>>>>>>>>>>>>>>>>>>>>>>>>>>>>>>>>>>>>>>>>>>>>>>>>>>>>>>>>>>>>>>>>>>>>>>>>>>>>>>>>>>>>>>>>>>>>>>\tdiff: 0.005836\n",
      "iter: 3400\t>>>>>>>>>>>>>>>>>>>>>>>>>>>>>>>>>>>>>>>>>>>>>>>>>>>>>>>>>>>>>>>>>>>>>>>>>>>>>>>>>>>>>>>>>>>>>>>>>>>>\tdiff: 0.003434\n",
      "iter: 3500\t>>>>>>>>>>>>>>>>>>>>>>>>>>>>>>>>>>>>>>>>>>>>>>>>>>>>>>>>>>>>>>>>>>>>>>>>>>>>>>>>>>>>>>>>>>>>>>>>>>>>\tdiff: 0.004450\n",
      "iter: 3600\t>>>>>>>>>>>>>>>>>>>>>>>>>>>>>>>>>>>>>>>>>>>>>>>>>>>>>>>>>>>>>>>>>>>>>>>>>>>>>>>>>>>>>>>>>>>>>>>>>>>>\tdiff: 0.004226\n",
      "iter: 3700\t>>>>>>>>>>>>>>>>>>>>>>>>>>>>>>>>>>>>>>>>>>>>>>>>>>>>>>>>>>>>>>>>>>>>>>>>>>>>>>>>>>>>>>>>>>>>>>>>>>>>\tdiff: 0.005106\n",
      "iter: 3800\t>>>>>>>>>>>>>>>>>>>>>>>>>>>>>>>>>>>>>>>>>>>>>>>>>>>>>>>>>>>>>>>>>>>>>>>>>>>>>>>>>>>>>>>>>>>>>>>>>>>>\tdiff: 0.002577\n",
      "iter: 3900\t>>>>>>>>>>>>>>>>>>>>>>>>>>>>>>>>>>>>>>>>>>>>>>>>>>>>>>>>>>>>>>>>>>>>>>>>>>>>>>>>>>>>>>>>>>>>>>>>>>>>\tdiff: 0.002212\n",
      "iter: 4000\t>>>>>>>>>>>>>>>>>>>>>>>>>>>>>>>>>>>>>>>>>>>>>>>>>>>>>>>>>>>>>>>>>>>>>>>>>>>>>>>>>>>>>>>>>>>>>>>>>>>>\tdiff: 0.004530\n",
      "iter: 4100\t>>>>>>>>>>>>>>>>>>>>>>>>>>>>>>>>>>>>>>>>>>>>>>>>>>>>>>>>>>>>>>>>>>>>>>>>>>>>>>>>>>>>>>>>>>>>>>>>>>>>\tdiff: 0.002804\n",
      "iter: 4200\t>>>>>>>>>>>>>>>>>>>>>>>>>>>>>>>>>>>>>>>>>>>>>>>>>>>>>>>>>>>>>>>>>>>>>>>>>>>>>>>>>>>>>>>>>>>>>>>>>>>>\tdiff: 0.003776\n",
      "iter: 4300\t>>>>>>>>>>>>>>>>>>>>>>>>>>>>>>>>>>>>>>>>>>>>>>>>>>>>>>>>>>>>>>>>>>>>>>>>>>>>>>>>>>>>>>>>>>>>>>>>>>>>\tdiff: 0.004950\n",
      "iter: 4400\t>>>>>>>>>>>>>>>>>>>>>>>>>>>>>>>>>>>>>>>>>>>>>>>>>>>>>>>>>>>>>>>>>>>>>>>>>>>>>>>>>>>>>>>>>>>>>>>>>>>>\tdiff: 0.001969\n",
      "iter: 4500\t>>>>>>>>>>>>>>>>>>>>>>>>>>>>>>>>>>>>>>>>>>>>>>>>>>>>>>>>>>>>>>>>>>>>>>>>>>>>>>>>>>>>>>>>>>>>>>>>>>>>\tdiff: 0.002655\n",
      "iter: 4600\t>>>>>>>>>>>>>>>>>>>>>>>>>>>>>>>>>>>>>>>>>>>>>>>>>>>>>>>>>>>>>>>>>>>>>>>>>>>>>>>>>>>>>>>>>>>>>>>>>>>>\tdiff: 0.004097\n",
      "iter: 4700\t>>>>>>>>>>>>>>>>>>>>>>>>>>>>>>>>>>>>>>>>>>>>>>>>>>>>>>>>>>>>>>>>>>>>>>>>>>>>>>>>>>>>>>>>>>>>>>>>>>>>\tdiff: 0.002931\n",
      "iter: 4800\t>>>>>>>>>>>>>>>>>>>>>>>>>>>>>>>>>>>>>>>>>>>>>>>>>>>>>>>>>>>>>>>>>>>>>>>>>>>>>>>>>>>>>>>>>>>>>>>>>>>>\tdiff: 0.001687\n",
      "iter: 4900\t>>>>>>>>>>>>>>>>>>>>>>>>>>>>>>>>>>>>>>>>>>>>>>>>>>>>>>>>>>>>>>>>>>>>>>>>>>>>>>>>>>>>>>>>>>>>>>>>>>>>\tdiff: 0.003450\n",
      "iter: 5000\t>>>>>>>>>>>>>>>>>>>>>>>>>>>>>>>>>>>>>>>>>>>>>>>>>>>>>>>>>>>>>>>>>>>>>>>>>>>>>>>>>>>>>>>>>>>>>>>>>>>>\tdiff: 0.002708\n",
      "iter: 5100\t>>>>>>>>>>>>>>>>>>>>>>>>>>>>>>>>>>>>>>>>>>>>>>>>>>>>>>>>>>>>>>>>>>>>>>>>>>>>>>>>>>>>>>>>>>>>>>>>>>>>\tdiff: 0.004486\n",
      "iter: 5200\t>>>>>>>>>>>>>>>>>>>>>>>>>>>>>>>>>>>>>>>>>>>>>>>>>>>>>>>>>>>>>>>>>>>>>>>>>>>>>>>>>>>>>>>>>>>>>>>>>>>>\tdiff: 0.002799\n",
      "iter: 5300\t>>>>>>>>>>>"
     ]
    }
   ],
   "source": [
    "np.random.seed(323)\n",
    "BlackJack_op = MCMC_BlackJack(tol=5e-4)\n",
    "BlackJack_op.policy_eval()"
   ]
  },
  {
   "cell_type": "code",
   "execution_count": null,
   "metadata": {},
   "outputs": [],
   "source": [
    "BlackJack_op.plot_policy()"
   ]
  },
  {
   "cell_type": "markdown",
   "metadata": {},
   "source": [
    "**(b)** Show a plot of the overall average reward per episode vs the number of episodes. What is the average reward your control strategy was able to achieve?"
   ]
  },
  {
   "cell_type": "code",
   "execution_count": null,
   "metadata": {},
   "outputs": [],
   "source": [
    "BlackJack_op.plot_running_returns()"
   ]
  },
  {
   "cell_type": "markdown",
   "metadata": {},
   "source": [
    "## 4\n",
    "\n",
    "### [10 points] Discuss your findings\n",
    "\n",
    "Compare the performance of your human control policy, the naive policy from question 2, and the optimal control policy in question 3. \n",
    "**(a)** Which performs best? Why is this the case? \n",
    "**(b)** Could you have created a better policy if you knew the full Markov Decision Process for this environment? Why or why not?"
   ]
  },
  {
   "cell_type": "markdown",
   "metadata": {},
   "source": [
    "**ANSWER**"
   ]
  },
  {
   "cell_type": "markdown",
   "metadata": {},
   "source": [
    "**(a)** For a long term perspective, the optimal policy derived from question 3 has the highest average returns. Using Monte Carlo Control, we could estimate the the expected returns for each action made at each state. This process is accomplished by playing large amount of games and recording their returns. By simulating large amount of games, the running average will be an unbiased estimation of the real expection for returns. The optimal policy we used in question 3 is simply choosing the action with a higher extimated action value. Thus, the actions made by this policy will optimize the overall average returns."
   ]
  },
  {
   "cell_type": "markdown",
   "metadata": {},
   "source": [
    "**(b)** It is impossible to have a better policy with the same amount of information. With an unlimited iteration, the estimated action value will be an unbiased estimation of the real expected returns. Making actions based on these action values will maximize the overall average returns. \n",
    "\n",
    "In this virtual game we cannot know the dealer's card before we finish our action. In the real world, however, if we could somehow gain the knowledge of the hidden card in the dealer's hand. In that situation, the expected returns will be differnt from the current one. We could take advantage of this extra information and accomplish a better policy (than the current one) with a higher overall average returns."
   ]
  }
 ],
 "metadata": {
  "kernelspec": {
   "display_name": "Python 3",
   "language": "python",
   "name": "python3"
  },
  "language_info": {
   "codemirror_mode": {
    "name": "ipython",
    "version": 3
   },
   "file_extension": ".py",
   "mimetype": "text/x-python",
   "name": "python",
   "nbconvert_exporter": "python",
   "pygments_lexer": "ipython3",
   "version": "3.7.1"
  },
  "varInspector": {
   "cols": {
    "lenName": 16,
    "lenType": 16,
    "lenVar": 40
   },
   "kernels_config": {
    "python": {
     "delete_cmd_postfix": "",
     "delete_cmd_prefix": "del ",
     "library": "var_list.py",
     "varRefreshCmd": "print(var_dic_list())"
    },
    "r": {
     "delete_cmd_postfix": ") ",
     "delete_cmd_prefix": "rm(",
     "library": "var_list.r",
     "varRefreshCmd": "cat(var_dic_list()) "
    }
   },
   "types_to_exclude": [
    "module",
    "function",
    "builtin_function_or_method",
    "instance",
    "_Feature"
   ],
   "window_display": false
  }
 },
 "nbformat": 4,
 "nbformat_minor": 2
}
