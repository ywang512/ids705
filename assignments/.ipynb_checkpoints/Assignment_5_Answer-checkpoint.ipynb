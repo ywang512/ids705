{
 "cells": [
  {
   "cell_type": "markdown",
   "metadata": {},
   "source": [
    "# Assignment 5 - Reinforcement Learning\n",
    "\n",
    "## *Yifei Wang*\n",
    "Netid:  *yw323*"
   ]
  },
  {
   "cell_type": "markdown",
   "metadata": {},
   "source": [
    "### Blackjack\n",
    "\n",
    "Your goal is to develop a reinforcement learning technique to learn the optimal policy for winning at blackjack. Here, we're going to modify the rules from traditional blackjack a bit in a way that corresponds to the game presented in Sutton and Barto's *Reinforcement Learning: An Introduction* (Chapter 5, example 5.1). A full implementation of the game is provided and usage examples are detailed in the class header below.\n",
    "\n",
    "The rules of this modified version of the game of blackjack are as follows:\n",
    "\n",
    "- Blackjack is a card game where the goal is to obtain cards that sum to as near as possible to 21 without going over.  We're playing against a fixed (autonomous) dealer.\n",
    "- Face cards (Jack, Queen, King) have point value 10. Aces can either count as 11 or 1, and we're refer to it as 'usable' at 11 (indicating that it could be used as a '1' if need be. This game is placed with a deck of cards sampled with replacement.\n",
    "- The game starts with each (player and dealer) having one face up and one face down card.\n",
    "- The player can request additional cards (hit, or action '1') until they decide to stop (stay, action '0') or exceed 21 (bust, the game ends and player loses).\n",
    "- After the player stays, the dealer reveals their facedown card, and draws until their sum is 17 or greater. If the dealer goes bust the player wins. If neither player nor dealer busts, the outcome (win, lose, draw) is decided by whose sum is closer to 21.  The reward for winning is +1, drawing is 0, and losing is -1.\n",
    "\n",
    "\n",
    "\n",
    "You will accomplish three things:\n",
    "1. Try your hand at this game of blackjack and see what your human reinforcement learning system is able to achieve\n",
    "2. Evaluate a simple policy using Monte Carlo policy evaluation\n",
    "3. Determine an optimal policy using Monte Carlo control\n",
    "\n",
    "*This problem is adapted from David Silver's [excellent series on Reinforcement Learning](http://www0.cs.ucl.ac.uk/staff/d.silver/web/Teaching.html) at University College London*"
   ]
  },
  {
   "cell_type": "markdown",
   "metadata": {},
   "source": [
    "## 1\n",
    "\n",
    "### [10 points] Human reinforcement learning \n",
    "\n",
    "Using the code detailed below, play 50 hands of blackjack, and record your overall average reward. This will help you get accustomed with how the game works, the data structures involved with representing states, and what strategies are most effective."
   ]
  },
  {
   "cell_type": "code",
   "execution_count": 1,
   "metadata": {},
   "outputs": [],
   "source": [
    "import numpy as np\n",
    "\n",
    "class Blackjack():\n",
    "    \"\"\"Simple blackjack environment adapted from OpenAI Gym:\n",
    "        https://github.com/openai/gym/blob/master/gym/envs/toy_text/blackjack.py\n",
    "    \n",
    "    Blackjack is a card game where the goal is to obtain cards that sum to as\n",
    "    near as possible to 21 without going over.  They're playing against a fixed\n",
    "    dealer.\n",
    "    \n",
    "    Face cards (Jack, Queen, King) have point value 10.\n",
    "    Aces can either count as 11 or 1, and it's called 'usable' at 11.\n",
    "    This game is placed with a deck sampled with replacement.\n",
    "    \n",
    "    The game starts with each (player and dealer) having one face up and one\n",
    "    face down card.\n",
    "    \n",
    "    The player can request additional cards (hit = 1) until they decide to stop\n",
    "    (stay = 0) or exceed 21 (bust).\n",
    "    \n",
    "    After the player stays, the dealer reveals their facedown card, and draws\n",
    "    until their sum is 17 or greater.  If the dealer goes bust the player wins.\n",
    "    If neither player nor dealer busts, the outcome (win, lose, draw) is\n",
    "    decided by whose sum is closer to 21.  The reward for winning is +1,\n",
    "    drawing is 0, and losing is -1.\n",
    "    \n",
    "    The observation is a 3-tuple of: the players current sum,\n",
    "    the dealer's one showing card (1-10 where 1 is ace),\n",
    "    and whether or not the player holds a usable ace (0 or 1).\n",
    "    \n",
    "    This environment corresponds to the version of the blackjack problem\n",
    "    described in Example 5.1 in Reinforcement Learning: An Introduction\n",
    "    by Sutton and Barto (1998).\n",
    "    \n",
    "    http://incompleteideas.net/sutton/book/the-book.html\n",
    "    \n",
    "    Usage: \n",
    "        Initialize the class:\n",
    "            game = Blackjack()\n",
    "        \n",
    "        Deal the cards:\n",
    "            game.deal()\n",
    "            \n",
    "             (14, 3, False)\n",
    "             \n",
    "            This is the agent's observation of the state of the game:\n",
    "            The first value is the sum of cards in your hand (14 in this case)\n",
    "            The second is the visible card in the dealer's hand (3 in this case)\n",
    "            The Boolean is a flag (False in this case) to indicate whether or \n",
    "                not you have a usable Ace\n",
    "            (Note: if you have a usable ace, the sum will treat the ace as a \n",
    "                value of '11' - this is the case if this Boolean flag is \"true\")\n",
    "            \n",
    "        Take an action: Hit (1) or stay (0)\n",
    "        \n",
    "            Take a hit: game.step(1)\n",
    "            To Stay:    game.step(0)\n",
    "            \n",
    "        The output summarizes the game status:\n",
    "            \n",
    "            ((15, 3, False), 0, False)\n",
    "            \n",
    "            The first tuple (15, 3, False), is the agent's observation of the\n",
    "            state of the game as described above.\n",
    "            The second value (0) indicates the rewards\n",
    "            The third value (False) indicates whether the game is finished\n",
    "    \"\"\"\n",
    "    \n",
    "    def __init__(self):\n",
    "        # 1 = Ace, 2-10 = Number cards, Jack/Queen/King = 10\n",
    "        self.deck   = [1, 2, 3, 4, 5, 6, 7, 8, 9, 10, 10, 10, 10]\n",
    "        self.dealer = []\n",
    "        self.player = []\n",
    "        self.deal()\n",
    "\n",
    "    def step(self, action):\n",
    "        if action == 1:  # hit: add a card to players hand and return\n",
    "            self.player.append(self.draw_card())\n",
    "            if self.is_bust(self.player):\n",
    "                done = True\n",
    "                reward = -1\n",
    "            else:\n",
    "                done = False\n",
    "                reward = 0\n",
    "        else:  # stay: play out the dealers hand, and score\n",
    "            done = True\n",
    "            while self.sum_hand(self.dealer) < 17:\n",
    "                self.dealer.append(self.draw_card())\n",
    "            reward = self.cmp(self.score(self.player), self.score(self.dealer))\n",
    "        return self._get_obs(), reward, done\n",
    "\n",
    "    def _get_obs(self):\n",
    "        return (self.sum_hand(self.player), self.dealer[0], self.usable_ace(self.player))\n",
    "\n",
    "    def deal(self):\n",
    "        self.dealer = self.draw_hand()\n",
    "        self.player = self.draw_hand()\n",
    "        return self._get_obs()\n",
    "    \n",
    "    #------------------------------------------\n",
    "    # Other helper functions\n",
    "    #------------------------------------------\n",
    "    def cmp(self, a, b):\n",
    "        return float(a > b) - float(a < b)\n",
    "    \n",
    "    def draw_card(self):\n",
    "        return int(np.random.choice(self.deck))\n",
    "    \n",
    "    def draw_hand(self):\n",
    "        return [self.draw_card(), self.draw_card()]\n",
    "    \n",
    "    def usable_ace(self,hand):  # Does this hand have a usable ace?\n",
    "        return 1 in hand and sum(hand) + 10 <= 21\n",
    "    \n",
    "    def sum_hand(self,hand):  # Return current hand total\n",
    "        if self.usable_ace(hand):\n",
    "            return sum(hand) + 10\n",
    "        return sum(hand)\n",
    "    \n",
    "    def is_bust(self,hand):  # Is this hand a bust?\n",
    "        return self.sum_hand(hand) > 21\n",
    "    \n",
    "    def score(self,hand):  # What is the score of this hand (0 if bust)\n",
    "        return 0 if self.is_bust(hand) else self.sum_hand(hand)"
   ]
  },
  {
   "cell_type": "markdown",
   "metadata": {},
   "source": [
    "Here's an example of how it works to get you started:"
   ]
  },
  {
   "cell_type": "code",
   "execution_count": 2,
   "metadata": {
    "scrolled": true
   },
   "outputs": [
    {
     "name": "stdout",
     "output_type": "stream",
     "text": [
      "(9, 6, False)\n",
      "((20, 6, True), 0, False)\n"
     ]
    }
   ],
   "source": [
    "import numpy as np\n",
    "\n",
    "# Initialize the class:\n",
    "game = Blackjack()\n",
    "\n",
    "# Deal the cards:\n",
    "s0 = game.deal()\n",
    "print(s0)\n",
    "\n",
    "# Take an action: Hit = 1 or stay = 0. Here's a hit:\n",
    "s1 = game.step(1)\n",
    "print(s1)\n",
    "\n",
    "# If you wanted to stay:\n",
    "# game.step(2)\n",
    "\n",
    "# When it's gameover, just redeal:\n",
    "# game.deal()"
   ]
  },
  {
   "cell_type": "markdown",
   "metadata": {},
   "source": [
    "**ANSWER**"
   ]
  },
  {
   "cell_type": "code",
   "execution_count": 67,
   "metadata": {},
   "outputs": [],
   "source": [
    "def human_policy(state):\n",
    "    '''\n",
    "    simplified human policy\n",
    "    '''\n",
    "    \n",
    "    player_state = state[0] if isinstance(state[0], tuple) else state\n",
    "    player_sum = player_state[0]\n",
    "    dealer_sum = player_state[1]\n",
    "    player_ace = player_state[2]\n",
    "    if dealer_sum in (1,7,8,9,10):\n",
    "        hit_thres = 16\n",
    "    else:\n",
    "        hit_thres = 15\n",
    "    if player_sum >= hit_thres:\n",
    "        action = 0\n",
    "    else:\n",
    "        action = 1\n",
    "    return action\n",
    "    \n",
    "\n",
    "def human_play(n_iter=50):\n",
    "    '''\n",
    "    use human policy to play for n_iter rounds\n",
    "    '''\n",
    "    \n",
    "    print(\">\"*10 + \" Human Policy\")\n",
    "    rewards = 0\n",
    "    states = []\n",
    "    for n in range(n_iter):\n",
    "        state = []\n",
    "        game = Blackjack()\n",
    "        state.append(game.deal())\n",
    "        done = False\n",
    "        if not done:\n",
    "            s = game.step(human_policy(state[-1]))\n",
    "            state.append(s[0])\n",
    "            done = s[2]\n",
    "            rewards += s[1]\n",
    "        state.append(s[1])\n",
    "        states.append(state)\n",
    "    print(\"n_hands: %d\\trewards: %d\" % (n_iter, rewards))\n",
    "    return states, rewards\n",
    "\n",
    "\n",
    "def states_print(states):\n",
    "    '''\n",
    "    print the states\n",
    "    '''\n",
    "    print(\">>>>>  Result for %d States  >>>>>\" % len(states))\n",
    "    for state in states:\n",
    "        for s in state:\n",
    "            print(s, end=\"\\t\")\n",
    "        print(\"\")\n"
   ]
  },
  {
   "cell_type": "code",
   "execution_count": 75,
   "metadata": {},
   "outputs": [
    {
     "name": "stdout",
     "output_type": "stream",
     "text": [
      ">>>>>>>>>> Human Policy\n",
      "n_hands: 50\t\trewards: -12\n",
      ">>>>>  Result for 50 States  >>>>>\n",
      "(20, 3, False)\t(20, 3, False)\t1.0\t\n",
      "(13, 5, False)\t(23, 5, False)\t-1\t\n",
      "(14, 6, False)\t(16, 6, False)\t0\t\n",
      "(10, 5, False)\t(20, 5, False)\t0\t\n",
      "(20, 4, False)\t(20, 4, False)\t0.0\t\n",
      "(13, 10, False)\t(18, 10, False)\t0\t\n",
      "(13, 10, False)\t(23, 10, False)\t-1\t\n",
      "(20, 3, False)\t(20, 3, False)\t-1.0\t\n",
      "(11, 10, False)\t(21, 10, False)\t0\t\n",
      "(19, 6, False)\t(19, 6, False)\t-1.0\t\n",
      "(15, 10, False)\t(21, 10, False)\t0\t\n",
      "(14, 10, False)\t(24, 10, False)\t-1\t\n",
      "(6, 2, False)\t(14, 2, False)\t0\t\n",
      "(16, 10, False)\t(16, 10, False)\t-1.0\t\n",
      "(16, 6, True)\t(16, 6, True)\t-1.0\t\n",
      "(12, 1, False)\t(19, 1, False)\t0\t\n",
      "(14, 3, False)\t(22, 3, False)\t-1\t\n",
      "(17, 10, False)\t(17, 10, False)\t1.0\t\n",
      "(10, 3, False)\t(20, 3, False)\t0\t\n",
      "(20, 5, False)\t(20, 5, False)\t1.0\t\n",
      "(18, 6, False)\t(18, 6, False)\t-1.0\t\n",
      "(12, 10, False)\t(20, 10, False)\t0\t\n",
      "(18, 10, False)\t(18, 10, False)\t1.0\t\n",
      "(17, 8, False)\t(17, 8, False)\t-1.0\t\n",
      "(6, 8, False)\t(9, 8, False)\t0\t\n",
      "(12, 10, False)\t(15, 10, False)\t0\t\n",
      "(15, 4, False)\t(15, 4, False)\t-1.0\t\n",
      "(18, 1, False)\t(18, 1, False)\t0.0\t\n",
      "(11, 10, False)\t(21, 10, False)\t0\t\n",
      "(16, 1, False)\t(16, 1, False)\t1.0\t\n",
      "(17, 4, False)\t(17, 4, False)\t0.0\t\n",
      "(12, 8, False)\t(22, 8, False)\t-1\t\n",
      "(17, 8, False)\t(17, 8, False)\t-1.0\t\n",
      "(14, 8, False)\t(24, 8, False)\t-1\t\n",
      "(12, 7, False)\t(21, 7, False)\t0\t\n",
      "(11, 4, False)\t(14, 4, False)\t0\t\n",
      "(16, 2, False)\t(16, 2, False)\t-1.0\t\n",
      "(14, 5, True)\t(19, 5, True)\t0\t\n",
      "(6, 10, False)\t(16, 10, False)\t0\t\n",
      "(6, 9, False)\t(9, 9, False)\t0\t\n",
      "(17, 6, False)\t(17, 6, False)\t1.0\t\n",
      "(13, 10, False)\t(18, 10, False)\t0\t\n",
      "(12, 2, False)\t(13, 2, False)\t0\t\n",
      "(13, 4, False)\t(23, 4, False)\t-1\t\n",
      "(16, 10, True)\t(16, 10, True)\t1.0\t\n",
      "(15, 10, False)\t(23, 10, False)\t-1\t\n",
      "(18, 9, False)\t(18, 9, False)\t-1.0\t\n",
      "(14, 10, False)\t(22, 10, False)\t-1\t\n",
      "(5, 7, False)\t(15, 7, False)\t0\t\n",
      "(9, 5, False)\t(19, 5, False)\t0\t\n",
      "expected rewards 0\n"
     ]
    }
   ],
   "source": [
    "states, rewards = human_play(n_iter=50)\n",
    "states_print(states)\n",
    "print(\"expected rewards %a\" % (rewards/50))"
   ]
  },
  {
   "cell_type": "markdown",
   "metadata": {},
   "source": [
    "## 2\n",
    "\n",
    "### [40 points] Perform Monte Carlo Policy Evaluation\n",
    "\n",
    "Thinking that you want to make your millions playing blackjack, you decide to test out a policy for playing this game. Your idea is an aggressive strategy: always hit unless the total of your cards adds up to 20 or 21, in which case you stay.\n",
    "\n",
    "**(a)** Use Monte Carlo policy evaluation to evaluate the expected returns from each state. Create plots for these similar to Sutton and Barto, Figure 5.1 where you plot the expected returns for each state. In this case create 2 plots:\n",
    "1. When you have a useable ace, plot the state space with the dealer's card on the x-axis, and the player's sum on the y-axis, and use the 'RdBu' matplotlib colormap and `imshow` to plot the value of each state under the policy described above. The domain of your x and y axes should include all possible states (2 to 21 for the player sum, and 1 to 10 for the dealer's card). Do this for for 10,000 episodes.\n",
    "2. Repeat (1) for the states without a usable ace.\n",
    "3. Repeat (1) for the case of 500,000 episodes.\n",
    "4. Relwat (2) for the case of 500,000 episodes.\n",
    "\n",
    "**(b)** Show a plot of the overall average reward per episode vs the number of episodes. For both the 10,000 episode case and the 500,000 episode case, record the overall average reward for this policy and report that value. "
   ]
  },
  {
   "cell_type": "markdown",
   "metadata": {},
   "source": [
    "**ANSWER**"
   ]
  },
  {
   "cell_type": "markdown",
   "metadata": {},
   "source": [
    "**(a)** Use Monte Carlo policy evaluation to evaluate the expected returns from each state. Create plots for these similar to Sutton and Barto, Figure 5.1 where you plot the expected returns for each state."
   ]
  },
  {
   "cell_type": "code",
   "execution_count": 74,
   "metadata": {},
   "outputs": [],
   "source": [
    "def aggressive_policy(state):\n",
    "    '''\n",
    "    aggressive human policy\n",
    "    '''\n",
    "\n",
    "    player_state = state[0] if isinstance(state[0], tuple) else state\n",
    "    player_sum = player_state[0]\n",
    "    dealer_sum = player_state[1]\n",
    "    player_ace = player_state[2]\n",
    "    hit_thres = 20\n",
    "    if player_sum >= hit_thres:\n",
    "        action = 0\n",
    "    else:\n",
    "        action = 1\n",
    "    return action"
   ]
  },
  {
   "cell_type": "code",
   "execution_count": 237,
   "metadata": {},
   "outputs": [],
   "source": [
    "import matplotlib.pyplot as plt\n",
    "%matplotlib inline\n",
    "\n",
    "def iter_play(N, policy):\n",
    "    '''\n",
    "    x - dealer: 1 - 10\n",
    "    y - player: 2 - 21\n",
    "    '''\n",
    "    \n",
    "    expected_return_N = np.zeros((20, 10), dtype=int)\n",
    "    expected_return_N_c = np.zeros((20, 10), dtype=int)\n",
    "    expected_return_A = np.zeros((20, 10), dtype=int)\n",
    "    expected_return_A_c = np.zeros((20, 10), dtype=int)\n",
    "    \n",
    "    for i in range(N):\n",
    "        done = False\n",
    "        game = Blackjack()\n",
    "        s = game.deal()\n",
    "        player_i = s[0] - 2\n",
    "        dealer_i = s[1] - 1\n",
    "        ace = s[2]\n",
    "        \n",
    "        while not done:\n",
    "            s, reward, done = game.step(policy(s))\n",
    "                \n",
    "        # useable Ace\n",
    "        if ace:\n",
    "            expected_return_A[player_i, dealer_i] += reward\n",
    "            expected_return_A_c[player_i, dealer_i] += 1\n",
    "        \n",
    "        # no useable Ace\n",
    "        else:\n",
    "            expected_return_N[player_i, dealer_i] += reward\n",
    "            expected_return_N_c[player_i, dealer_i] += 1\n",
    "        \n",
    "        expected_return_A_c[expected_return_A_c == 0] = 1\n",
    "        expected_return_N_c[expected_return_N_c == 0] = 1\n",
    "        \n",
    "    return np.divide(expected_return_A, expected_return_A_c), np.divide(expected_return_N, expected_return_N_c)"
   ]
  },
  {
   "cell_type": "code",
   "execution_count": 304,
   "metadata": {},
   "outputs": [
    {
     "data": {
      "image/png": "[encoded data removed]",
      "text/plain": [
       "<Figure size 864x720 with 4 Axes>"
      ]
     },
     "metadata": {
      "needs_background": "light"
     },
     "output_type": "display_data"
    }
   ],
   "source": [
    "expected_returns = iter_play(N = 10000, policy=aggressive_policy)\n",
    "titles = [\"with useable Ace\", \"without useable Ace\"]\n",
    "\n",
    "plt.figure(figsize=(12,10))\n",
    "plt.subplot(1,2,1)\n",
    "plt.imshow(expected_returns[0], vmin=-1, vmax=1, cmap=\"RdBu\")\n",
    "plt.title(titles[0], fontsize=18)\n",
    "plt.xlabel(\"Dealer's Card\", fontsize=14)\n",
    "plt.xticks(np.arange(10), list(map(str, np.arange(1,11))))\n",
    "plt.ylabel(\"Player's Sum\", fontsize=14)\n",
    "plt.yticks(np.arange(20), list(map(str, np.arange(2,22))))\n",
    "plt.colorbar()\n",
    "\n",
    "plt.subplot(1,2,2)\n",
    "plt.imshow(expected_returns[1], vmin=-1, vmax=1, cmap=\"RdBu\")\n",
    "plt.title(titles[1], fontsize=18)\n",
    "plt.xlabel(\"Dealer's Card\", fontsize=14)\n",
    "plt.xticks(np.arange(10), list(map(str, np.arange(1,11))))\n",
    "plt.ylabel(\"Player's Sum\", fontsize=14)\n",
    "plt.yticks(np.arange(20), list(map(str, np.arange(2,22))))\n",
    "plt.colorbar()\n",
    "\n",
    "plt.suptitle(\"Expected Returns for Each State\", y=0.93, fontsize=22)\n",
    "plt.show()"
   ]
  },
  {
   "cell_type": "code",
   "execution_count": 303,
   "metadata": {},
   "outputs": [
    {
     "data": {
      "image/png": "[encoded data removed]",
      "text/plain": [
       "<Figure size 864x720 with 4 Axes>"
      ]
     },
     "metadata": {
      "needs_background": "light"
     },
     "output_type": "display_data"
    }
   ],
   "source": [
    "expected_returns = iter_play(N = 500000, policy=aggressive_policy)\n",
    "titles = [\"with useable Ace\", \"without useable Ace\"]\n",
    "\n",
    "plt.figure(figsize=(12,10))\n",
    "plt.subplot(1,2,1)\n",
    "plt.imshow(expected_returns[0], vmin=-1, vmax=1, cmap=\"RdBu\")\n",
    "plt.title(titles[0], fontsize=18)\n",
    "plt.xlabel(\"Dealer's Card\", fontsize=14)\n",
    "plt.xticks(np.arange(10), list(map(str, np.arange(1,11))))\n",
    "plt.ylabel(\"Player's Sum\", fontsize=14)\n",
    "plt.yticks(np.arange(20), list(map(str, np.arange(2,22))))\n",
    "plt.colorbar()\n",
    "\n",
    "plt.subplot(1,2,2)\n",
    "plt.imshow(expected_returns[1], vmin=-1, vmax=1, cmap=\"RdBu\")\n",
    "plt.title(titles[1], fontsize=18)\n",
    "plt.xlabel(\"Dealer's Card\", fontsize=14)\n",
    "plt.xticks(np.arange(10), list(map(str, np.arange(1,11))))\n",
    "plt.ylabel(\"Player's Sum\", fontsize=14)\n",
    "plt.yticks(np.arange(20), list(map(str, np.arange(2,22))))\n",
    "plt.colorbar()\n",
    "\n",
    "plt.suptitle(\"Expected Returns for Each State\", y=0.93, fontsize=22)\n",
    "plt.show()"
   ]
  },
  {
   "cell_type": "markdown",
   "metadata": {},
   "source": [
    "**(b)** Show a plot of the overall average reward per episode vs the number of episodes. For both the 10,000 episode case and the 500,000 episode case, record the overall average reward for this policy and report that value. "
   ]
  },
  {
   "cell_type": "code",
   "execution_count": 302,
   "metadata": {},
   "outputs": [
    {
     "data": {
      "image/png": "[encoded data removed]",
      "text/plain": [
       "<Figure size 1152x432 with 1 Axes>"
      ]
     },
     "metadata": {
      "needs_background": "light"
     },
     "output_type": "display_data"
    }
   ],
   "source": [
    "np.random.seed(323)\n",
    "N = 500000\n",
    "rewards = []\n",
    "\n",
    "for i in range(N):\n",
    "    done = False\n",
    "    game = Blackjack()\n",
    "    s = game.deal()\n",
    "    player_i = s[0] - 2\n",
    "    dealer_i = s[1] - 1\n",
    "    ace = s[2]\n",
    "    while not done:\n",
    "        s, reward, done = game.step(aggressive_policy(s))\n",
    "    rewards.append(reward)\n",
    "expected_returns = np.cumsum(rewards) / np.arange(1, N+1)\n",
    "\n",
    "plt.figure(figsize=(16,6))\n",
    "plt.plot(np.arange(1, N+1), expected_returns, '-')\n",
    "plt.title(\"Expected Returns vs. Number of Episodes\", fontsize=18)\n",
    "plt.xlabel(\"Number of Episodes\", fontsize=16)\n",
    "plt.ylabel(\"Expected Returns\", fontsize=16)\n",
    "plt.show()"
   ]
  },
  {
   "cell_type": "code",
   "execution_count": 242,
   "metadata": {},
   "outputs": [],
   "source": [
    "def iter_play_avg(N, policy):\n",
    "    '''\n",
    "    average of the returns\n",
    "    '''\n",
    "    \n",
    "    expected_return = 0\n",
    "    \n",
    "    for i in range(N):\n",
    "        done = False\n",
    "        game = Blackjack()\n",
    "        s = game.deal()\n",
    "        player_i = s[0] - 2\n",
    "        dealer_i = s[1] - 1\n",
    "        ace = s[2]\n",
    "        \n",
    "        while not done:\n",
    "            s, reward, done = game.step(policy(s))\n",
    "                \n",
    "        expected_return += reward\n",
    "        \n",
    "    return expected_return / N"
   ]
  },
  {
   "cell_type": "code",
   "execution_count": 300,
   "metadata": {},
   "outputs": [
    {
     "data": {
      "image/png": "[encoded data removed]",
      "text/plain": [
       "<Figure size 1152x432 with 1 Axes>"
      ]
     },
     "metadata": {
      "needs_background": "light"
     },
     "output_type": "display_data"
    }
   ],
   "source": [
    "N = np.round(5 * np.logspace(1, 5, 10))\n",
    "expected_returns2 = []\n",
    "for n in N:\n",
    "    expected_returns2.append(iter_play_avg(int(n), policy=aggressive_policy))\n",
    "\n",
    "plt.figure(figsize=(16,6))\n",
    "plt.plot(N, expected_returns2, '-')\n",
    "plt.title(\"Expected Returns vs. Number of Episodes\", fontsize=18)\n",
    "plt.xlabel(\"Number of Episodes\", fontsize=16)\n",
    "plt.ylabel(\"Expected Returns\", fontsize=16)\n",
    "plt.show()"
   ]
  },
  {
   "cell_type": "markdown",
   "metadata": {},
   "source": [
    "## 3\n",
    "\n",
    "### [40 points] Perform Monte Carlo Control\n",
    "\n",
    "**(a)** Using Monte Carlo Control through policy iteration, estimate the optimal policy for playing our modified blackjack game to maximize rewards. \n",
    "\n",
    "In doing this, use the following assumptions:\n",
    "1. Initialize the value function and the state value function to all zeros\n",
    "2. Keep a running tally of the number of times the agent visited each state and chose an action. $N(s_t,a_t)$ is the number of times action $a$ has been selected from state $s$. You'll need this to compute the running average. You can implement an online average as: $\\bar{x}_{t} = \\frac{1}{N}x_t + \\frac{N-1}{N}\\bar{x}_{t-1}$ \n",
    "3. Use an $\\epsilon$-greedy exploration strategy with $\\epsilon_t = \\frac{N_0}{N_0 + N(s_t)}$, where we define $N_0 = 100$. Vary $N_0$ as needed.\n",
    "\n",
    "Show your result by plotting the optimal value function: $V^*(s) = max_a Q^*(s,a)$ and the optimal policy $\\pi^*(s)$. Create plots for these similar to Sutton and Barto, Figure 5.2 in the new draft edition, or 5.5 in the original edition. Your results SHOULD be very similar to the plots in that text. For these plots include:\n",
    "1. When you have a useable ace, plot the state space with the dealer's card on the x-axis, and the player's sum on the y-axis, and use the 'RdBu' matplotlib colormap and `imshow` to plot the value of each state under the policy described above. The domain of your x and y axes should include all possible states (2 to 21 for the player sum, and 1 to 10 for the dealer's visible card).\n",
    "2. Repeat (1) for the states without a usable ace.\n",
    "3. A plot of the optimal policy $\\pi^*(s)$ for the states with a usable ace (this plot could be an imshow plot with binary values).\n",
    "4. A plot of the optimal policy $\\pi^*(s)$ for the states without a usable ace (this plot could be an imshow plot with binary values).\n",
    "\n",
    "**(b)** Show a plot of the overall average reward per episode vs the number of episodes. What is the average reward your control strategy was able to achieve?\n",
    "\n",
    "*Note: convergence of this algorithm is extremely slow. You may need to let this run a few million episodes before the policy starts to converge. You're not expected to get EXACTLY the optimal policy, but it should be visibly close.* "
   ]
  },
  {
   "cell_type": "markdown",
   "metadata": {},
   "source": [
    "**ANSWER**"
   ]
  },
  {
   "cell_type": "markdown",
   "metadata": {},
   "source": [
    "## 4\n",
    "\n",
    "### [10 points] Discuss your findings\n",
    "\n",
    "Compare the performance of your human control policy, the naive policy from question 2, and the optimal control policy in question 3. \n",
    "**(a)** Which performs best? Why is this the case? \n",
    "**(b)** Could you have created a better policy if you knew the full Markov Decision Process for this environment? Why or why not?"
   ]
  },
  {
   "cell_type": "markdown",
   "metadata": {},
   "source": [
    "**ANSWER**"
   ]
  }
 ],
 "metadata": {
  "kernelspec": {
   "display_name": "Python 3",
   "language": "python",
   "name": "python3"
  },
  "language_info": {
   "codemirror_mode": {
    "name": "ipython",
    "version": 3
   },
   "file_extension": ".py",
   "mimetype": "text/x-python",
   "name": "python",
   "nbconvert_exporter": "python",
   "pygments_lexer": "ipython3",
   "version": "3.7.1"
  },
  "varInspector": {
   "cols": {
    "lenName": 16,
    "lenType": 16,
    "lenVar": 40
   },
   "kernels_config": {
    "python": {
     "delete_cmd_postfix": "",
     "delete_cmd_prefix": "del ",
     "library": "var_list.py",
     "varRefreshCmd": "print(var_dic_list())"
    },
    "r": {
     "delete_cmd_postfix": ") ",
     "delete_cmd_prefix": "rm(",
     "library": "var_list.r",
     "varRefreshCmd": "cat(var_dic_list()) "
    }
   },
   "types_to_exclude": [
    "module",
    "function",
    "builtin_function_or_method",
    "instance",
    "_Feature"
   ],
   "window_display": false
  }
 },
 "nbformat": 4,
 "nbformat_minor": 2
}
