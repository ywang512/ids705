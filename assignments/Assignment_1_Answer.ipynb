{
 "cells": [
  {
   "cell_type": "markdown",
   "metadata": {},
   "source": [
    "# Assignment 1 - Probability, Linear Algebra, Programming, and Git\n",
    "\n",
    "## *Yifei Wang*\n",
    "Netid:  *yw323*"
   ]
  },
  {
   "cell_type": "markdown",
   "metadata": {},
   "source": [
    "# Probability and Statistics Theory"
   ]
  },
  {
   "cell_type": "markdown",
   "metadata": {},
   "source": [
    "## 1\n",
    "Let $f(x) = \\begin{cases}\n",
    "                0           & x < 0  \\\\\n",
    "                \\alpha x^2  & 0 \\leq x \\leq 2 \\\\\n",
    "                0           & 2 < x\n",
    "            \\end{cases}$\n",
    "            \n",
    "For what value of $\\alpha$ is $f(x)$ a valid probability density function?\n",
    "\n",
    "*Note: for all assignments, write out all equations and math for all assignments using markdown and [LaTeX](https://tobi.oetiker.ch/lshort/lshort.pdf) and show all work*"
   ]
  },
  {
   "cell_type": "markdown",
   "metadata": {},
   "source": [
    "**ANSWER**\n",
    "\n",
    "For a valid probability density function, $f(x)$ should satisfy that $\\int_{-\\infty}^{+\\infty} f(x) = 1$. Thus we have,\n",
    "\n",
    "$$\n",
    "\\begin{align}\n",
    "1 &= \\int_{-\\infty}^{+\\infty} f(x) \\mathrm{d}x \\\\ \n",
    "  &= \\int_{-\\infty}^{0} 0 \\mathrm{d}x + \\int_{0}^{2} \\alpha x^2 \\mathrm{d}x + \\int_{2}^{\\infty} 0 \\mathrm{d}x \\\\\n",
    "  &= \\frac83 \\alpha\n",
    "\\end{align}\n",
    "$$\n",
    "\n",
    "Therefore, we have that $\\alpha = \\frac38$\n",
    "\n",
    "This also satisfies the requirement of $f(x)>0$ for a probability density function."
   ]
  },
  {
   "cell_type": "markdown",
   "metadata": {},
   "source": [
    "## 2\n",
    "What is the cumulative distribution function (CDF) that corresponds to the following probability distribution function? Please state the value of the CDF for all possible values of $x$.\n",
    "\n",
    "$f(x) = \\begin{cases}\n",
    "    \\frac{1}{3} & 0 < x < 3 \\\\\n",
    "    0           & \\text{otherwise}\n",
    "    \\end{cases}$"
   ]
  },
  {
   "cell_type": "markdown",
   "metadata": {},
   "source": [
    "**ANSWER**\n",
    "\n",
    "Denote the CDF of $f(x)$ as $P(X)$. For any $0 < X < 3$ we have,\n",
    "\n",
    "$$\n",
    "\\begin{align}\n",
    "P(X) &= \\int_{-\\infty}^{X} f(x) \\mathrm{d}x \\\\\n",
    "     &= \\int_{-\\infty}^{0} 0 \\mathrm{d}x + \\int_{0}^{X} \\frac{1}{3} \\mathrm{d}x \\\\\n",
    "     &= \\frac{X}{3}\n",
    "\\end{align}\n",
    "$$\n",
    "\n",
    "Therefore for any $X \\in \\mathbb{R}$ we have,\n",
    "\n",
    "$$\n",
    "P(X) = \\begin{cases}\n",
    "    0           & X \\le 0 \\\\\n",
    "    \\dfrac{X}{3} & 0 < X \\le 3 \\\\\n",
    "    1           & X > 3 \\\\\n",
    "    \\end{cases}\n",
    "$$"
   ]
  },
  {
   "cell_type": "markdown",
   "metadata": {},
   "source": [
    "## 3\n",
    "For the probability distribution function for the random variable $X$,\n",
    "\n",
    "$f(x) = \\begin{cases}\n",
    "    \\frac{1}{3} & 0 < x < 3 \\\\\n",
    "    0           & \\text{otherwise}\n",
    "    \\end{cases}$\n",
    "    \n",
    "what is the (a) expected value and (b) variance of $X$. *Show all work*."
   ]
  },
  {
   "cell_type": "markdown",
   "metadata": {},
   "source": [
    "**ANSWER**\n",
    "\n",
    "(a) Expected value:\n",
    "\n",
    "$$\n",
    "\\begin{aligned}\n",
    "\\mathrm{E} [X] &= \\int_{-\\infty}^{\\infty} x f(x) \\mathrm{d}x \\\\\n",
    "               &= \\int_0^3 \\frac x3 \\mathrm{d}x \\\\\n",
    "               &= \\frac 32\n",
    "\\end{aligned}\n",
    "$$\n",
    "\n",
    "\n",
    "(b) Variance:\n",
    "\n",
    "Denote $\\mu$ as $\\mathrm{E}[X]$, then we have,\n",
    "\n",
    "$$\n",
    "\\begin{align}\n",
    "\\mathrm{Var} [X] &= \\int_{-\\infty}^{\\infty} (x - \\mu)^2 f(x) \\mathrm{d}x \\\\\n",
    "                 &= \\int_{-\\infty}^{\\infty} x^2 f(x) \\mathrm{d}x - \n",
    "                    2\\mu \\int_{-\\infty}^{\\infty} x f(x) \\mathrm{d}x +\n",
    "                    \\mu^2 \\int_{-\\infty}^{\\infty} f(x) \\mathrm{d}x \\\\\n",
    "                 &= \\int_{-\\infty}^{\\infty} x^2 f(x) \\mathrm{d}x - \\mu^2 \\\\\n",
    "                 &= \\int_0^3 \\frac {x^2}3 \\mathrm{d}x - (\\frac32)^2 \\\\\n",
    "                 &= 3 - \\frac94 \\\\\n",
    "                 &= \\frac34\n",
    "\\end{align}\n",
    "$$"
   ]
  },
  {
   "cell_type": "markdown",
   "metadata": {},
   "source": [
    "## 4\n",
    "Consider the following table of data that provides the values of a discrete data vector $\\mathbf{x}$ of samples from the random variable $X$, where each entry in $\\mathbf{x}$ is given as $x_i$.\n",
    "\n",
    "*Table 1. Dataset N=5 observations*\n",
    "\n",
    "|   n     | $x_0$ | $x_1$ | $x_2$ | $x_3$ | $x_4$ |\n",
    "|------  |-------|-------|-------|-------|-------|\n",
    "|$\\textbf{x}$| 2     | 3     | 10    | -1    | -1    |\n",
    "\n",
    "What is the (a) mean, (b) variance, and the  of the data? \n",
    "\n",
    "*Show all work. Your answer should include the definition of mean, median, and variance in the context of discrete data.*"
   ]
  },
  {
   "cell_type": "markdown",
   "metadata": {},
   "source": [
    "**ANSWER**\n",
    "\n",
    "(a) Mean\n",
    "\n",
    "$$\n",
    "\\begin{aligned}\n",
    "\\mathrm{E} [X] &= \\frac1N \\sum_0^N x_i \\\\\n",
    "               &= \\frac15 \\times (2 + 3 + 10 + (-1) + (-1)) \\\\\n",
    "               &= 2.6\n",
    "\\end{aligned}\n",
    "$$\n",
    "\n",
    "(b) Variance\n",
    "\n",
    "$$\n",
    "\\begin{aligned}\n",
    "\\mathrm{Var} [X] &= \\frac1N \\sum_0^N (x_i - \\mathrm{E}[X])^2 \\\\\n",
    "                 &= \\frac15 \\times ((2 - 2.6)^2 + (3 - 2.6)^2 + (10 - 2.6)^2 + (-1 - 2.6)^2 + (-1 - 2.6)^2) \\\\\n",
    "                 &= 16.24\n",
    "\\end{aligned}\n",
    "$$\n",
    "\n",
    "(c) Median\n",
    "\n",
    "The median is the middle value that separates the higher half from the lower half of a data sample.\n",
    "\n",
    "Therefore, the median of this data is 2."
   ]
  },
  {
   "cell_type": "markdown",
   "metadata": {},
   "source": [
    "## 5\n",
    "Review of counting from probability theory. \n",
    "\n",
    "(a) How many different 7-place license plates are possible if the first 3 places only contain letters and the last 4 only contain numbers?\n",
    "\n",
    "(b) How many different batting orders are possible for a baseball team with 9 players?\n",
    "\n",
    "(c) How many batting orders of 5 players are possible for a team with 9 players total?\n",
    "\n",
    "(d) Let's assume this class has 26 students and we want to form project teams. How many unique teams of 3 are possible?\n",
    "\n",
    "*Hint: For each problem, determine if order matters, and if it should be calculated with or without replacement.*"
   ]
  },
  {
   "cell_type": "markdown",
   "metadata": {},
   "source": [
    "**ANSWER**\n",
    "\n",
    "(a)\n",
    "\n",
    "There are 26 different letters (a-z) and 10 different numbers (0-9) in all. Also, order matters for this problem, and it should be calculated with replacement because repeated characters are allowed. Thus there are\n",
    "$26 \\times 26 \\times 26 \\times 10 \\times 10 \\times 10 \\times 10 = 175760000$\n",
    "different 2-place license plates.\n",
    "\n",
    "(b)\n",
    "\n",
    "Order matters for this problem, and it should be calculated without replacement because one player could only take one position. This is a permutation of 9 players. Thus there are $9! = 362880$ different possible batting orders for these 9 players.\n",
    "\n",
    "(c)\n",
    "\n",
    "Order matters for this problem, and it should be calculated without replacement because one player could only take one position. This is the permutation of 5 players from 9 players. Thus there are $9 \\times 8 \\times 7 \\times 6 \\times 5 = 15120$ different possible batting orders for choosing 5 players from 9 players.\n",
    "\n",
    "(d)\n",
    "\n",
    "Order does not matter for this problem, and  it should be calculated without replacement. This is a combination problem, so there are ${26 \\choose 3} = 2600$ possible unique teams of 3."
   ]
  },
  {
   "cell_type": "markdown",
   "metadata": {},
   "source": [
    "# Linear Algebra"
   ]
  },
  {
   "cell_type": "markdown",
   "metadata": {},
   "source": [
    "## 6\n",
    "**Matrix manipulations and multiplication**. Machine learning involves working with many matrices, so this exercise will provide you with the opportunity to practice those skills.\n",
    "\n",
    "Let\n",
    "$\\mathbf{A} =  \\begin{bmatrix}\n",
    "1 & 2 & 3 \\\\\n",
    "2 & 4 & 5 \\\\\n",
    "3 & 5 & 6 \n",
    "\\end{bmatrix}$, $\\mathbf{b} =  \\begin{bmatrix}\n",
    "-1  \\\\\n",
    "3  \\\\\n",
    "8  \n",
    "\\end{bmatrix}$, $\\mathbf{c} =  \\begin{bmatrix}\n",
    "4  \\\\\n",
    "-3  \\\\\n",
    "6  \n",
    "\\end{bmatrix}$, and $\\mathbf{I} =  \\begin{bmatrix}\n",
    "1 & 0 & 0 \\\\\n",
    "0 & 1 & 0 \\\\\n",
    "0 & 0 & 1 \n",
    "\\end{bmatrix}$\n",
    "\n",
    "Compute the following or indicate that it cannot be computed:\n",
    "\n",
    "1. $\\mathbf{A}\\mathbf{A}$\n",
    "2. $\\mathbf{A}\\mathbf{A}^T$\n",
    "3. $\\mathbf{A}\\mathbf{b}$\n",
    "4. $\\mathbf{A}\\mathbf{b}^T$\n",
    "5. $\\mathbf{b}\\mathbf{A}$\n",
    "6. $\\mathbf{b}^T\\mathbf{A}$\n",
    "7. $\\mathbf{b}\\mathbf{b}$\n",
    "8. $\\mathbf{b}^T\\mathbf{b}$\n",
    "9. $\\mathbf{b}\\mathbf{b}^T$\n",
    "10. $\\mathbf{b} + \\mathbf{c}^T$\n",
    "11. $\\mathbf{b}^T\\mathbf{b}^T$\n",
    "12. $\\mathbf{A}^{-1}\\mathbf{b}$\n",
    "13. $\\mathbf{A}\\circ\\mathbf{A}$\n",
    "14. $\\mathbf{b}\\circ\\mathbf{c}$\n",
    "\n",
    "*Note: The element-wise (or Hadamard) product is the product of each element in one matrix with the corresponding element in another matrix, and is represented by the symbol \"$\\circ$\".*"
   ]
  },
  {
   "cell_type": "markdown",
   "metadata": {},
   "source": [
    "**ANSWER**\n",
    "\n"
   ]
  },
  {
   "cell_type": "markdown",
   "metadata": {},
   "source": [
    "1.\n",
    "$\n",
    "\\mathbf{A}\\mathbf{A} = \n",
    "\\begin{bmatrix}\n",
    "1 & 2 & 3 \\\\\n",
    "2 & 4 & 5 \\\\\n",
    "3 & 5 & 6 \\end{bmatrix} \\times\n",
    "\\begin{bmatrix}\n",
    "1 & 2 & 3 \\\\\n",
    "2 & 4 & 5 \\\\\n",
    "3 & 5 & 6\n",
    "\\end{bmatrix} =\n",
    "\\begin{bmatrix}\n",
    "1\\times1+2\\times2+3\\times3 & 1\\times2+2\\times4+3\\times5 & 1\\times3+2\\times5+3\\times6 \\\\\n",
    "2\\times1+4\\times2+5\\times3 & 2\\times2+4\\times4+5\\times5 & 2\\times3+4\\times5+5\\times6 \\\\\n",
    "3\\times1+5\\times2+6\\times3 & 3\\times2+5\\times4+6\\times5 & 3\\times3+5\\times5+6\\times6\n",
    "\\end{bmatrix} = \n",
    "\\begin{bmatrix}\n",
    "14 & 25 & 31 \\\\\n",
    "25 & 45 & 56 \\\\\n",
    "31 & 56 & 70\n",
    "\\end{bmatrix}\n",
    "$"
   ]
  },
  {
   "cell_type": "markdown",
   "metadata": {},
   "source": [
    "2.\n",
    "$\n",
    "\\mathbf{A}\\mathbf{A}^T = \n",
    "\\begin{bmatrix} 1 & 2 & 3 \\\\ 2 & 4 & 5 \\\\ 3 & 5 & 6 \\end{bmatrix} \\times\n",
    "\\begin{bmatrix} 1 & 2 & 3 \\\\ 2 & 4 & 5 \\\\ 3 & 5 & 6 \\end{bmatrix} =\n",
    "\\begin{bmatrix} 1\\times1+2\\times2+3\\times3 & 1\\times2+2\\times4+3\\times5 & 1\\times3+2\\times5+3\\times6 \\\\\n",
    "2\\times1+4\\times2+5\\times3 & 2\\times2+4\\times4+5\\times5 & 2\\times3+4\\times5+5\\times6 \\\\\n",
    "3\\times1+5\\times2+6\\times3 & 3\\times2+5\\times4+6\\times5 & 3\\times3+5\\times5+6\\times6 \\end{bmatrix} = \n",
    "\\begin{bmatrix} 14 & 25 & 31 \\\\ 25 & 45 & 56 \\\\ 31 & 56 & 70 \\end{bmatrix}\n",
    "$"
   ]
  },
  {
   "cell_type": "markdown",
   "metadata": {},
   "source": [
    "3.\n",
    "$\n",
    "\\mathbf{A}\\mathbf{b} = \n",
    "\\begin{bmatrix} 1 & 2 & 3 \\\\ 2 & 4 & 5 \\\\ 3 & 5 & 6 \\end{bmatrix} \\times\n",
    "\\begin{bmatrix} -1 \\\\ 3 \\\\ 8 \\end{bmatrix} =\n",
    "\\begin{bmatrix} 1\\times(-1)+2\\times3+3\\times8 \\\\ 2\\times(-1)+4\\times3+5\\times8 \\\\ 3\\times(-1)+5\\times3+6\\times8 \\end{bmatrix} =\n",
    "\\begin{bmatrix} 29 \\\\ 50 \\\\ 60 \\end{bmatrix}\n",
    "$"
   ]
  },
  {
   "cell_type": "markdown",
   "metadata": {},
   "source": [
    "4.\n",
    "$\\mathbf{A}\\mathbf{b}^T$ is $(3\\times3)\\times(1\\times3)$ matrix, which cannot to be calculated."
   ]
  },
  {
   "cell_type": "markdown",
   "metadata": {},
   "source": [
    "5.\n",
    "$\\mathbf{b}\\mathbf{A}$ is $(3\\times1)\\times(3\\times3)$ matrix, which cannot to be calculated."
   ]
  },
  {
   "cell_type": "markdown",
   "metadata": {},
   "source": [
    "6.\n",
    "$\n",
    "\\mathbf{b}^T\\mathbf{A} = \n",
    "\\begin{bmatrix} -1 & 3 & 8 \\end{bmatrix}\n",
    "\\times\n",
    "\\begin{bmatrix} 1 & 2 & 3 \\\\ 2 & 4 & 5 \\\\ 3 & 5 & 6 \\end{bmatrix} = \n",
    "\\begin{bmatrix} -1\\times1+3\\times2+8\\times3 & -1\\times2+3\\times4+8\\times5 & -1\\times3+3\\times5+8\\times6 \\end{bmatrix}\n",
    "= \\begin{bmatrix} 29 & 50 & 60\\end{bmatrix}\n",
    "$"
   ]
  },
  {
   "cell_type": "markdown",
   "metadata": {},
   "source": [
    "7.\n",
    "$\\mathbf{b}\\mathbf{b}$ is $(3\\times1)\\times(3\\times1)$ matrix, which cannot to be calculated."
   ]
  },
  {
   "cell_type": "markdown",
   "metadata": {},
   "source": [
    "8.\n",
    "$\n",
    "\\mathbf{b}^T\\mathbf{b} = \n",
    "\\begin{bmatrix} -1 & 3 & 8 \\end{bmatrix} \\times\n",
    "\\begin{bmatrix} -1 \\\\ 3 \\\\ 8 \\end{bmatrix} = \n",
    "\\begin{bmatrix} -1\\times(-1)+3\\times3+8\\times8 \\end{bmatrix} = 74\n",
    "$"
   ]
  },
  {
   "cell_type": "markdown",
   "metadata": {},
   "source": [
    "9.\n",
    "$\n",
    "\\mathbf{b}\\mathbf{b}^T = \n",
    "\\begin{bmatrix} -1 \\\\ 3 \\\\ 8 \\end{bmatrix}\n",
    "\\times\n",
    "\\begin{bmatrix} -1 & 3 & 8 \\end{bmatrix} = \n",
    "\\begin{bmatrix} -1\\times(-1) & -1\\times3 & -1\\times8 \\\\\n",
    "3\\times(-1) & 3\\times3 & 3\\times8 \\\\\n",
    "8\\times(-1) & 8\\times3 & 8\\times8 \\end{bmatrix} = \n",
    "\\begin{bmatrix} 1 & -3 & -8 \\\\ -3 & 9 & 24 \\\\ -8 & 24 & 64 \\end{bmatrix}\n",
    "$"
   ]
  },
  {
   "cell_type": "markdown",
   "metadata": {},
   "source": [
    "10.\n",
    "$\\mathbf{b} + \\mathbf{c}^T$ cannot to be calculated, \n",
    "because $\\mathbf{b}$ is $3\\times1$ and $\\mathbf{c}^T$ is $1\\times3$."
   ]
  },
  {
   "cell_type": "markdown",
   "metadata": {},
   "source": [
    "11.\n",
    "$\\mathbf{b}^T\\mathbf{b}^T$ cannot to be calculated, because it's $(1\\times3)\\times(1\\times3)$."
   ]
  },
  {
   "cell_type": "markdown",
   "metadata": {},
   "source": [
    "12.\n",
    "First we try to find $\\mathbf{A}^{-1}$.\n",
    "\n",
    "$\n",
    "\\begin{bmatrix}\n",
    "1 & 2 & 3 & | & 1 & 0 & 0 \\\\\n",
    "2 & 4 & 5 & | & 0 & 1 & 0 \\\\\n",
    "3 & 5 & 6 & | & 0 & 0 & 1 \n",
    "\\end{bmatrix}\n",
    "\\xrightarrow [R_3 \\leftarrow R_3 + (-3) \\times R_1] {R_2 \\leftarrow R_2 + (-2) \\times R_1}\n",
    "\\begin{bmatrix}\n",
    "1 & 2 & 3 & | & 1 & 0 & 0 \\\\\n",
    "0 & 0 & -1 & | & -2 & 1 & 0 \\\\\n",
    "0 & -1 & -3 & | & -3 & 0 & 1 \n",
    "\\end{bmatrix}\n",
    "\\xrightarrow [R_2 \\leftarrow (-R_2),\\space R_3 \\leftarrow (-R_3)] {R_2 \\rightleftharpoons R_3}\n",
    "\\begin{bmatrix}\n",
    "1 & 2 & 3 & | & 1 & 0 & 0 \\\\\n",
    "0 & 1 & 3 & | & 3 & 0 & -1 \\\\\n",
    "0 & 0 & 1 & | & 2 & -1 & 0 \n",
    "\\end{bmatrix}\n",
    "\\xrightarrow [R_2 \\leftarrow R_2 + (-3)\\times R_3] {R_1 \\leftarrow R_1 + (-3)\\times R_3}\n",
    "\\begin{bmatrix}\n",
    "1 & 2 & 0 & | & -5 & -3 & 0 \\\\\n",
    "0 & 1 & 0 & | & -3 & 3 & -1 \\\\\n",
    "0 & 0 & 1 & | & 2 & -1 & 0 \n",
    "\\end{bmatrix}\n",
    "\\xrightarrow {R_1 \\leftarrow R_1 + (-2)\\times R_2}\n",
    "\\begin{bmatrix}\n",
    "1 & 0 & 0 & | & 1 & -3 & 2 \\\\\n",
    "0 & 1 & 0 & | & -3 & 3 & -1 \\\\\n",
    "0 & 0 & 1 & | & 2 & -1 & 0 \n",
    "\\end{bmatrix}\n",
    "$\n",
    "\n",
    "Thus we have $\\mathbf{A}^{-1} = \\begin{bmatrix} 1 & -3 & 2 \\\\ -3 & 3 & -1 \\\\ 2 & -1 & 0 \\end{bmatrix}$. Therefore, \n",
    "\n",
    "$\n",
    "\\mathbf{A}^{-1}\\mathbf{b} =\n",
    "\\begin{bmatrix} 1 & -3 & 2 \\\\ -3 & 3 & -1 \\\\ 2 & -1 & 0 \\end{bmatrix}\n",
    "\\times\n",
    "\\begin{bmatrix} -1 \\\\ 3 \\\\ 8 \\end{bmatrix} = \n",
    "\\begin{bmatrix} 1\\times(-1)+(-3)\\times3+2\\times8 \\\\\n",
    "-3\\times(-1)+3\\times3+(-1)\\times8 \\\\\n",
    "2\\times(-1)+(-1)\\times3+0\\times8 \\end{bmatrix} = \n",
    "\\begin{bmatrix} 6 \\\\ 4 \\\\ -5 \\end{bmatrix}\n",
    "$"
   ]
  },
  {
   "cell_type": "markdown",
   "metadata": {},
   "source": [
    "13.\n",
    "$\n",
    "\\mathbf{A}\\circ\\mathbf{A} = \n",
    "\\begin{bmatrix} 1 & 2 & 3 \\\\ 2 & 4 & 5 \\\\ 3 & 5 & 6 \\end{bmatrix}\n",
    "\\circ\n",
    "\\begin{bmatrix} 1 & 2 & 3 \\\\ 2 & 4 & 5 \\\\ 3 & 5 & 6 \\end{bmatrix} = \n",
    "\\begin{bmatrix}\n",
    "1\\times1 & 2\\times2 & 3\\times3 \\\\ 2\\times2 & 4\\times4 & 5\\times5 \\\\ 3\\times3 & 5\\times5 & 6\\times6\n",
    "\\end{bmatrix} = \n",
    "\\begin{bmatrix} 1 & 4 & 9 \\\\ 4 & 16 & 25 \\\\ 9 & 25 & 36 \\end{bmatrix}\n",
    "$"
   ]
  },
  {
   "cell_type": "markdown",
   "metadata": {},
   "source": [
    "14.\n",
    "$\n",
    "\\mathbf{b}\\circ\\mathbf{c} = \n",
    "\\begin{bmatrix} -1 \\\\ 3 \\\\ 8 \\end{bmatrix}\n",
    "\\circ\n",
    "\\begin{bmatrix} 4 \\\\ -3 \\\\ 6 \\end{bmatrix} = \n",
    "\\begin{bmatrix} -1\\times4 \\\\ 3\\times(-3) \\\\ 8\\times6 \\end{bmatrix} = \n",
    "\\begin{bmatrix} -4 \\\\ -9 \\\\ 48 \\end{bmatrix}\n",
    "$"
   ]
  },
  {
   "cell_type": "code",
   "execution_count": 1,
   "metadata": {},
   "outputs": [
    {
     "name": "stdout",
     "output_type": "stream",
     "text": [
      "1. A @ A = \n",
      " [[14 25 31]\n",
      " [25 45 56]\n",
      " [31 56 70]]\n",
      "\n",
      "2. A @ A.T = \n",
      " [[14 25 31]\n",
      " [25 45 56]\n",
      " [31 56 70]]\n",
      "\n",
      "3. A @ b = \n",
      " [[29]\n",
      " [50]\n",
      " [60]]\n",
      "\n",
      "4.\n",
      " shapes (3,3) and (1,3) not aligned: 3 (dim 1) != 1 (dim 0)\n",
      "\n",
      "5.\n",
      " shapes (3,1) and (3,3) not aligned: 1 (dim 1) != 3 (dim 0)\n",
      "\n",
      "6. b.T @ A = \n",
      " [[29 50 60]]\n",
      "\n",
      "7.\n",
      " shapes (3,1) and (3,1) not aligned: 1 (dim 1) != 3 (dim 0)\n",
      "\n",
      "8. b.T @ b = \n",
      " [[74]]\n",
      "\n",
      "9. b @ b.T = \n",
      " [[ 1 -3 -8]\n",
      " [-3  9 24]\n",
      " [-8 24 64]]\n",
      "\n",
      "10.\n",
      " shapes (3,1) and (1,3) not aligned \n",
      "\n",
      "11.\n",
      " shapes (1,3) and (1,3) not aligned: 3 (dim 1) != 1 (dim 0)\n",
      "\n",
      "12. A^(-1) @ b = \n",
      " [[ 6.]\n",
      " [ 4.]\n",
      " [-5.]]\n",
      "\n",
      "13. A * A = \n",
      " [[ 1  4  9]\n",
      " [ 4 16 25]\n",
      " [ 9 25 36]]\n",
      "\n",
      "14. b * c = \n",
      " [[-4]\n",
      " [-9]\n",
      " [48]]\n",
      "\n"
     ]
    }
   ],
   "source": [
    "import numpy as np\n",
    "\n",
    "A = np.array([\n",
    "    [1,2,3],\n",
    "    [2,4,5],\n",
    "    [3,5,6]\n",
    "])\n",
    "b = np.array([-1,3,8]).reshape((3,1))\n",
    "c = np.array([4,-3,6]).reshape((3,1))\n",
    "I = np.eye(3)\n",
    "\n",
    "# 1\n",
    "print(\"1. A @ A = \\n\",np.matmul(A, A), end = '\\n\\n')\n",
    "\n",
    "# 2\n",
    "print(\"2. A @ A.T = \\n\",np.matmul(A, A.T), end = '\\n\\n')\n",
    "\n",
    "# 3\n",
    "print(\"3. A @ b = \\n\",np.matmul(A, b), end = '\\n\\n')\n",
    "\n",
    "# 4\n",
    "try:\n",
    "    print(\"4. A @ b.T = \\n\",np.matmul(A, b.T), end = '\\n\\n')\n",
    "except ValueError as VE:\n",
    "    print(\"4.\\n\", VE, end = '\\n\\n')\n",
    "\n",
    "# 5\n",
    "try:\n",
    "    print(\"5. b @ A = \\n\",np.matmul(b, A), end = '\\n\\n')\n",
    "except ValueError as VE:\n",
    "    print(\"5.\\n\", VE, end = '\\n\\n')\n",
    "\n",
    "# 6\n",
    "print(\"6. b.T @ A = \\n\",np.matmul(b.T, A), end = '\\n\\n')\n",
    "\n",
    "# 7\n",
    "try:\n",
    "    print(\"7. b @ b = \\n\",np.matmul(b, b), end = '\\n\\n')\n",
    "except ValueError as VE:\n",
    "    print(\"7.\\n\", VE, end = '\\n\\n')\n",
    "\n",
    "# 8\n",
    "print(\"8. b.T @ b = \\n\",np.matmul(b.T, b), end = '\\n\\n')\n",
    "\n",
    "# 9\n",
    "print(\"9. b @ b.T = \\n\",np.matmul(b, b.T), end = '\\n\\n')\n",
    "\n",
    "# 10\n",
    "print(\"10.\\n shapes (3,1) and (1,3) not aligned \\n\")\n",
    "\n",
    "# 11\n",
    "try:\n",
    "    print(\"11. b.T @ b.T = \\n\",np.matmul(b.T, b.T), end = '\\n\\n')\n",
    "except ValueError as VE:\n",
    "    print(\"11.\\n\", VE, end = '\\n\\n')\n",
    "\n",
    "# 12\n",
    "print(\"12. A^(-1) @ b = \\n\", np.matmul(np.linalg.inv(A), b), end = '\\n\\n')\n",
    "\n",
    "# 13\n",
    "print(\"13. A * A = \\n\", A * A, end = '\\n\\n')\n",
    "\n",
    "# 14\n",
    "print(\"14. b * c = \\n\", b * c, end = '\\n\\n')"
   ]
  },
  {
   "cell_type": "markdown",
   "metadata": {},
   "source": [
    "## 6\n",
    "**Eigenvectors and eigenvalues**. Eigenvectors and eigenvalues are useful for some machine learning algorithms, but the concepts take time to solidly grasp. For an intuitive review of these concepts, explore this [interactive website at Setosa.io](http://setosa.io/ev/eigenvectors-and-eigenvalues/). Also, the series of linear algebra videos by Grant Sanderson of 3Brown1Blue are excellent and can be viewed on youtube [here](https://www.youtube.com/playlist?list=PLZHQObOWTQDPD3MizzM2xVFitgF8hE_ab).\n",
    "\n",
    "1. Calculate the eigenvalues and corresponding eigenvectors of matrix $\\mathbf{A}$ above, from the last question.\n",
    "2. Choose one of the eigenvector/eigenvalue pairs, $\\mathbf{v}$ and $\\lambda$, and show that $\\mathbf{A} \\mathbf{v} = \\lambda \\mathbf{v}$. Also show that this relationship extends to higher orders: $\\mathbf{A} \\mathbf{A} \\mathbf{v} = \\lambda^2 \\mathbf{v}$\n",
    "3. Show that the eigenvectors are orthogonal to one another (e.g. their inner product is zero). This is true for real, symmetric matrices."
   ]
  },
  {
   "cell_type": "markdown",
   "metadata": {},
   "source": [
    "**ANSWER**"
   ]
  },
  {
   "cell_type": "markdown",
   "metadata": {},
   "source": [
    "1.\n",
    "Calculate the eigenvalues and eigenvectors using numpy."
   ]
  },
  {
   "cell_type": "code",
   "execution_count": 2,
   "metadata": {},
   "outputs": [
    {
     "name": "stdout",
     "output_type": "stream",
     "text": [
      "eigenvalue0: 11.344814282762082\n",
      "eigenvector0:\n",
      "array([[-0.32798528],\n",
      "       [-0.59100905],\n",
      "       [-0.73697623]])\n",
      "\n",
      "eigenvalue1: -0.5157294715892574\n",
      "eigenvector1:\n",
      "array([[-0.73697623],\n",
      "       [-0.32798528],\n",
      "       [ 0.59100905]])\n",
      "\n",
      "eigenvalue2: 0.1709151888271788\n",
      "eigenvector2:\n",
      "array([[ 0.59100905],\n",
      "       [-0.73697623],\n",
      "       [ 0.32798528]])\n",
      "\n"
     ]
    }
   ],
   "source": [
    "import numpy as np\n",
    "\n",
    "A = np.array(np.mat('1 2 3;2 4 5;3 5 6'))\n",
    "w, v = np.linalg.eig(A)\n",
    "\n",
    "for i in range(3):\n",
    "    print(\"eigenvalue%a: %a\\neigenvector%a:\\n%a\\n\" % (i, w[i], i, v[:,i].reshape((3,1))))"
   ]
  },
  {
   "cell_type": "markdown",
   "metadata": {},
   "source": [
    "2.\n",
    "Show that $\\mathbf{A} \\mathbf{v} = \\lambda \\mathbf{v}$ and $\\mathbf{A} \\mathbf{A} \\mathbf{v} = \\lambda^2 \\mathbf{v}$"
   ]
  },
  {
   "cell_type": "markdown",
   "metadata": {},
   "source": [
    "For $\\mathbf{A} \\mathbf{v} = \\lambda \\mathbf{v}$"
   ]
  },
  {
   "cell_type": "code",
   "execution_count": 3,
   "metadata": {},
   "outputs": [
    {
     "name": "stdout",
     "output_type": "stream",
     "text": [
      "[-3.72093206 -6.70488789 -8.36085845]\n",
      "[-3.72093206 -6.70488789 -8.36085845]\n",
      "\n",
      "[ 0.38008036  0.16915167 -0.30480078]\n",
      "[ 0.38008036  0.16915167 -0.30480078]\n",
      "\n",
      "[ 0.10101242 -0.12596043  0.05605767]\n",
      "[ 0.10101242 -0.12596043  0.05605767]\n",
      "\n"
     ]
    }
   ],
   "source": [
    "for i in range(3):\n",
    "    e_w = w[i]; e_v = v[:, i]\n",
    "    print(np.dot(A, e_v))\n",
    "    print(np.dot(e_w, e_v), end = '\\n\\n')"
   ]
  },
  {
   "cell_type": "markdown",
   "metadata": {},
   "source": [
    "For $\\mathbf{A} \\mathbf{A} \\mathbf{v} = \\lambda^2 \\mathbf{v}$"
   ]
  },
  {
   "cell_type": "code",
   "execution_count": 4,
   "metadata": {},
   "outputs": [
    {
     "name": "stdout",
     "output_type": "stream",
     "text": [
      "[-42.2132832  -76.06570795 -94.85238636]\n",
      "[-42.2132832  -76.06570795 -94.85238636]\n",
      "\n",
      "[-42.2132832  -76.06570795 -94.85238636]\n",
      "[-42.2132832  -76.06570795 -94.85238636]\n",
      "\n",
      "[-42.2132832  -76.06570795 -94.85238636]\n",
      "[-42.2132832  -76.06570795 -94.85238636]\n",
      "\n"
     ]
    }
   ],
   "source": [
    "for i in range(3):\n",
    "    e_w = w[0]; e_v = v[:, 0]\n",
    "    print(np.dot(np.dot(A, A), e_v))\n",
    "    print(np.dot(np.dot(e_w, e_w), e_v), end = '\\n\\n')"
   ]
  },
  {
   "cell_type": "markdown",
   "metadata": {},
   "source": [
    "3.\n",
    "Show that all the eigenvectors are orthogonal to each other."
   ]
  },
  {
   "cell_type": "code",
   "execution_count": 5,
   "metadata": {},
   "outputs": [
    {
     "name": "stdout",
     "output_type": "stream",
     "text": [
      "-2.220446049250313e-16\n",
      "-4.440892098500626e-16\n",
      "-1.0547118733938987e-15\n"
     ]
    }
   ],
   "source": [
    "for i in range(3):\n",
    "    for j in range(i+1, 3):\n",
    "        print(np.dot(v[:, i], v[:, j]))"
   ]
  },
  {
   "cell_type": "markdown",
   "metadata": {},
   "source": [
    "All the dot products between each pairs of them are zeros, so all the eigenvectors are orthogonal to each other."
   ]
  },
  {
   "cell_type": "markdown",
   "metadata": {},
   "source": [
    "# Numerical Programming"
   ]
  },
  {
   "cell_type": "markdown",
   "metadata": {},
   "source": [
    "## 7\n",
    "Speed comparison between vectorized and non-vectorized code. Begin by creating an array of 10 million random numbers using the numpy random.randn module. Compute the sum of the squares first in a for loop, then using Numpy's `dot` module. Time how long it takes to compute each and report the results and report the output. How many times faster is the vectorized code than the for loop approach?\n",
    "\n",
    "*Note: all code should be well commented, properly formatted, and your answers should be output using the `print()` function as follows (where the # represents your answers, to a reasonable precision):\n",
    "\n",
    "`Time [sec] (non-vectorized): ######`\n",
    "\n",
    "`Time [sec] (vectorized):     ######`\n",
    "\n",
    "`The vectorized code is ##### times faster than the vectorized code`"
   ]
  },
  {
   "cell_type": "markdown",
   "metadata": {},
   "source": [
    "**ANSWER**"
   ]
  },
  {
   "cell_type": "code",
   "execution_count": 6,
   "metadata": {},
   "outputs": [
    {
     "name": "stdout",
     "output_type": "stream",
     "text": [
      "Time [sec] (non-vectorized): 3.5946\n",
      "Time [sec] (vectorized):     0.0043\n",
      "The vectorized code is 844.8 times faster than the vectorized code\n"
     ]
    }
   ],
   "source": [
    "import numpy as np\n",
    "import time\n",
    "\n",
    "# Generate the random samples\n",
    "sam = np.random.randn(10000000)\n",
    "\n",
    "# Compute the sum of squares the non-vectorized way (using a for loop)\n",
    "start_1 = time.time()\n",
    "cum_sum = 0\n",
    "for i in sam:\n",
    "    cum_sum += i**2\n",
    "end_1 = time.time()\n",
    "\n",
    "# Compute the sum of squares the vectorized way (using numpy)\n",
    "start_2 = time.time()\n",
    "cum_sum2 = np.dot(sam, sam)\n",
    "end_2 = time.time()\n",
    "\n",
    "# Print the results\n",
    "print(\"Time [sec] (non-vectorized): %.4f\" % (end_1 - start_1))\n",
    "print(\"Time [sec] (vectorized):     %.4f\" % (end_2 - start_2))\n",
    "print(\"The vectorized code is %3.1f times faster than the vectorized code\" % ((end_1 - start_1)/(end_2 - start_2)))"
   ]
  },
  {
   "cell_type": "markdown",
   "metadata": {},
   "source": [
    "## 8\n",
    "One popular Agile development framework is Scrum (a paradigm recommended for data science projects). It emphasizes the continual evolution of code for projects, becoming progressively better, but starting with a quickly developed minimum viable product. This often means that code written early on is not optimized, and that's a good thing - it's best to get it to work first before optimizing. Imagine that you wrote the following code during a sprint towards getting an end-to-end system working. Vectorize the following code and show the difference in speed between the current implementation and a vectorized version.\n",
    "\n",
    "The function below computes the function $f(x,y) = x^2 - 2 y^2$ and determines whether this quantity is above or below a given threshold, `thresh=0`. This is done for $x,y \\in \\{-4,4\\}$, over a 2,000-by-2,000 grid covering that domain.\n",
    "\n",
    "(a) Vectorize this code and demonstrate (as in the last exercise) the speed increase through vectorization and (b) plot the resulting data - both the function $f(x,y)$ and the thresholded output - using [`imshow`](https://matplotlib.org/api/_as_gen/matplotlib.pyplot.imshow.html?highlight=matplotlib%20pyplot%20imshow#matplotlib.pyplot.imshow) from `matplotlib`.\n",
    "\n",
    "*Hint: look at the `numpy` [`meshgrid`](https://docs.scipy.org/doc/numpy-1.13.0/reference/generated/numpy.meshgrid.html) documentation*"
   ]
  },
  {
   "cell_type": "code",
   "execution_count": 7,
   "metadata": {},
   "outputs": [
    {
     "name": "stdout",
     "output_type": "stream",
     "text": [
      "Time [sec] (non-vectorized): 4.0216\n",
      "Time [sec] (vectorized):     0.0321\n",
      "The vectorized code is 125.1 times faster than the vectorized code\n"
     ]
    },
    {
     "data": {
      "image/png": "[encoded data removed]",
      "text/plain": [
       "<Figure size 432x288 with 2 Axes>"
      ]
     },
     "metadata": {
      "needs_background": "light"
     },
     "output_type": "display_data"
    }
   ],
   "source": [
    "import numpy as np\n",
    "import time\n",
    "import matplotlib.pyplot as plt\n",
    "%matplotlib inline\n",
    "\n",
    "# Initialize variables for this exerise\n",
    "thresh = 0\n",
    "n = 2000\n",
    "x = np.linspace(-4, 4, 2000)\n",
    "y = np.linspace(-4, 4, 2000)\n",
    "X, Y = np.meshgrid(x, y)\n",
    "Z = np.zeros_like(X)\n",
    "\n",
    "# Nonvectorized implementation\n",
    "start1 = time.time()\n",
    "for i, xi in enumerate(x):\n",
    "    for j, yj in enumerate(y):\n",
    "        Z[j, i] += xi**2 - 2*yj**2\n",
    "end1 = time.time()\n",
    "\n",
    "# Vectorized implementation\n",
    "start2 = time.time()\n",
    "Z2 = X**2 - 2*Y**2\n",
    "end2 = time.time()\n",
    "\n",
    "# Print the time for each and the speed increase\n",
    "print(\"Time [sec] (non-vectorized): %.4f\" % (end1 - start1))\n",
    "print(\"Time [sec] (vectorized):     %.4f\" % (end2 - start2))\n",
    "print(\"The vectorized code is %3.1f times faster than the vectorized code\" % ((end1 - start1)/(end2 - start2)))\n",
    "\n",
    "# Plot the result\n",
    "plt.imshow(Z, extent = [-4, 4, -4, 4])\n",
    "plt.xlabel(\"x\")\n",
    "plt.ylabel(\"y\")\n",
    "plt.title(\"Plot of the Function\")\n",
    "plt.colorbar()\n",
    "plt.show()"
   ]
  },
  {
   "cell_type": "code",
   "execution_count": 8,
   "metadata": {},
   "outputs": [
    {
     "data": {
      "image/png": "[encoded data removed]",
      "text/plain": [
       "<Figure size 432x288 with 1 Axes>"
      ]
     },
     "metadata": {
      "needs_background": "light"
     },
     "output_type": "display_data"
    }
   ],
   "source": [
    "# plot the thresholded output\n",
    "'''Z3 = np.zeros_like(Z)\n",
    "Z3[Z > thresh] = 1\n",
    "plt.imshow(Z3, extent = [-4, 4, -4, 4])\n",
    "plt.xlabel(\"x\")\n",
    "plt.ylabel(\"y\")\n",
    "plt.title(\"Plot of the Function with Threshold\")\n",
    "plt.colorbar()\n",
    "plt.show()'''\n",
    "\n",
    "Z3 = np.zeros_like(Z)\n",
    "Z3[Z > thresh] = 1\n",
    "\n",
    "import matplotlib.patches as mp\n",
    "im = plt.imshow(Z3, extent = [-4, 4, -4, 4])\n",
    "values = np.unique(Z3.ravel())\n",
    "colors = [im.cmap(im.norm(value)) for value in values]\n",
    "patches = [mp.Patch(color=colors[0], label=\"smaller than threshold\"), \n",
    "          mp.Patch(color=colors[1], label=\"greater than threshold\")]\n",
    "\n",
    "plt.legend(handles = patches, bbox_to_anchor = (1.05, 1), loc = 2, borderaxespad = 0. )\n",
    "plt.xlabel(\"x\")\n",
    "plt.ylabel(\"y\")\n",
    "plt.title(\"Plot of the Function with Threshold\")\n",
    "plt.show()"
   ]
  },
  {
   "cell_type": "markdown",
   "metadata": {},
   "source": [
    "## 9\n",
    "This exercise will walk through some basic numerical programming exercises.\n",
    "1. Synthesize $n=10^4$ normally distributed data points with mean $\\mu=2$ and a standard deviation of $\\sigma=1$. Call these observations from a random variable $X$, and call the vector of observations that you generate, $\\textbf{x}$.\n",
    "2. Calculate the mean and standard deviation of $\\textbf{x}$ to validate (1) and provide the result to a precision of four significant figures.\n",
    "3. Plot a histogram of the data in $\\textbf{x}$ with 30 bins\n",
    "4. What is the 90th percentile of $\\textbf{x}$? The 90th percentile is the value below which 90% of observations can be found.\n",
    "5. What is the 99th percentile of $\\textbf{x}$?\n",
    "6. Now synthesize $n=10^4$ normally distributed data points with mean $\\mu=0$ and a standard deviation of $\\sigma=3$. Call these observations from a random variable $Y$, and call the vector of observations that you generate, $\\textbf{y}$.\n",
    "7. Plot the histogram of the data in $\\textbf{y}$ on a (new) plot with the histogram of $\\textbf{x}$, so that both histograms can be seen and compared.\n",
    "8. Using the observations from $\\textbf{x}$ and $\\textbf{y}$, estimate $E[XY]$"
   ]
  },
  {
   "cell_type": "markdown",
   "metadata": {},
   "source": [
    "**ANSWER**"
   ]
  },
  {
   "cell_type": "code",
   "execution_count": 9,
   "metadata": {},
   "outputs": [
    {
     "name": "stdout",
     "output_type": "stream",
     "text": [
      "mean of x:\t 2.008\n",
      "sd of x:\t 1.004\n"
     ]
    },
    {
     "data": {
      "image/png": "[encoded data removed]",
      "text/plain": [
       "<Figure size 432x288 with 1 Axes>"
      ]
     },
     "metadata": {
      "needs_background": "light"
     },
     "output_type": "display_data"
    }
   ],
   "source": [
    "import numpy as np\n",
    "import matplotlib.pyplot as plt\n",
    "%matplotlib inline\n",
    "np.random.seed(234)\n",
    "\n",
    "# 1\n",
    "x = np.random.normal(2, 1, 10**4)\n",
    "\n",
    "# 2\n",
    "print(\"mean of x:\\t %1.3f\" % np.mean(x))\n",
    "print(\"sd of x:\\t %1.3f\" % np.std(x))\n",
    "\n",
    "# 3\n",
    "plt.figure()\n",
    "plt.title(\"Histogram of x\")\n",
    "plt.hist(x, bins = 30)\n",
    "plt.show()"
   ]
  },
  {
   "cell_type": "code",
   "execution_count": 10,
   "metadata": {},
   "outputs": [
    {
     "name": "stdout",
     "output_type": "stream",
     "text": [
      "90th percentile of x:\t 3.2803181105195205\n",
      "99th percentile of x:\t 4.367114368317831\n"
     ]
    },
    {
     "data": {
      "image/png": "[encoded data removed]",
      "text/plain": [
       "<Figure size 432x288 with 1 Axes>"
      ]
     },
     "metadata": {
      "needs_background": "light"
     },
     "output_type": "display_data"
    }
   ],
   "source": [
    "# 4\n",
    "a_90 = np.percentile(x, 90)\n",
    "print('90th percentile of x:\\t', a_90)\n",
    "\n",
    "# 5\n",
    "a_99 = np.percentile(x, 99)\n",
    "print('99th percentile of x:\\t', a_99)\n",
    "\n",
    "# 6\n",
    "y = np.random.normal(0, 3, 10**4)\n",
    "\n",
    "# 7\n",
    "plt.figure()\n",
    "plt.title(\"Histogram of x and y\")\n",
    "#plt.hist(y, bins = 30, alpha = 0.6, color = 'orange', label = 'y')\n",
    "#plt.hist(x, bins = 30, alpha = 0.6, label = 'x')\n",
    "plt.hist([x, y], bins = 30, alpha = 0.6, label = ['x', 'y'])\n",
    "plt.legend()\n",
    "plt.show()"
   ]
  },
  {
   "cell_type": "markdown",
   "metadata": {},
   "source": [
    "8. We know that\n",
    "\n",
    "$$\n",
    "\\begin{align}\n",
    "\\mathrm{E}[XY] = \\int xy P(x,y) \\mathrm{d}(xy)\n",
    "\\end{align}\n",
    "$$\n"
   ]
  },
  {
   "cell_type": "code",
   "execution_count": 11,
   "metadata": {},
   "outputs": [
    {
     "name": "stdout",
     "output_type": "stream",
     "text": [
      "Estimate of the estimated value of XY is -0.08534242758828127\n"
     ]
    }
   ],
   "source": [
    "# 8\n",
    "print(\"Estimate of the estimated value of XY is\", np.mean(x*y))"
   ]
  },
  {
   "cell_type": "markdown",
   "metadata": {},
   "source": [
    "## 10\n",
    "Estimate the integral of the function $f(x)$ on the interval $0\\leq x < 2.5$ assuming we only know the following points from $f$:\n",
    "\n",
    "*Table 1. Dataset containing n=5 observations*\n",
    "\n",
    "| $x_i$ | 0.0 | 0.5 | 1.0 | 1.5 | 2.0 |\n",
    "|-|-|-|-|-|-|\n",
    "| $y_i$ | 6 | 7 | 8 | 4 | 1 |\n"
   ]
  },
  {
   "cell_type": "markdown",
   "metadata": {},
   "source": [
    "**ANSWER**\n",
    "\n"
   ]
  },
  {
   "cell_type": "markdown",
   "metadata": {},
   "source": [
    "Using rectangle rule to solve this proble."
   ]
  },
  {
   "cell_type": "code",
   "execution_count": 12,
   "metadata": {},
   "outputs": [
    {
     "name": "stdout",
     "output_type": "stream",
     "text": [
      "Estimate Integral:  13.0\n"
     ]
    }
   ],
   "source": [
    "xi = np.array([0.5]*5)\n",
    "yi = np.array([6, 7, 8, 4, 1])\n",
    "\n",
    "print(\"Estimate Integral: \", sum(xi*yi))"
   ]
  },
  {
   "cell_type": "markdown",
   "metadata": {},
   "source": [
    "# Version Control via Git"
   ]
  },
  {
   "cell_type": "markdown",
   "metadata": {},
   "source": [
    "## 11\n",
    "Complete the [Atlassian Git tutorial](https://www.atlassian.com/git/tutorials/what-is-version-control), specifically the following sections. Try each concept that's presented. For this tutorial, instead of using BitBucket, use Github. Create a github account here if you don't already have one: https://github.com/\n",
    "1. [What is version control](https://www.atlassian.com/git/tutorials/what-is-version-control)\n",
    "2. [What is Git](https://www.atlassian.com/git/tutorials/what-is-git)\n",
    "3. [Install Git](https://www.atlassian.com/git/tutorials/install-git)\n",
    "4. [Setting up a repository](https://www.atlassian.com/git/tutorials/install-git)\n",
    "5. [Saving changes](https://www.atlassian.com/git/tutorials/saving-changes)\n",
    "6. [Inspecting a repository](https://www.atlassian.com/git/tutorials/inspecting-a-repository)\n",
    "7. [Undoing changes](https://www.atlassian.com/git/tutorials/undoing-changes)\n",
    "8. [Rewriting history](https://www.atlassian.com/git/tutorials/rewriting-history)\n",
    "9. [Syncing](https://www.atlassian.com/git/tutorials/syncing)\n",
    "10. [Making a pull request](https://www.atlassian.com/git/tutorials/making-a-pull-request)\n",
    "11. [Using branches](https://www.atlassian.com/git/tutorials/using-branches)\n",
    "12. [Comparing workflows](https://www.atlassian.com/git/tutorials/comparing-workflows)\n",
    "\n",
    "For your answer, affirm that you either completed the tutorial or have previous experience with all of the concepts above. Do this by typing your name below and selecting the situation that applies from the two options in brackets."
   ]
  },
  {
   "cell_type": "markdown",
   "metadata": {},
   "source": [
    "**ANSWER**\n",
    "\n",
    "*I, [**Yifei Wang**], affirm that I have [**completed the above tutorial / I have previous experience that covers all the content in this tutorial**]*"
   ]
  },
  {
   "cell_type": "markdown",
   "metadata": {},
   "source": [
    "## 12\n",
    "Using Github to create a static HTML website:\n",
    "1. Create a branch in your `machine-learning-course` repo called \"gh-pages\" and checkout that branch (this will provide an example of how to create a simple static website using [Github Pages](https://pages.github.com/))\n",
    "2. Create a file called \"index.html\" with the contents \"Hello World\" and add, commit, and push it to that branch.\n",
    "3. Submit the following: (a) a link to your github repository and (b) a link to your new \"Hello World\" website. The latter should be at the address https://[USERNAME].github.io/ECE590-assignment0 (where [USERNAME] is your github username)."
   ]
  },
  {
   "cell_type": "markdown",
   "metadata": {},
   "source": [
    "**ANSWER**\n",
    "\n",
    "(a). https://github.com/ywang512/ids705\n",
    "\n",
    "(b). https://ywang512.github.io/ids705/"
   ]
  },
  {
   "cell_type": "markdown",
   "metadata": {},
   "source": [
    "# Exploratory Data Analysis\n",
    "## 13\n",
    "Here you'll bring together some of the individual skills that you demonstrated above and create a Jupyter notebook based blog post on data analysis.\n",
    "\n",
    "1. Find a dataset that interests you and relates to a question or problem that you find intriguing\n",
    "2. Using a Jupyter notebook, describe the dataset, the source of the data, and the reason the dataset was of interest.\n",
    "3. Check the data and see if they need to be cleaned: are there missing values? Are there clearly erroneous values? Do two tables need to be merged together? Clean the data so it can be visualized.\n",
    "3. Plot the data, demonstrating interesting features that you discover. Are there any relationships between variables that were surprising or patterns that emerged? Please exercise creativity and curiosity in your plots.\n",
    "4. What insights are you able to take away from exploring the data? Is there a reason why analyzing the dataset you chose is particularly interesting or important? Summarize this as if your target audience was the readership of a major news organization - boil down your findings in a way that is accessible, but still accurate.\n",
    "5. Create a public repository on your github account titled \"machine-learning-course\". In it, create a readme file that contains the heading \"ECE590: Introductory Machine Learning for Data Science\". Add, commit, and push that Jupyter notebook to the master branch. Provide the link to the that post here."
   ]
  },
  {
   "cell_type": "markdown",
   "metadata": {},
   "source": [
    "**ANSWER**\n",
    "\n",
    "https://github.com/ywang512/ids705"
   ]
  },
  {
   "cell_type": "markdown",
   "metadata": {},
   "source": [
    "# Visualization of Suicide Data\n",
    "\n",
    "### Content\n",
    "This compiled dataset was pulled from [Kaggle - Suicide Rates Overview 1985 to 2016](https://www.kaggle.com/russellyates88/suicide-rates-overview-1985-to-2016), and was built to find signals correlated to increased suicide rates among different cohorts globally, across the socio-economic spectrum. \n",
    "\n",
    "### References\n",
    "United Nations Development Program. (2018). Human development index (HDI). Retrieved from http://hdr.undp.org/en/indicators/137506\n",
    "\n",
    "World Bank. (2018). World development indicators: GDP (current US$) by country:1985 to 2016. Retrieved from http://databank.worldbank.org/data/source/world-development-indicators#\n",
    "\n",
    "[Szamil]. (2017). Suicide in the Twenty-First Century [dataset]. Retrieved from https://www.kaggle.com/szamil/suicide-in-the-twenty-first-century/notebook\n",
    "\n",
    "World Health Organization. (2018). Suicide prevention. Retrieved from http://www.who.int/mental_health/suicide-prevention/en/\n",
    "\n",
    "### Inspiration\n",
    "Suicide Prevention.\n",
    "\n",
    "### Variables\n",
    "\n",
    "- **country**: 101 countries in all\n",
    "\n",
    "- **year**: from 1985 to 2016\n",
    "\n",
    "- **sex**: male or female\n",
    "\n",
    "- **age**: grouped age\n",
    "\n",
    "- **suicides_no**: suicides count\n",
    "\n",
    "-  **population**\n",
    "\n",
    "- **suicides/100k pop**: suicides count rescale\n",
    "\n",
    "- **country-year**: country with year combine\n",
    "\n",
    "- **HDI for year**: Human Development Index, much missing\n",
    "\n",
    "- **gdp_for_year**: Gross Domestic Product\n",
    "\n",
    "- **gdp_per_capita**: Gross Domestic Product rescale\n",
    "\n",
    "- **generation**\n",
    "\n",
    "## Data Preprocessing"
   ]
  },
  {
   "cell_type": "code",
   "execution_count": 13,
   "metadata": {},
   "outputs": [
    {
     "name": "stdout",
     "output_type": "stream",
     "text": [
      "Raw data has 27820 rows and 12 columns\n",
      "\n",
      "Count of missing values for each variables:\n",
      "country                   0\n",
      "year                      0\n",
      "sex                       0\n",
      "age                       0\n",
      "suicides_no               0\n",
      "population                0\n",
      "suicides/100k pop         0\n",
      "country-year              0\n",
      "HDI for year          19456\n",
      " gdp_for_year ($)         0\n",
      "gdp_per_capita ($)        0\n",
      "generation                0\n",
      "dtype: int64\n"
     ]
    }
   ],
   "source": [
    "import pandas as pd\n",
    "import numpy as np\n",
    "import matplotlib.pyplot as plt\n",
    "%matplotlib inline\n",
    "\n",
    "df_raw = pd.read_csv(\"../projects/hw1_suicide_rates/suicide_rates_hw1.csv\")\n",
    "print(\"Raw data has %d rows and %d columns\\n\" % df_raw.shape)\n",
    "\n",
    "\n",
    "### Mising values\n",
    "print(\"Count of missing values for each variables:\")\n",
    "print(np.sum(df_raw.isna(), axis = 0))"
   ]
  },
  {
   "cell_type": "code",
   "execution_count": 14,
   "metadata": {},
   "outputs": [
    {
     "data": {
      "text/html": [
       "<div>\n",
       "<style scoped>\n",
       "    .dataframe tbody tr th:only-of-type {\n",
       "        vertical-align: middle;\n",
       "    }\n",
       "\n",
       "    .dataframe tbody tr th {\n",
       "        vertical-align: top;\n",
       "    }\n",
       "\n",
       "    .dataframe thead th {\n",
       "        text-align: right;\n",
       "    }\n",
       "</style>\n",
       "<table border=\"1\" class=\"dataframe\">\n",
       "  <thead>\n",
       "    <tr style=\"text-align: right;\">\n",
       "      <th></th>\n",
       "      <th>suicides_no</th>\n",
       "      <th>population</th>\n",
       "      <th>suicide_avg</th>\n",
       "    </tr>\n",
       "    <tr>\n",
       "      <th>country</th>\n",
       "      <th></th>\n",
       "      <th></th>\n",
       "      <th></th>\n",
       "    </tr>\n",
       "  </thead>\n",
       "  <tbody>\n",
       "    <tr>\n",
       "      <th>Lithuania</th>\n",
       "      <td>28039</td>\n",
       "      <td>68085210</td>\n",
       "      <td>41.182219</td>\n",
       "    </tr>\n",
       "    <tr>\n",
       "      <th>Russian Federation</th>\n",
       "      <td>1209742</td>\n",
       "      <td>3690802620</td>\n",
       "      <td>32.777207</td>\n",
       "    </tr>\n",
       "    <tr>\n",
       "      <th>Sri Lanka</th>\n",
       "      <td>55641</td>\n",
       "      <td>182525626</td>\n",
       "      <td>30.483939</td>\n",
       "    </tr>\n",
       "    <tr>\n",
       "      <th>Belarus</th>\n",
       "      <td>59892</td>\n",
       "      <td>197372292</td>\n",
       "      <td>30.344685</td>\n",
       "    </tr>\n",
       "    <tr>\n",
       "      <th>Hungary</th>\n",
       "      <td>73891</td>\n",
       "      <td>248644256</td>\n",
       "      <td>29.717558</td>\n",
       "    </tr>\n",
       "    <tr>\n",
       "      <th>Latvia</th>\n",
       "      <td>12770</td>\n",
       "      <td>44852640</td>\n",
       "      <td>28.471011</td>\n",
       "    </tr>\n",
       "    <tr>\n",
       "      <th>Kazakhstan</th>\n",
       "      <td>101546</td>\n",
       "      <td>377513869</td>\n",
       "      <td>26.898614</td>\n",
       "    </tr>\n",
       "    <tr>\n",
       "      <th>Slovenia</th>\n",
       "      <td>10615</td>\n",
       "      <td>40268619</td>\n",
       "      <td>26.360477</td>\n",
       "    </tr>\n",
       "    <tr>\n",
       "      <th>Estonia</th>\n",
       "      <td>7034</td>\n",
       "      <td>27090810</td>\n",
       "      <td>25.964525</td>\n",
       "    </tr>\n",
       "    <tr>\n",
       "      <th>Ukraine</th>\n",
       "      <td>319950</td>\n",
       "      <td>1286469184</td>\n",
       "      <td>24.870398</td>\n",
       "    </tr>\n",
       "  </tbody>\n",
       "</table>\n",
       "</div>"
      ],
      "text/plain": [
       "                    suicides_no  population  suicide_avg\n",
       "country                                                 \n",
       "Lithuania                 28039    68085210    41.182219\n",
       "Russian Federation      1209742  3690802620    32.777207\n",
       "Sri Lanka                 55641   182525626    30.483939\n",
       "Belarus                   59892   197372292    30.344685\n",
       "Hungary                   73891   248644256    29.717558\n",
       "Latvia                    12770    44852640    28.471011\n",
       "Kazakhstan               101546   377513869    26.898614\n",
       "Slovenia                  10615    40268619    26.360477\n",
       "Estonia                    7034    27090810    25.964525\n",
       "Ukraine                  319950  1286469184    24.870398"
      ]
     },
     "execution_count": 14,
     "metadata": {},
     "output_type": "execute_result"
    }
   ],
   "source": [
    "suicide_country = df_raw[['country', 'suicides_no', 'population']].groupby('country').agg('sum')\n",
    "suicide_country = suicide_country.assign(suicide_avg=100000*suicide_country.suicides_no/suicide_country.population)\n",
    "suicide_country.sort_values(by = ('suicide_avg'), ascending = False).head(10)"
   ]
  },
  {
   "cell_type": "code",
   "execution_count": 15,
   "metadata": {},
   "outputs": [
    {
     "data": {
      "text/html": [
       "<div>\n",
       "<style scoped>\n",
       "    .dataframe tbody tr th:only-of-type {\n",
       "        vertical-align: middle;\n",
       "    }\n",
       "\n",
       "    .dataframe tbody tr th {\n",
       "        vertical-align: top;\n",
       "    }\n",
       "\n",
       "    .dataframe thead th {\n",
       "        text-align: right;\n",
       "    }\n",
       "</style>\n",
       "<table border=\"1\" class=\"dataframe\">\n",
       "  <thead>\n",
       "    <tr style=\"text-align: right;\">\n",
       "      <th></th>\n",
       "      <th>suicides_no</th>\n",
       "      <th>population</th>\n",
       "      <th>suicide_avg</th>\n",
       "    </tr>\n",
       "    <tr>\n",
       "      <th>country</th>\n",
       "      <th></th>\n",
       "      <th></th>\n",
       "      <th></th>\n",
       "    </tr>\n",
       "  </thead>\n",
       "  <tbody>\n",
       "    <tr>\n",
       "      <th>Dominica</th>\n",
       "      <td>0</td>\n",
       "      <td>66400</td>\n",
       "      <td>0.000000</td>\n",
       "    </tr>\n",
       "    <tr>\n",
       "      <th>Saint Kitts and Nevis</th>\n",
       "      <td>0</td>\n",
       "      <td>117300</td>\n",
       "      <td>0.000000</td>\n",
       "    </tr>\n",
       "    <tr>\n",
       "      <th>Oman</th>\n",
       "      <td>33</td>\n",
       "      <td>8987087</td>\n",
       "      <td>0.367194</td>\n",
       "    </tr>\n",
       "    <tr>\n",
       "      <th>Jamaica</th>\n",
       "      <td>184</td>\n",
       "      <td>39481817</td>\n",
       "      <td>0.466037</td>\n",
       "    </tr>\n",
       "    <tr>\n",
       "      <th>Antigua and Barbuda</th>\n",
       "      <td>11</td>\n",
       "      <td>1990228</td>\n",
       "      <td>0.552700</td>\n",
       "    </tr>\n",
       "    <tr>\n",
       "      <th>Maldives</th>\n",
       "      <td>20</td>\n",
       "      <td>2900246</td>\n",
       "      <td>0.689597</td>\n",
       "    </tr>\n",
       "    <tr>\n",
       "      <th>South Africa</th>\n",
       "      <td>7321</td>\n",
       "      <td>873130762</td>\n",
       "      <td>0.838477</td>\n",
       "    </tr>\n",
       "    <tr>\n",
       "      <th>Bahamas</th>\n",
       "      <td>93</td>\n",
       "      <td>6557048</td>\n",
       "      <td>1.418321</td>\n",
       "    </tr>\n",
       "    <tr>\n",
       "      <th>Azerbaijan</th>\n",
       "      <td>1656</td>\n",
       "      <td>111790300</td>\n",
       "      <td>1.481345</td>\n",
       "    </tr>\n",
       "    <tr>\n",
       "      <th>Grenada</th>\n",
       "      <td>38</td>\n",
       "      <td>2347286</td>\n",
       "      <td>1.618891</td>\n",
       "    </tr>\n",
       "  </tbody>\n",
       "</table>\n",
       "</div>"
      ],
      "text/plain": [
       "                       suicides_no  population  suicide_avg\n",
       "country                                                    \n",
       "Dominica                         0       66400     0.000000\n",
       "Saint Kitts and Nevis            0      117300     0.000000\n",
       "Oman                            33     8987087     0.367194\n",
       "Jamaica                        184    39481817     0.466037\n",
       "Antigua and Barbuda             11     1990228     0.552700\n",
       "Maldives                        20     2900246     0.689597\n",
       "South Africa                  7321   873130762     0.838477\n",
       "Bahamas                         93     6557048     1.418321\n",
       "Azerbaijan                    1656   111790300     1.481345\n",
       "Grenada                         38     2347286     1.618891"
      ]
     },
     "execution_count": 15,
     "metadata": {},
     "output_type": "execute_result"
    }
   ],
   "source": [
    "suicide_country.sort_values(by = ('suicide_avg')).head(10)"
   ]
  },
  {
   "cell_type": "code",
   "execution_count": 16,
   "metadata": {},
   "outputs": [
    {
     "data": {
      "text/html": [
       "<div>\n",
       "<style scoped>\n",
       "    .dataframe tbody tr th:only-of-type {\n",
       "        vertical-align: middle;\n",
       "    }\n",
       "\n",
       "    .dataframe tbody tr th {\n",
       "        vertical-align: top;\n",
       "    }\n",
       "\n",
       "    .dataframe thead th {\n",
       "        text-align: right;\n",
       "    }\n",
       "</style>\n",
       "<table border=\"1\" class=\"dataframe\">\n",
       "  <thead>\n",
       "    <tr style=\"text-align: right;\">\n",
       "      <th></th>\n",
       "      <th>country</th>\n",
       "      <th>year</th>\n",
       "      <th>sex</th>\n",
       "      <th>age</th>\n",
       "      <th>suicides_no</th>\n",
       "      <th>population</th>\n",
       "      <th>suicides/100k pop</th>\n",
       "      <th>country-year</th>\n",
       "      <th>HDI for year</th>\n",
       "      <th>gdp_for_year ($)</th>\n",
       "      <th>gdp_per_capita ($)</th>\n",
       "      <th>generation</th>\n",
       "    </tr>\n",
       "  </thead>\n",
       "  <tbody>\n",
       "    <tr>\n",
       "      <th>7682</th>\n",
       "      <td>Dominica</td>\n",
       "      <td>1985</td>\n",
       "      <td>female</td>\n",
       "      <td>15-24 years</td>\n",
       "      <td>0</td>\n",
       "      <td>8900</td>\n",
       "      <td>0.0</td>\n",
       "      <td>Dominica1985</td>\n",
       "      <td>NaN</td>\n",
       "      <td>98,585,185</td>\n",
       "      <td>1485</td>\n",
       "      <td>Generation X</td>\n",
       "    </tr>\n",
       "    <tr>\n",
       "      <th>7683</th>\n",
       "      <td>Dominica</td>\n",
       "      <td>1985</td>\n",
       "      <td>female</td>\n",
       "      <td>25-34 years</td>\n",
       "      <td>0</td>\n",
       "      <td>5100</td>\n",
       "      <td>0.0</td>\n",
       "      <td>Dominica1985</td>\n",
       "      <td>NaN</td>\n",
       "      <td>98,585,185</td>\n",
       "      <td>1485</td>\n",
       "      <td>Boomers</td>\n",
       "    </tr>\n",
       "    <tr>\n",
       "      <th>7684</th>\n",
       "      <td>Dominica</td>\n",
       "      <td>1985</td>\n",
       "      <td>female</td>\n",
       "      <td>35-54 years</td>\n",
       "      <td>0</td>\n",
       "      <td>5400</td>\n",
       "      <td>0.0</td>\n",
       "      <td>Dominica1985</td>\n",
       "      <td>NaN</td>\n",
       "      <td>98,585,185</td>\n",
       "      <td>1485</td>\n",
       "      <td>Silent</td>\n",
       "    </tr>\n",
       "    <tr>\n",
       "      <th>7685</th>\n",
       "      <td>Dominica</td>\n",
       "      <td>1985</td>\n",
       "      <td>female</td>\n",
       "      <td>5-14 years</td>\n",
       "      <td>0</td>\n",
       "      <td>8600</td>\n",
       "      <td>0.0</td>\n",
       "      <td>Dominica1985</td>\n",
       "      <td>NaN</td>\n",
       "      <td>98,585,185</td>\n",
       "      <td>1485</td>\n",
       "      <td>Generation X</td>\n",
       "    </tr>\n",
       "    <tr>\n",
       "      <th>7686</th>\n",
       "      <td>Dominica</td>\n",
       "      <td>1985</td>\n",
       "      <td>female</td>\n",
       "      <td>55-74 years</td>\n",
       "      <td>0</td>\n",
       "      <td>3800</td>\n",
       "      <td>0.0</td>\n",
       "      <td>Dominica1985</td>\n",
       "      <td>NaN</td>\n",
       "      <td>98,585,185</td>\n",
       "      <td>1485</td>\n",
       "      <td>G.I. Generation</td>\n",
       "    </tr>\n",
       "    <tr>\n",
       "      <th>7687</th>\n",
       "      <td>Dominica</td>\n",
       "      <td>1985</td>\n",
       "      <td>female</td>\n",
       "      <td>75+ years</td>\n",
       "      <td>0</td>\n",
       "      <td>1200</td>\n",
       "      <td>0.0</td>\n",
       "      <td>Dominica1985</td>\n",
       "      <td>NaN</td>\n",
       "      <td>98,585,185</td>\n",
       "      <td>1485</td>\n",
       "      <td>G.I. Generation</td>\n",
       "    </tr>\n",
       "    <tr>\n",
       "      <th>7688</th>\n",
       "      <td>Dominica</td>\n",
       "      <td>1985</td>\n",
       "      <td>male</td>\n",
       "      <td>15-24 years</td>\n",
       "      <td>0</td>\n",
       "      <td>9500</td>\n",
       "      <td>0.0</td>\n",
       "      <td>Dominica1985</td>\n",
       "      <td>NaN</td>\n",
       "      <td>98,585,185</td>\n",
       "      <td>1485</td>\n",
       "      <td>Generation X</td>\n",
       "    </tr>\n",
       "    <tr>\n",
       "      <th>7689</th>\n",
       "      <td>Dominica</td>\n",
       "      <td>1985</td>\n",
       "      <td>male</td>\n",
       "      <td>25-34 years</td>\n",
       "      <td>0</td>\n",
       "      <td>5800</td>\n",
       "      <td>0.0</td>\n",
       "      <td>Dominica1985</td>\n",
       "      <td>NaN</td>\n",
       "      <td>98,585,185</td>\n",
       "      <td>1485</td>\n",
       "      <td>Boomers</td>\n",
       "    </tr>\n",
       "    <tr>\n",
       "      <th>7690</th>\n",
       "      <td>Dominica</td>\n",
       "      <td>1985</td>\n",
       "      <td>male</td>\n",
       "      <td>35-54 years</td>\n",
       "      <td>0</td>\n",
       "      <td>4900</td>\n",
       "      <td>0.0</td>\n",
       "      <td>Dominica1985</td>\n",
       "      <td>NaN</td>\n",
       "      <td>98,585,185</td>\n",
       "      <td>1485</td>\n",
       "      <td>Silent</td>\n",
       "    </tr>\n",
       "    <tr>\n",
       "      <th>7691</th>\n",
       "      <td>Dominica</td>\n",
       "      <td>1985</td>\n",
       "      <td>male</td>\n",
       "      <td>5-14 years</td>\n",
       "      <td>0</td>\n",
       "      <td>9300</td>\n",
       "      <td>0.0</td>\n",
       "      <td>Dominica1985</td>\n",
       "      <td>NaN</td>\n",
       "      <td>98,585,185</td>\n",
       "      <td>1485</td>\n",
       "      <td>Generation X</td>\n",
       "    </tr>\n",
       "    <tr>\n",
       "      <th>7692</th>\n",
       "      <td>Dominica</td>\n",
       "      <td>1985</td>\n",
       "      <td>male</td>\n",
       "      <td>55-74 years</td>\n",
       "      <td>0</td>\n",
       "      <td>3200</td>\n",
       "      <td>0.0</td>\n",
       "      <td>Dominica1985</td>\n",
       "      <td>NaN</td>\n",
       "      <td>98,585,185</td>\n",
       "      <td>1485</td>\n",
       "      <td>G.I. Generation</td>\n",
       "    </tr>\n",
       "    <tr>\n",
       "      <th>7693</th>\n",
       "      <td>Dominica</td>\n",
       "      <td>1985</td>\n",
       "      <td>male</td>\n",
       "      <td>75+ years</td>\n",
       "      <td>0</td>\n",
       "      <td>700</td>\n",
       "      <td>0.0</td>\n",
       "      <td>Dominica1985</td>\n",
       "      <td>NaN</td>\n",
       "      <td>98,585,185</td>\n",
       "      <td>1485</td>\n",
       "      <td>G.I. Generation</td>\n",
       "    </tr>\n",
       "  </tbody>\n",
       "</table>\n",
       "</div>"
      ],
      "text/plain": [
       "       country  year     sex          age  suicides_no  population  \\\n",
       "7682  Dominica  1985  female  15-24 years            0        8900   \n",
       "7683  Dominica  1985  female  25-34 years            0        5100   \n",
       "7684  Dominica  1985  female  35-54 years            0        5400   \n",
       "7685  Dominica  1985  female   5-14 years            0        8600   \n",
       "7686  Dominica  1985  female  55-74 years            0        3800   \n",
       "7687  Dominica  1985  female    75+ years            0        1200   \n",
       "7688  Dominica  1985    male  15-24 years            0        9500   \n",
       "7689  Dominica  1985    male  25-34 years            0        5800   \n",
       "7690  Dominica  1985    male  35-54 years            0        4900   \n",
       "7691  Dominica  1985    male   5-14 years            0        9300   \n",
       "7692  Dominica  1985    male  55-74 years            0        3200   \n",
       "7693  Dominica  1985    male    75+ years            0         700   \n",
       "\n",
       "      suicides/100k pop  country-year  HDI for year  gdp_for_year ($)   \\\n",
       "7682                0.0  Dominica1985           NaN         98,585,185   \n",
       "7683                0.0  Dominica1985           NaN         98,585,185   \n",
       "7684                0.0  Dominica1985           NaN         98,585,185   \n",
       "7685                0.0  Dominica1985           NaN         98,585,185   \n",
       "7686                0.0  Dominica1985           NaN         98,585,185   \n",
       "7687                0.0  Dominica1985           NaN         98,585,185   \n",
       "7688                0.0  Dominica1985           NaN         98,585,185   \n",
       "7689                0.0  Dominica1985           NaN         98,585,185   \n",
       "7690                0.0  Dominica1985           NaN         98,585,185   \n",
       "7691                0.0  Dominica1985           NaN         98,585,185   \n",
       "7692                0.0  Dominica1985           NaN         98,585,185   \n",
       "7693                0.0  Dominica1985           NaN         98,585,185   \n",
       "\n",
       "      gdp_per_capita ($)       generation  \n",
       "7682                1485     Generation X  \n",
       "7683                1485          Boomers  \n",
       "7684                1485           Silent  \n",
       "7685                1485     Generation X  \n",
       "7686                1485  G.I. Generation  \n",
       "7687                1485  G.I. Generation  \n",
       "7688                1485     Generation X  \n",
       "7689                1485          Boomers  \n",
       "7690                1485           Silent  \n",
       "7691                1485     Generation X  \n",
       "7692                1485  G.I. Generation  \n",
       "7693                1485  G.I. Generation  "
      ]
     },
     "execution_count": 16,
     "metadata": {},
     "output_type": "execute_result"
    }
   ],
   "source": [
    "df_raw.loc[df_raw['country'] == 'Dominica']"
   ]
  },
  {
   "cell_type": "code",
   "execution_count": 17,
   "metadata": {},
   "outputs": [
    {
     "data": {
      "image/png": "[encoded data removed]",
      "text/plain": [
       "<Figure size 432x288 with 1 Axes>"
      ]
     },
     "metadata": {
      "needs_background": "light"
     },
     "output_type": "display_data"
    }
   ],
   "source": [
    "## year\n",
    "\n",
    "suicide_year = df_raw[['year', 'suicides_no', 'population']].groupby('year').agg('sum')\n",
    "suicide_year = suicide_year.assign(suicide_avg=100000*suicide_year.suicides_no/suicide_year.population)\n",
    "\n",
    "plt.plot(range(1985, 2017), suicide_year['suicide_avg'])\n",
    "plt.axis([1985, 2017, 0, 15.5])\n",
    "plt.title(\"suicides/100k from 1985 to 2016\")\n",
    "plt.ylabel(\"suicides rate\")\n",
    "plt.xlabel(\"year\")\n",
    "plt.show()"
   ]
  },
  {
   "cell_type": "code",
   "execution_count": 18,
   "metadata": {},
   "outputs": [
    {
     "data": {
      "image/png": "[encoded data removed]",
      "text/plain": [
       "<Figure size 432x288 with 1 Axes>"
      ]
     },
     "metadata": {
      "needs_background": "light"
     },
     "output_type": "display_data"
    }
   ],
   "source": [
    "df_us = df_raw[df_raw['country'] == 'United States']\n",
    "df_us_year = df_us[['year', 'suicides_no', 'population']].groupby('year').agg('sum')\n",
    "df_us_year = df_us_year.assign(suicide_avg=100000*df_us_year.suicides_no/df_us_year.population)\n",
    "\n",
    "plt.plot(range(1985, 2016), df_us_year['suicide_avg'])\n",
    "plt.axis([1985, 2016, 0, 15.5])\n",
    "plt.title(\"suicides/100k of US from 1985 to 2015\")\n",
    "plt.ylabel(\"suicides rate\")\n",
    "plt.xlabel(\"year\")\n",
    "plt.show()"
   ]
  },
  {
   "cell_type": "code",
   "execution_count": 19,
   "metadata": {},
   "outputs": [
    {
     "data": {
      "image/png": "[encoded data removed]",
      "text/plain": [
       "<Figure size 432x288 with 1 Axes>"
      ]
     },
     "metadata": {
      "needs_background": "light"
     },
     "output_type": "display_data"
    }
   ],
   "source": [
    "### sex\n",
    "\n",
    "suicide_male = df_raw[df_raw['sex'] == 'male'][['suicides/100k pop']]\n",
    "suicide_female = df_raw[df_raw['sex'] == 'female'][['suicides/100k pop']]\n",
    "\n",
    "plt.boxplot([suicide_male['suicides/100k pop'], suicide_female['suicides/100k pop']], labels = ['male', 'female'])\n",
    "plt.title(\"Suicide Rate of Different Sex\")\n",
    "plt.ylabel(\"suicide rates\")\n",
    "plt.show()"
   ]
  },
  {
   "cell_type": "code",
   "execution_count": 20,
   "metadata": {},
   "outputs": [
    {
     "name": "stdout",
     "output_type": "stream",
     "text": [
      "6 unique age buckets:\n",
      " ['15-24 years' '35-54 years' '75+ years' '25-34 years' '55-74 years'\n",
      " '5-14 years']\n",
      "\n"
     ]
    },
    {
     "data": {
      "image/png": "[encoded data removed]",
      "text/plain": [
       "<Figure size 432x288 with 1 Axes>"
      ]
     },
     "metadata": {
      "needs_background": "light"
     },
     "output_type": "display_data"
    }
   ],
   "source": [
    "### age bucket\n",
    "\n",
    "print(\"6 unique age buckets:\\n\", df_raw['age'].unique(), end = '\\n\\n')\n",
    "label_age = ['5-14 years', '15-24 years', '25-34 years', '35-54 years', '55-74 years', '75+ years']\n",
    "\n",
    "suicide_age1 = df_raw.loc[df_raw['age'] == label_age[0]][['suicides/100k pop']]\n",
    "suicide_age2 = df_raw.loc[df_raw['age'] == label_age[1]][['suicides/100k pop']]\n",
    "suicide_age3 = df_raw.loc[df_raw['age'] == label_age[2]][['suicides/100k pop']]\n",
    "suicide_age4 = df_raw.loc[df_raw['age'] == label_age[3]][['suicides/100k pop']]\n",
    "suicide_age5 = df_raw.loc[df_raw['age'] == label_age[4]][['suicides/100k pop']]\n",
    "suicide_age6 = df_raw.loc[df_raw['age'] == label_age[5]][['suicides/100k pop']]\n",
    "\n",
    "plt.boxplot([suicide_age1['suicides/100k pop'], suicide_age2['suicides/100k pop'],\n",
    "             suicide_age3['suicides/100k pop'], suicide_age4['suicides/100k pop'],\n",
    "             suicide_age5['suicides/100k pop'], suicide_age6['suicides/100k pop']], labels = label_age)\n",
    "plt.title(\"Suicide Rate of Different Age Bucket\")\n",
    "plt.ylabel(\"suicide counts\")\n",
    "plt.show()"
   ]
  },
  {
   "cell_type": "code",
   "execution_count": 21,
   "metadata": {},
   "outputs": [
    {
     "data": {
      "image/png": "[encoded data removed]",
      "text/plain": [
       "<Figure size 432x288 with 1 Axes>"
      ]
     },
     "metadata": {
      "needs_background": "light"
     },
     "output_type": "display_data"
    }
   ],
   "source": [
    "### gdp per capita\n",
    "\n",
    "suicide_gdp = df_raw[['country-year', 'gdp_per_capita ($)',\n",
    "                      'suicides_no', 'population']].groupby('country-year').agg('sum')\n",
    "suicide_gdp = suicide_gdp.assign(suicide_avg=100000*suicide_gdp.suicides_no/suicide_gdp.population)\n",
    "\n",
    "plt.plot(suicide_gdp['gdp_per_capita ($)'], suicide_gdp['suicide_avg'], '.')\n",
    "plt.title(\"Average Suicide Rates and gdp_per_captia\")\n",
    "plt.xlabel(\"gdp_per_captia ($)\")\n",
    "plt.ylabel(\"average suicide rates\")\n",
    "plt.show()"
   ]
  },
  {
   "cell_type": "code",
   "execution_count": 22,
   "metadata": {},
   "outputs": [
    {
     "data": {
      "image/png": "[encoded data removed]",
      "text/plain": [
       "<Figure size 432x288 with 1 Axes>"
      ]
     },
     "metadata": {
      "needs_background": "light"
     },
     "output_type": "display_data"
    }
   ],
   "source": [
    "### HDI\n",
    "\n",
    "df_clean = df_raw[df_raw['HDI for year'].notna()]\n",
    "df_hdi = df_clean[['country-year', 'HDI for year', 'suicides_no', 'population']].groupby('country-year').agg('sum')\n",
    "df_hdi = df_hdi.assign(suicide_avg=100000*df_hdi.suicides_no/df_hdi.population)\n",
    "\n",
    "plt.plot(df_hdi['HDI for year'], df_hdi['suicide_avg'], '.')\n",
    "plt.title(\"Average Suicide Rates and HDI\")\n",
    "plt.xlabel(\"Human Development Index (HDI)\")\n",
    "plt.ylabel(\"average suicide rates\")\n",
    "plt.show()"
   ]
  },
  {
   "cell_type": "code",
   "execution_count": 23,
   "metadata": {},
   "outputs": [
    {
     "name": "stdout",
     "output_type": "stream",
     "text": [
      "6 unique age buckets:\n",
      " ['Boomers', 'G.I. Generation', 'Generation X', 'Generation Z', 'Millenials', 'Silent']\n",
      "\n"
     ]
    },
    {
     "data": {
      "image/png": "[encoded data removed]",
      "text/plain": [
       "<Figure size 432x288 with 1 Axes>"
      ]
     },
     "metadata": {
      "needs_background": "light"
     },
     "output_type": "display_data"
    }
   ],
   "source": [
    "### generation\n",
    "label_gen = sorted(df_raw['generation'].unique())\n",
    "print(\"6 unique age buckets:\\n\", label_gen, end = '\\n\\n')\n",
    "\n",
    "suicide_gen1 = df_raw.loc[df_raw['generation'] == label_gen[0]][['suicides/100k pop']]\n",
    "suicide_gen2 = df_raw.loc[df_raw['generation'] == label_gen[1]][['suicides/100k pop']]\n",
    "suicide_gen3 = df_raw.loc[df_raw['generation'] == label_gen[2]][['suicides/100k pop']]\n",
    "suicide_gen4 = df_raw.loc[df_raw['generation'] == label_gen[3]][['suicides/100k pop']]\n",
    "suicide_gen5 = df_raw.loc[df_raw['generation'] == label_gen[4]][['suicides/100k pop']]\n",
    "suicide_gen6 = df_raw.loc[df_raw['generation'] == label_gen[5]][['suicides/100k pop']]\n",
    "\n",
    "plt.boxplot([suicide_gen1['suicides/100k pop'], suicide_gen2['suicides/100k pop'],\n",
    "             suicide_gen3['suicides/100k pop'], suicide_gen4['suicides/100k pop'],\n",
    "             suicide_gen5['suicides/100k pop'], suicide_gen6['suicides/100k pop']], labels = label_gen)\n",
    "plt.title(\"Suicide Rate of Different Generation\")\n",
    "plt.ylabel(\"suicide counts\")\n",
    "plt.show()"
   ]
  },
  {
   "cell_type": "markdown",
   "metadata": {},
   "source": [
    "### Visual Analysis\n",
    "\n",
    "1. The suicide rate around the world goes up and then down, while the united states goes down and then up.\n",
    "\n",
    "2. Men has a higher suicide rate than women.\n",
    "\n",
    "3. Elders are more likely to commit suicide.\n",
    "\n",
    "4. The higher the GDP per captia, the lower the suicide rates.\n",
    "\n",
    "5. Need more research to find the relationship between HDI, generation and suicide rates\n",
    "\n",
    "\n",
    "### Future Research\n",
    "\n",
    "1. These plot here only show the marginal relationship between one independent variable and the dependent variable. This relationship might be biased by other independent variables and we could not see them here. In order to seperate these relationships, we can apply a linear regression model on this data. In this way, we might be able to find more interesting stuffs.\n",
    "\n",
    "2. Moreover, there might be some interactions between these variables, which also need to be addressed if more researches would be carried out.\n",
    "\n",
    "3. United States have a different pattern of suicide rates against year when compared to the whole world. Is this only the pattern of United States? Or is this a pattern of developed countries? We need further investigation to this dataset in order to answer this questions.\n",
    "\n",
    "4. Notice that there exists some points with extrem high suicide rates. We need to pay attention to these points in the future. Also, we could form a hypothesis for the phenomenon and find ways to test it. This might help us better understand the possible causes of high or low suicide rates so that governments could make policies accordingly to decrease the suicide rates."
   ]
  }
 ],
 "metadata": {
  "kernelspec": {
   "display_name": "Python 3",
   "language": "python",
   "name": "python3"
  },
  "language_info": {
   "codemirror_mode": {
    "name": "ipython",
    "version": 3
   },
   "file_extension": ".py",
   "mimetype": "text/x-python",
   "name": "python",
   "nbconvert_exporter": "python",
   "pygments_lexer": "ipython3",
   "version": "3.7.2"
  }
 },
 "nbformat": 4,
 "nbformat_minor": 2
}
