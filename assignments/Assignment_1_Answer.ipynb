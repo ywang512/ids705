{
 "cells": [
  {
   "cell_type": "markdown",
   "metadata": {},
   "source": [
    "# Assignment 1 - Probability, Linear Algebra, Programming, and Git\n",
    "\n",
    "## *Yifei Wang*\n",
    "Netid:  *yw323*"
   ]
  },
  {
   "cell_type": "markdown",
   "metadata": {},
   "source": [
    "# Probability and Statistics Theory"
   ]
  },
  {
   "cell_type": "markdown",
   "metadata": {
    "collapsed": true
   },
   "source": [
    "## 1\n",
    "Let $f(x) = \\begin{cases}\n",
    "                0           & x < 0  \\\\\n",
    "                \\alpha x^2  & 0 \\leq x \\leq 2 \\\\\n",
    "                0           & 2 < x\n",
    "            \\end{cases}$\n",
    "            \n",
    "For what value of $\\alpha$ is $f(x)$ a valid probability density function?\n",
    "\n",
    "*Note: for all assignments, write out all equations and math for all assignments using markdown and [LaTeX](https://tobi.oetiker.ch/lshort/lshort.pdf) and show all work*"
   ]
  },
  {
   "cell_type": "markdown",
   "metadata": {},
   "source": [
    "**ANSWER**\n",
    "\n",
    "For a valid probability density function, $f(x)$ should satisfy that $\\int_{-\\infty}^{+\\infty} f(x) = 1$. Thus we have,\n",
    "\n",
    "$$\n",
    "\\begin{align}\n",
    "1 &= \\int_{-\\infty}^{+\\infty} f(x) \\mathrm{d}x \\\\ \n",
    "  &= \\int_{-\\infty}^{0} 0 \\mathrm{d}x + \\int_{0}^{2} \\alpha x^2 \\mathrm{d}x + \\int_{2}^{\\infty} 0 \\mathrm{d}x \\\\\n",
    "  &= \\frac83 \\alpha\n",
    "\\end{align}\n",
    "$$\n",
    "\n",
    "Therefore, we have that $\\alpha = \\frac38$\n",
    "\n",
    "This also satisfy the requirement of $f(x)>0$ for a probability density function."
   ]
  },
  {
   "cell_type": "markdown",
   "metadata": {},
   "source": [
    "## 2\n",
    "What is the cumulative distribution function (CDF) that corresponds to the following probability distribution function? Please state the value of the CDF for all possible values of $x$.\n",
    "\n",
    "$f(x) = \\begin{cases}\n",
    "    \\frac{1}{3} & 0 < x < 3 \\\\\n",
    "    0           & \\text{otherwise}\n",
    "    \\end{cases}$"
   ]
  },
  {
   "cell_type": "markdown",
   "metadata": {},
   "source": [
    "**ANSWER**\n",
    "\n",
    "Denote the CDF of $f(x)$ as $P(X)$. For any $0 < X < 3$ we have,\n",
    "\n",
    "$$\n",
    "\\begin{align}\n",
    "P(X) &= \\int_{-\\infty}^{X} f(x) \\mathrm{d}x \\\\\n",
    "     &= \\int_{-\\infty}^{0} 0 \\mathrm{d}x + \\int_{0}^{X} \\frac{1}{3} \\mathrm{d}x \\\\\n",
    "     &= \\frac{X}{3}\n",
    "\\end{align}\n",
    "$$\n",
    "\n",
    "Therefore for any $X \\in \\mathbb{R}$ we have,\n",
    "\n",
    "$$\n",
    "P(X) = \\begin{cases}\n",
    "    0           & X \\le 0 \\\\\n",
    "    \\dfrac{X}{3} & 0 < X \\le 3 \\\\\n",
    "    1           & X > 3 \\\\\n",
    "    \\end{cases}\n",
    "$$"
   ]
  },
  {
   "cell_type": "markdown",
   "metadata": {},
   "source": [
    "## 3\n",
    "For the probability distribution function for the random variable $X$,\n",
    "\n",
    "$f(x) = \\begin{cases}\n",
    "    \\frac{1}{3} & 0 < x < 3 \\\\\n",
    "    0           & \\text{otherwise}\n",
    "    \\end{cases}$\n",
    "    \n",
    "what is the (a) expected value and (b) variance of $X$. *Show all work*."
   ]
  },
  {
   "cell_type": "markdown",
   "metadata": {},
   "source": [
    "**ANSWER**\n",
    "\n",
    "(a) Expected value:\n",
    "\n",
    "$$\n",
    "\\begin{aligned}\n",
    "\\mathrm{E} [X] &= \\int_{-\\infty}^{\\infty} x f(x) \\mathrm{d}x \\\\\n",
    "               &= \\int_0^3 \\frac x3 \\mathrm{d}x \\\\\n",
    "               &= \\frac 32\n",
    "\\end{aligned}\n",
    "$$\n",
    "\n",
    "\n",
    "(b) Variance:\n",
    "\n",
    "Denote $\\mu$ as $\\mathrm{E}[X]$, then we have,\n",
    "\n",
    "$$\n",
    "\\begin{align}\n",
    "\\mathrm{Var} [X] &= \\int_{-\\infty}^{\\infty} (x - \\mu)^2 f(x) \\mathrm{d}x \\\\\n",
    "                 &= \\int_{-\\infty}^{\\infty} x^2 f(x) \\mathrm{d}x - \n",
    "                    2\\mu \\int_{-\\infty}^{\\infty} x f(x) \\mathrm{d}x +\n",
    "                    \\mu^2 \\int_{-\\infty}^{\\infty} f(x) \\mathrm{d}x \\\\\n",
    "                 &= \\int_{-\\infty}^{\\infty} x^2 f(x) \\mathrm{d}x - \\mu^2 \\\\\n",
    "                 &= \\int_0^3 \\frac {x^2}3 \\mathrm{d}x - (\\frac32)^2 \\\\\n",
    "                 &= 3 - \\frac94 \\\\\n",
    "                 &= \\frac34\n",
    "\\end{align}\n",
    "$$"
   ]
  },
  {
   "cell_type": "markdown",
   "metadata": {},
   "source": [
    "## 4\n",
    "Consider the following table of data that provides the values of a discrete data vector $\\mathbf{x}$ of samples from the random variable $X$, where each entry in $\\mathbf{x}$ is given as $x_i$.\n",
    "\n",
    "*Table 1. Dataset N=5 observations*\n",
    "\n",
    "|   n     | $x_0$ | $x_1$ | $x_2$ | $x_3$ | $x_4$ |\n",
    "|------  |-------|-------|-------|-------|-------|\n",
    "|$\\textbf{x}$| 2     | 3     | 10    | -1    | -1    |\n",
    "\n",
    "What is the (a) mean, (b) variance, and the  of the data? \n",
    "\n",
    "*Show all work. Your answer should include the definition of mean, median, and variance in the context of discrete data.*"
   ]
  },
  {
   "cell_type": "markdown",
   "metadata": {},
   "source": [
    "**ANSWER**\n",
    "\n",
    "(a) Mean\n",
    "\n",
    "$$\n",
    "\\begin{aligned}\n",
    "\\mathrm{E} [X] &= \\frac1N \\sum_0^N x_i \\\\\n",
    "               &= \\frac15 \\times (2 + 3 + 10 + (-1) + (-1)) \\\\\n",
    "               &= 2.6\n",
    "\\end{aligned}\n",
    "$$\n",
    "\n",
    "(b) Variance\n",
    "\n",
    "$$\n",
    "\\begin{aligned}\n",
    "\\mathrm{Var} [X] &= \\frac1N \\sum_0^N (x_i - \\mathrm{E}[X])^2 \\\\\n",
    "                 &= \\frac15 \\times ((2 - 2.6)^2 + (3 - 2.6)^2 + (10 - 2.6)^2 + (-1 - 2.6)^2 + (-1 - 2.6)^2) \\\\\n",
    "                 &= 16.24\n",
    "\\end{aligned}\n",
    "$$\n",
    "\n",
    "(c) Median\n",
    "\n",
    "The median is the middle value that separates the higher half from the lower half of a data sample.\n",
    "\n",
    "Therefore, the median of this data is 2."
   ]
  },
  {
   "cell_type": "markdown",
   "metadata": {},
   "source": [
    "## 5\n",
    "Review of counting from probability theory. \n",
    "\n",
    "(a) How many different 7-place license plates are possible if the first 3 places only contain letters and the last 4 only contain numbers?\n",
    "\n",
    "(b) How many different batting orders are possible for a baseball team with 9 players?\n",
    "\n",
    "(c) How many batting orders of 5 players are possible for a team with 9 players total?\n",
    "\n",
    "(d) Let's assume this class has 26 students and we want to form project teams. How many unique teams of 3 are possible?\n",
    "\n",
    "*Hint: For each problem, determine if order matters, and if it should be calculated with or without replacement.*"
   ]
  },
  {
   "cell_type": "markdown",
   "metadata": {},
   "source": [
    "**ANSWER**\n",
    "\n",
    "(a)\n",
    "\n",
    "There are 26 different letters (a-z) and 10 different numbers (0-9) in all. Also, order matters for this problem, and it should be calculated with replacement because repeated characters are allowed. Thus there are\n",
    "$26 \\times 26 \\times 26 \\times 10 \\times 10 \\times 10 \\times 10 = 175760000$\n",
    "different 2-place license plates.\n",
    "\n",
    "(b)\n",
    "\n",
    "Order matters for this problem, and it should be calculated without replacement because one player could only take one position. This is a permutation of 9 players. Thus there are $9! = 362880$ different possible batting orders for these 9 players.\n",
    "\n",
    "(c)\n",
    "\n",
    "Order matters for this problem, and it should be calculated without replacement because one player could only take one position. This is the permutation of 5 players from 9 players. Thus there are $9 \\times 8 \\times 7 \\times 6 \\times 5 = 15120$ different possible batting orders for choosing 5 players from 9 players.\n",
    "\n",
    "(d)\n",
    "\n",
    "Order does not matter for this problem, and  it should be calculated without replacement. This is a combination problem, so there are ${26 \\choose 3} = 2600$ possible unique teams of 3."
   ]
  },
  {
   "cell_type": "markdown",
   "metadata": {},
   "source": [
    "# Linear Algebra"
   ]
  },
  {
   "cell_type": "markdown",
   "metadata": {},
   "source": [
    "## 6\n",
    "**Matrix manipulations and multiplication**. Machine learning involves working with many matrices, so this exercise will provide you with the opportunity to practice those skills.\n",
    "\n",
    "Let\n",
    "$\\mathbf{A} =  \\begin{bmatrix}\n",
    "1 & 2 & 3 \\\\\n",
    "2 & 4 & 5 \\\\\n",
    "3 & 5 & 6 \n",
    "\\end{bmatrix}$, $\\mathbf{b} =  \\begin{bmatrix}\n",
    "-1  \\\\\n",
    "3  \\\\\n",
    "8  \n",
    "\\end{bmatrix}$, $\\mathbf{c} =  \\begin{bmatrix}\n",
    "4  \\\\\n",
    "-3  \\\\\n",
    "6  \n",
    "\\end{bmatrix}$, and $\\mathbf{I} =  \\begin{bmatrix}\n",
    "1 & 0 & 0 \\\\\n",
    "0 & 1 & 0 \\\\\n",
    "0 & 0 & 1 \n",
    "\\end{bmatrix}$\n",
    "\n",
    "Compute the following or indicate that it cannot be computed:\n",
    "\n",
    "1. $\\mathbf{A}\\mathbf{A}$\n",
    "2. $\\mathbf{A}\\mathbf{A}^T$\n",
    "3. $\\mathbf{A}\\mathbf{b}$\n",
    "4. $\\mathbf{A}\\mathbf{b}^T$\n",
    "5. $\\mathbf{b}\\mathbf{A}$\n",
    "6. $\\mathbf{b}^T\\mathbf{A}$\n",
    "7. $\\mathbf{b}\\mathbf{b}$\n",
    "8. $\\mathbf{b}^T\\mathbf{b}$\n",
    "9. $\\mathbf{b}\\mathbf{b}^T$\n",
    "10. $\\mathbf{b} + \\mathbf{c}^T$\n",
    "11. $\\mathbf{b}^T\\mathbf{b}^T$\n",
    "12. $\\mathbf{A}^{-1}\\mathbf{b}$\n",
    "13. $\\mathbf{A}\\circ\\mathbf{A}$\n",
    "14. $\\mathbf{b}\\circ\\mathbf{c}$\n",
    "\n",
    "*Note: The element-wise (or Hadamard) product is the product of each element in one matrix with the corresponding element in another matrix, and is represented by the symbol \"$\\circ$\".*"
   ]
  },
  {
   "cell_type": "markdown",
   "metadata": {},
   "source": [
    "**ANSWER**\n",
    "\n",
    "Let\n",
    "$\\mathbf{A} =  \\begin{bmatrix}\n",
    "1 & 2 & 3 \\\\\n",
    "2 & 4 & 5 \\\\\n",
    "3 & 5 & 6 \n",
    "\\end{bmatrix}$, $\\mathbf{b} =  \\begin{bmatrix}\n",
    "-1  \\\\\n",
    "3  \\\\\n",
    "8  \n",
    "\\end{bmatrix}$, $\\mathbf{c} =  \\begin{bmatrix}\n",
    "4  \\\\\n",
    "-3  \\\\\n",
    "6  \n",
    "\\end{bmatrix}$, and $\\mathbf{I} =  \\begin{bmatrix}\n",
    "1 & 0 & 0 \\\\\n",
    "0 & 1 & 0 \\\\\n",
    "0 & 0 & 1 \n",
    "\\end{bmatrix}$\n",
    "\n",
    "1. \n",
    "$\n",
    "\\mathbf{A}\\mathbf{A} = \n",
    "\\begin{bmatrix} 1 & 2 & 3 \\\\ 2 & 4 & 5 \\\\ 3 & 5 & 6 \\end{bmatrix}\n",
    "\\times\n",
    "\\begin{bmatrix} 1 & 2 & 3 \\\\ 2 & 4 & 5 \\\\ 3 & 5 & 6 \\end{bmatrix}\n",
    "=\n",
    "\\begin{bmatrix} 1\\times1+2\\times2+3\\times3 & 1\\times2+2\\times4+3\\times5 & 1\\times3+2\\times5+3\\times6 \\\\\n",
    "2\\times1+4\\times2+5\\times3 & 2\\times2+4\\times4+5\\times5 & 2\\times3+4\\times5+5\\times6 \\\\\n",
    "3\\times1+5\\times2+6\\times3 & 3\\times2+5\\times4+6\\times5 & 3\\times3+5\\times5+6\\times6 \\end{bmatrix}\n",
    "= \n",
    "\\begin{bmatrix} 14 & 25 & 31 \\\\ 25 & 45 & 56 \\\\ 31 & 56 & 70 \\end{bmatrix}\n",
    "$\n",
    "\n",
    "\n",
    "2. \n",
    "$\n",
    "\\mathbf{A}\\mathbf{A}^T = \n",
    "\\begin{bmatrix} 1 & 2 & 3 \\\\ 2 & 4 & 5 \\\\ 3 & 5 & 6 \\end{bmatrix}\n",
    "\\times\n",
    "\\begin{bmatrix} 1 & 2 & 3 \\\\ 2 & 4 & 5 \\\\ 3 & 5 & 6 \\end{bmatrix}\n",
    "=\n",
    "\\begin{bmatrix} 1\\times1+2\\times2+3\\times3 & 1\\times2+2\\times4+3\\times5 & 1\\times3+2\\times5+3\\times6 \\\\\n",
    "2\\times1+4\\times2+5\\times3 & 2\\times2+4\\times4+5\\times5 & 2\\times3+4\\times5+5\\times6 \\\\\n",
    "3\\times1+5\\times2+6\\times3 & 3\\times2+5\\times4+6\\times5 & 3\\times3+5\\times5+6\\times6 \\end{bmatrix}\n",
    "= \n",
    "\\begin{bmatrix} 14 & 25 & 31 \\\\ 25 & 45 & 56 \\\\ 31 & 56 & 70 \\end{bmatrix}\n",
    "$\n",
    "\n",
    "\n",
    "3. \n",
    "$\n",
    "\\mathbf{A}\\mathbf{b} = \n",
    "\\begin{bmatrix} 1 & 2 & 3 \\\\ 2 & 4 & 5 \\\\ 3 & 5 & 6 \\end{bmatrix}\n",
    "\\times\n",
    "\\begin{bmatrix} -1 \\\\ 3 \\\\ 8 \\end{bmatrix}\n",
    "=\n",
    "\\begin{bmatrix} 1\\times(-1)+2\\times3+3\\times8 \\\\ 2\\times(-1)+4\\times3+5\\times8 \\\\ 3\\times(-1)+5\\times3+6\\times8 \\end{bmatrix}\n",
    "= \\begin{bmatrix} 29 \\\\ 50 \\\\ 60 \\end{bmatrix}\n",
    "$\n",
    "\n",
    "\n",
    "4. \n",
    "$\\mathbf{A}\\mathbf{b}^T$ is $(3\\times3)\\times(1\\times3)$ matrix, which cannot to be calculated.\n",
    "\n",
    "\n",
    "5. \n",
    "$\\mathbf{b}\\mathbf{A}$ is $(3\\times1)\\times(3\\times3)$ matrix, which cannot to be calculated.\n",
    "\n",
    "\n",
    "6. \n",
    "$\n",
    "\\mathbf{b}^T\\mathbf{A} = \n",
    "\\begin{bmatrix} -1 & 3 & 8 \\end{bmatrix}\n",
    "\\times\n",
    "\\begin{bmatrix} 1 & 2 & 3 \\\\ 2 & 4 & 5 \\\\ 3 & 5 & 6 \\end{bmatrix} = \n",
    "\\begin{bmatrix} -1\\times1+3\\times2+8\\times3 & -1\\times2+3\\times4+8\\times5 & -1\\times3+3\\times5+8\\times6 \\end{bmatrix}\n",
    "= \\begin{bmatrix} 29 & 50 & 60\\end{bmatrix}\n",
    "$\n",
    "\n",
    "\n",
    "7. $\\mathbf{b}\\mathbf{b}$ is $(3\\times1)\\times(3\\times1)$ matrix, which cannot to be calculated.\n",
    "\n",
    "\n",
    "8. \n",
    "$\n",
    "\\mathbf{b}^T\\mathbf{b} = \n",
    "\\begin{bmatrix} -1 & 3 & 8 \\end{bmatrix}\n",
    "\\times\n",
    "\\begin{bmatrix} -1 \\\\ 3 \\\\ 8 \\end{bmatrix} = \n",
    "\\begin{bmatrix} -1\\times(-1)+3\\times3+8\\times8 \\end{bmatrix} = 74\n",
    "$\n",
    "\n",
    "\n",
    "9. \n",
    "$\n",
    "\\mathbf{b}\\mathbf{b}^T = \n",
    "\\begin{bmatrix} -1 \\\\ 3 \\\\ 8 \\end{bmatrix}\n",
    "\\times\n",
    "\\begin{bmatrix} -1 & 3 & 8 \\end{bmatrix} = \n",
    "\\begin{bmatrix} -1\\times(-1) & -1\\times3 & -1\\times8 \\\\\n",
    "3\\times(-1) & 3\\times3 & 3\\times8 \\\\\n",
    "8\\times(-1) & 8\\times3 & 8\\times8 \\end{bmatrix} = \n",
    "\\begin{bmatrix} 1 & -3 & -8 \\\\ -3 & 9 & 24 \\\\ -8 & 24 & 64 \\end{bmatrix}\n",
    "$\n",
    "\n",
    "\n",
    "10. $\\mathbf{b} + \\mathbf{c}^T$ cannot to be calculated, \n",
    "because $\\mathbf{b}$ is $3\\times1$ and $\\mathbf{c}^T$ is $1\\times3$.\n",
    "\n",
    "\n",
    "11. $\\mathbf{b}^T\\mathbf{b}^T$ cannot to be calculated, because it's $(1\\times3)\\times(1\\times3)$.\n",
    "\n",
    "\n",
    "12. First we try to find $\\mathbf{A}^{-1}$.\n",
    "\n",
    "$\n",
    "\\begin{bmatrix}\n",
    "1 & 2 & 3 & | & 1 & 0 & 0 \\\\\n",
    "2 & 4 & 5 & | & 0 & 1 & 0 \\\\\n",
    "3 & 5 & 6 & | & 0 & 0 & 1 \n",
    "\\end{bmatrix}\n",
    "\\xrightarrow [R_3 \\leftarrow R_3 + (-3) \\times R_1] {R_2 \\leftarrow R_2 + (-2) \\times R_1}\n",
    "\\begin{bmatrix}\n",
    "1 & 2 & 3 & | & 1 & 0 & 0 \\\\\n",
    "0 & 0 & -1 & | & -2 & 1 & 0 \\\\\n",
    "0 & -1 & -3 & | & -3 & 0 & 1 \n",
    "\\end{bmatrix}\n",
    "\\xrightarrow [R_2 \\leftarrow (-R_2),\\space R_3 \\leftarrow (-R_3)] {R_2 \\rightleftharpoons R_3}\n",
    "\\begin{bmatrix}\n",
    "1 & 2 & 3 & | & 1 & 0 & 0 \\\\\n",
    "0 & 1 & 3 & | & 3 & 0 & -1 \\\\\n",
    "0 & 0 & 1 & | & 2 & -1 & 0 \n",
    "\\end{bmatrix}\n",
    "\\xrightarrow [R_2 \\leftarrow R_2 + (-3)\\times R_3] {R_1 \\leftarrow R_1 + (-3)\\times R_3}\n",
    "\\begin{bmatrix}\n",
    "1 & 2 & 0 & | & -5 & -3 & 0 \\\\\n",
    "0 & 1 & 0 & | & -3 & 3 & -1 \\\\\n",
    "0 & 0 & 1 & | & 2 & -1 & 0 \n",
    "\\end{bmatrix}\n",
    "\\xrightarrow {R_1 \\leftarrow R_1 + (-2)\\times R_2}\n",
    "\\begin{bmatrix}\n",
    "1 & 0 & 0 & | & 1 & -3 & 2 \\\\\n",
    "0 & 1 & 0 & | & -3 & 3 & -1 \\\\\n",
    "0 & 0 & 1 & | & 2 & -1 & 0 \n",
    "\\end{bmatrix}\n",
    "$\n",
    "\n",
    "Thus we have $\\mathbf{A}^{-1} = \\begin{bmatrix} 1 & -3 & 2 \\\\ -3 & 3 & -1 \\\\ 2 & -1 & 0 \\end{bmatrix}$. Therefore, \n",
    "\n",
    "$\n",
    "\\mathbf{A}^{-1}\\mathbf{b} =\n",
    "\\begin{bmatrix} 1 & -3 & 2 \\\\ -3 & 3 & -1 \\\\ 2 & -1 & 0 \\end{bmatrix}\n",
    "\\times\n",
    "\\begin{bmatrix} -1 \\\\ 3 \\\\ 8 \\end{bmatrix} = \n",
    "\\begin{bmatrix} 1\\times(-1)+(-3)\\times3+2\\times8 \\\\\n",
    "-3\\times(-1)+3\\times3+(-1)\\times8 \\\\\n",
    "2\\times(-1)+(-1)\\times3+0\\times8 \\end{bmatrix} = \n",
    "\\begin{bmatrix} 6 \\\\ 4 \\\\ -5 \\end{bmatrix}\n",
    "$\n",
    "\n",
    "\n",
    "13. \n",
    "$\n",
    "\\mathbf{A}\\circ\\mathbf{A} = \n",
    "\\begin{bmatrix} 1 & 2 & 3 \\\\ 2 & 4 & 5 \\\\ 3 & 5 & 6 \\end{bmatrix}\n",
    "\\circ\n",
    "\\begin{bmatrix} 1 & 2 & 3 \\\\ 2 & 4 & 5 \\\\ 3 & 5 & 6 \\end{bmatrix} = \n",
    "\\begin{bmatrix}\n",
    "1\\times1 & 2\\times2 & 3\\times3 \\\\ 2\\times2 & 4\\times4 & 5\\times5 \\\\ 3\\times3 & 5\\times5 & 6\\times6\n",
    "\\end{bmatrix} = \n",
    "\\begin{bmatrix} 1 & 4 & 9 \\\\ 4 & 16 & 25 \\\\ 9 & 25 & 36 \\end{bmatrix}\n",
    "$\n",
    "\n",
    "\n",
    "14. \n",
    "$\n",
    "\\mathbf{b}\\circ\\mathbf{c} = \n",
    "\\begin{bmatrix} -1 \\\\ 3 \\\\ 8 \\end{bmatrix}\n",
    "\\circ\n",
    "\\begin{bmatrix} 4 \\\\ -3 \\\\ 6 \\end{bmatrix} = \n",
    "\\begin{bmatrix} -1\\times4 \\\\ 3\\times(-3) \\\\ 8\\times6 \\end{bmatrix} = \n",
    "\\begin{bmatrix} -4 \\\\ -9 \\\\ 48 \\end{bmatrix}\n",
    "$"
   ]
  },
  {
   "cell_type": "code",
   "execution_count": 8,
   "metadata": {},
   "outputs": [
    {
     "name": "stdout",
     "output_type": "stream",
     "text": [
      "1. A @ A = \n",
      " [[14 25 31]\n",
      " [25 45 56]\n",
      " [31 56 70]]\n",
      "\n",
      "2. A @ A.T = \n",
      " [[14 25 31]\n",
      " [25 45 56]\n",
      " [31 56 70]]\n",
      "\n",
      "3. A @ b = \n",
      " [[29]\n",
      " [50]\n",
      " [60]]\n",
      "\n",
      "4.\n",
      " shapes (3,3) and (1,3) not aligned: 3 (dim 1) != 1 (dim 0)\n",
      "\n",
      "5.\n",
      " shapes (3,1) and (3,3) not aligned: 1 (dim 1) != 3 (dim 0)\n",
      "\n",
      "6. b.T @ A = \n",
      " [[29 50 60]]\n",
      "\n",
      "7.\n",
      " shapes (3,1) and (3,1) not aligned: 1 (dim 1) != 3 (dim 0)\n",
      "\n",
      "8. b.T @ b = \n",
      " [[74]]\n",
      "\n",
      "9. b @ b.T = \n",
      " [[ 1 -3 -8]\n",
      " [-3  9 24]\n",
      " [-8 24 64]]\n",
      "\n",
      "10.\n",
      " shapes (3,1) and (1,3) not aligned \n",
      "\n",
      "11.\n",
      " shapes (1,3) and (1,3) not aligned: 3 (dim 1) != 1 (dim 0)\n",
      "\n",
      "12. A^(-1) @ b = \n",
      " [[ 6.]\n",
      " [ 4.]\n",
      " [-5.]]\n",
      "\n",
      "13. A * A = \n",
      " [[ 1  4  9]\n",
      " [ 4 16 25]\n",
      " [ 9 25 36]]\n",
      "\n",
      "14. b * c = \n",
      " [[-4]\n",
      " [-9]\n",
      " [48]]\n",
      "\n"
     ]
    }
   ],
   "source": [
    "import numpy as np\n",
    "\n",
    "A = np.array([\n",
    "    [1,2,3],\n",
    "    [2,4,5],\n",
    "    [3,5,6]\n",
    "])\n",
    "b = np.array([-1,3,8]).reshape((3,1))\n",
    "c = np.array([4,-3,6]).reshape((3,1))\n",
    "I = np.eye(3)\n",
    "\n",
    "# 1\n",
    "print(\"1. A @ A = \\n\",np.matmul(A, A), end = '\\n\\n')\n",
    "\n",
    "# 2\n",
    "print(\"2. A @ A.T = \\n\",np.matmul(A, A.T), end = '\\n\\n')\n",
    "\n",
    "# 3\n",
    "print(\"3. A @ b = \\n\",np.matmul(A, b), end = '\\n\\n')\n",
    "\n",
    "# 4\n",
    "try:\n",
    "    print(\"4. A @ b.T = \\n\",np.matmul(A, b.T), end = '\\n\\n')\n",
    "except ValueError as VE:\n",
    "    print(\"4.\\n\", VE, end = '\\n\\n')\n",
    "\n",
    "# 5\n",
    "try:\n",
    "    print(\"5. b @ A = \\n\",np.matmul(b, A), end = '\\n\\n')\n",
    "except ValueError as VE:\n",
    "    print(\"5.\\n\", VE, end = '\\n\\n')\n",
    "\n",
    "# 6\n",
    "print(\"6. b.T @ A = \\n\",np.matmul(b.T, A), end = '\\n\\n')\n",
    "\n",
    "# 7\n",
    "try:\n",
    "    print(\"7. b @ b = \\n\",np.matmul(b, b), end = '\\n\\n')\n",
    "except ValueError as VE:\n",
    "    print(\"7.\\n\", VE, end = '\\n\\n')\n",
    "\n",
    "# 8\n",
    "print(\"8. b.T @ b = \\n\",np.matmul(b.T, b), end = '\\n\\n')\n",
    "\n",
    "# 9\n",
    "print(\"9. b @ b.T = \\n\",np.matmul(b, b.T), end = '\\n\\n')\n",
    "\n",
    "# 10\n",
    "print(\"10.\\n shapes (3,1) and (1,3) not aligned \\n\")\n",
    "\n",
    "# 11\n",
    "try:\n",
    "    print(\"11. b.T @ b.T = \\n\",np.matmul(b.T, b.T), end = '\\n\\n')\n",
    "except ValueError as VE:\n",
    "    print(\"11.\\n\", VE, end = '\\n\\n')\n",
    "\n",
    "# 12\n",
    "print(\"12. A^(-1) @ b = \\n\", np.matmul(np.linalg.inv(A), b), end = '\\n\\n')\n",
    "\n",
    "# 13\n",
    "print(\"13. A * A = \\n\", A * A, end = '\\n\\n')\n",
    "\n",
    "# 14\n",
    "print(\"14. b * c = \\n\", b * c, end = '\\n\\n')"
   ]
  },
  {
   "cell_type": "markdown",
   "metadata": {},
   "source": [
    "## 6\n",
    "**Eigenvectors and eigenvalues**. Eigenvectors and eigenvalues are useful for some machine learning algorithms, but the concepts take time to solidly grasp. For an intuitive review of these concepts, explore this [interactive website at Setosa.io](http://setosa.io/ev/eigenvectors-and-eigenvalues/). Also, the series of linear algebra videos by Grant Sanderson of 3Brown1Blue are excellent and can be viewed on youtube [here](https://www.youtube.com/playlist?list=PLZHQObOWTQDPD3MizzM2xVFitgF8hE_ab).\n",
    "\n",
    "1. Calculate the eigenvalues and corresponding eigenvectors of matrix $\\mathbf{A}$ above, from the last question.\n",
    "2. Choose one of the eigenvector/eigenvalue pairs, $\\mathbf{v}$ and $\\lambda$, and show that $\\mathbf{A} \\mathbf{v} = \\lambda \\mathbf{v}$. Also show that this relationship extends to higher orders: $\\mathbf{A} \\mathbf{A} \\mathbf{v} = \\lambda^2 \\mathbf{v}$\n",
    "3. Show that the eigenvectors are orthogonal to one another (e.g. their inner product is zero). This is true for real, symmetric matrices."
   ]
  },
  {
   "cell_type": "markdown",
   "metadata": {},
   "source": [
    "**ANSWER**"
   ]
  },
  {
   "cell_type": "markdown",
   "metadata": {},
   "source": [
    "1. Calculate the eigenvalues and eigenvectors using numpy."
   ]
  },
  {
   "cell_type": "code",
   "execution_count": 10,
   "metadata": {},
   "outputs": [
    {
     "name": "stdout",
     "output_type": "stream",
     "text": [
      "eigenvalue0: 11.344814282762082\n",
      "eigenvector0:\n",
      "array([[-0.32798528],\n",
      "       [-0.59100905],\n",
      "       [-0.73697623]])\n",
      "\n",
      "eigenvalue1: -0.5157294715892574\n",
      "eigenvector1:\n",
      "array([[-0.73697623],\n",
      "       [-0.32798528],\n",
      "       [ 0.59100905]])\n",
      "\n",
      "eigenvalue2: 0.1709151888271788\n",
      "eigenvector2:\n",
      "array([[ 0.59100905],\n",
      "       [-0.73697623],\n",
      "       [ 0.32798528]])\n",
      "\n"
     ]
    }
   ],
   "source": [
    "import numpy as np\n",
    "\n",
    "A = np.array(np.mat('1 2 3;2 4 5;3 5 6'))\n",
    "w, v = np.linalg.eig(A)\n",
    "\n",
    "for i in range(3):\n",
    "    print(\"eigenvalue%a: %a\\neigenvector%a:\\n%a\\n\" % (i, w[i], i, v[:,i].reshape((3,1))))"
   ]
  },
  {
   "cell_type": "markdown",
   "metadata": {},
   "source": [
    "2. Show that $\\mathbf{A} \\mathbf{v} = \\lambda \\mathbf{v}$ and $\\mathbf{A} \\mathbf{A} \\mathbf{v} = \\lambda^2 \\mathbf{v}$"
   ]
  },
  {
   "cell_type": "markdown",
   "metadata": {},
   "source": [
    "For $\\mathbf{A} \\mathbf{v} = \\lambda \\mathbf{v}$"
   ]
  },
  {
   "cell_type": "code",
   "execution_count": 14,
   "metadata": {},
   "outputs": [
    {
     "name": "stdout",
     "output_type": "stream",
     "text": [
      "[-3.72093206 -6.70488789 -8.36085845]\n",
      "[-3.72093206 -6.70488789 -8.36085845]\n",
      "\n",
      "[ 0.38008036  0.16915167 -0.30480078]\n",
      "[ 0.38008036  0.16915167 -0.30480078]\n",
      "\n",
      "[ 0.10101242 -0.12596043  0.05605767]\n",
      "[ 0.10101242 -0.12596043  0.05605767]\n",
      "\n"
     ]
    }
   ],
   "source": [
    "for i in range(3):\n",
    "    e_w = w[i]; e_v = v[:, i]\n",
    "    print(np.dot(A, e_v))\n",
    "    print(np.dot(e_w, e_v), end = '\\n\\n')"
   ]
  },
  {
   "cell_type": "markdown",
   "metadata": {},
   "source": [
    "For $\\mathbf{A} \\mathbf{A} \\mathbf{v} = \\lambda^2 \\mathbf{v}$"
   ]
  },
  {
   "cell_type": "code",
   "execution_count": 12,
   "metadata": {},
   "outputs": [
    {
     "name": "stdout",
     "output_type": "stream",
     "text": [
      "[-42.2132832  -76.06570795 -94.85238636]\n",
      "[-42.2132832  -76.06570795 -94.85238636]\n",
      "\n",
      "[-42.2132832  -76.06570795 -94.85238636]\n",
      "[-42.2132832  -76.06570795 -94.85238636]\n",
      "\n",
      "[-42.2132832  -76.06570795 -94.85238636]\n",
      "[-42.2132832  -76.06570795 -94.85238636]\n",
      "\n"
     ]
    }
   ],
   "source": [
    "for i in range(3):\n",
    "    e_w = w[0]; e_v = v[:, 0]\n",
    "    print(np.dot(np.dot(A, A), e_v))\n",
    "    print(np.dot(np.dot(e_w, e_w), e_v), end = '\\n\\n')"
   ]
  },
  {
   "cell_type": "markdown",
   "metadata": {},
   "source": [
    "3. Show that all the eigenvectors are orthogonal to each other."
   ]
  },
  {
   "cell_type": "code",
   "execution_count": 30,
   "metadata": {},
   "outputs": [
    {
     "name": "stdout",
     "output_type": "stream",
     "text": [
      "-2.220446049250313e-16\n",
      "-4.440892098500626e-16\n",
      "-1.0547118733938987e-15\n"
     ]
    }
   ],
   "source": [
    "for i in range(3):\n",
    "    for j in range(i+1, 3):\n",
    "        print(np.dot(v[:, i], v[:, j]))"
   ]
  },
  {
   "cell_type": "markdown",
   "metadata": {},
   "source": [
    "All the dot products between each pairs of them are zeros, so all the eigenvectors are orthogonal to each other."
   ]
  },
  {
   "cell_type": "markdown",
   "metadata": {},
   "source": [
    "# Numerical Programming"
   ]
  },
  {
   "cell_type": "markdown",
   "metadata": {},
   "source": [
    "## 7\n",
    "Speed comparison between vectorized and non-vectorized code. Begin by creating an array of 10 million random numbers using the numpy random.randn module. Compute the sum of the squares first in a for loop, then using Numpy's `dot` module. Time how long it takes to compute each and report the results and report the output. How many times faster is the vectorized code than the for loop approach?\n",
    "\n",
    "*Note: all code should be well commented, properly formatted, and your answers should be output using the `print()` function as follows (where the # represents your answers, to a reasonable precision):\n",
    "\n",
    "`Time [sec] (non-vectorized): ######`\n",
    "\n",
    "`Time [sec] (vectorized):     ######`\n",
    "\n",
    "`The vectorized code is ##### times faster than the vectorized code`"
   ]
  },
  {
   "cell_type": "markdown",
   "metadata": {},
   "source": [
    "**ANSWER**"
   ]
  },
  {
   "cell_type": "code",
   "execution_count": 41,
   "metadata": {},
   "outputs": [
    {
     "name": "stdout",
     "output_type": "stream",
     "text": [
      "Time [sec] (non-vectorized): 3.5104\n",
      "Time [sec] (vectorized):     0.0036\n",
      "The vectorized code is 983.9 times faster than the vectorized code\n"
     ]
    }
   ],
   "source": [
    "import numpy as np\n",
    "import time\n",
    "\n",
    "# Generate the random samples\n",
    "sam = np.random.randn(10000000)\n",
    "\n",
    "# Compute the sum of squares the non-vectorized way (using a for loop)\n",
    "start_1 = time.time()\n",
    "cum_sum = 0\n",
    "for i in sam:\n",
    "    cum_sum += i**2\n",
    "end_1 = time.time()\n",
    "\n",
    "# Compute the sum of squares the vectorized way (using numpy)\n",
    "start_2 = time.time()\n",
    "cum_sum2 = np.dot(sam, sam)\n",
    "end_2 = time.time()\n",
    "\n",
    "# Print the results\n",
    "print(\"Time [sec] (non-vectorized): %.4f\" % (end_1 - start_1))\n",
    "print(\"Time [sec] (vectorized):     %.4f\" % (end_2 - start_2))\n",
    "print(\"The vectorized code is %3.1f times faster than the vectorized code\" % ((end_1 - start_1)/(end_2 - start_2)))"
   ]
  },
  {
   "cell_type": "markdown",
   "metadata": {},
   "source": [
    "## 8\n",
    "One popular Agile development framework is Scrum (a paradigm recommended for data science projects). It emphasizes the continual evolution of code for projects, becoming progressively better, but starting with a quickly developed minimum viable product. This often means that code written early on is not optimized, and that's a good thing - it's best to get it to work first before optimizing. Imagine that you wrote the following code during a sprint towards getting an end-to-end system working. Vectorize the following code and show the difference in speed between the current implementation and a vectorized version.\n",
    "\n",
    "The function below computes the function $f(x,y) = x^2 - 2 y^2$ and determines whether this quantity is above or below a given threshold, `thresh=0`. This is done for $x,y \\in \\{-4,4\\}$, over a 2,000-by-2,000 grid covering that domain.\n",
    "\n",
    "(a) Vectorize this code and demonstrate (as in the last exercise) the speed increase through vectorization and (b) plot the resulting data - both the function $f(x,y)$ and the thresholded output - using [`imshow`](https://matplotlib.org/api/_as_gen/matplotlib.pyplot.imshow.html?highlight=matplotlib%20pyplot%20imshow#matplotlib.pyplot.imshow) from `matplotlib`.\n",
    "\n",
    "*Hint: look at the `numpy` [`meshgrid`](https://docs.scipy.org/doc/numpy-1.13.0/reference/generated/numpy.meshgrid.html) documentation*"
   ]
  },
  {
   "cell_type": "code",
   "execution_count": 34,
   "metadata": {},
   "outputs": [
    {
     "name": "stdout",
     "output_type": "stream",
     "text": [
      "Time [sec] (non-vectorized): 4.1797\n",
      "Time [sec] (vectorized):     0.0191\n",
      "The vectorized code is 218.5 times faster than the vectorized code\n"
     ]
    },
    {
     "data": {
      "image/png": "[encoded data removed]",
      "text/plain": [
       "<Figure size 432x288 with 2 Axes>"
      ]
     },
     "metadata": {
      "needs_background": "light"
     },
     "output_type": "display_data"
    }
   ],
   "source": [
    "import numpy as np\n",
    "import time\n",
    "import matplotlib.pyplot as plt\n",
    "%matplotlib inline\n",
    "\n",
    "# Initialize variables for this exerise\n",
    "thresh = 0\n",
    "n = 2000\n",
    "x = np.linspace(-4, 4, 2000)\n",
    "y = np.linspace(-4, 4, 2000)\n",
    "X, Y = np.meshgrid(x, y)\n",
    "Z = np.zeros_like(X)\n",
    "\n",
    "# Nonvectorized implementation\n",
    "start1 = time.time()\n",
    "for i, xi in enumerate(x):\n",
    "    for j, yj in enumerate(y):\n",
    "        Z[j, i] += xi**2 - 2*yj**2\n",
    "end1 = time.time()\n",
    "\n",
    "# Vectorized implementation\n",
    "start2 = time.time()\n",
    "Z2 = X**2 - 2*Y**2\n",
    "end2 = time.time()\n",
    "\n",
    "# Print the time for each and the speed increase\n",
    "print(\"Time [sec] (non-vectorized): %.4f\" % (end1 - start1))\n",
    "print(\"Time [sec] (vectorized):     %.4f\" % (end2 - start2))\n",
    "print(\"The vectorized code is %3.1f times faster than the vectorized code\" % ((end1 - start1)/(end2 - start2)))\n",
    "\n",
    "# Plot the result\n",
    "plt.imshow(Z, extent = [-4, 4, -4, 4])\n",
    "plt.xlabel(\"x\")\n",
    "plt.ylabel(\"y\")\n",
    "plt.title(\"Plot of the Function\")\n",
    "plt.colorbar()\n",
    "plt.show()"
   ]
  },
  {
   "cell_type": "code",
   "execution_count": 36,
   "metadata": {},
   "outputs": [
    {
     "data": {
      "image/png": "[encoded data removed]",
      "text/plain": [
       "<Figure size 432x288 with 1 Axes>"
      ]
     },
     "metadata": {
      "needs_background": "light"
     },
     "output_type": "display_data"
    }
   ],
   "source": [
    "# plot the thresholded output\n",
    "'''Z3 = np.zeros_like(Z)\n",
    "Z3[Z > thresh] = 1\n",
    "plt.imshow(Z3, extent = [-4, 4, -4, 4])\n",
    "plt.xlabel(\"x\")\n",
    "plt.ylabel(\"y\")\n",
    "plt.title(\"Plot of the Function with Threshold\")\n",
    "plt.colorbar()\n",
    "plt.show()'''\n",
    "\n",
    "import matplotlib.patches as mp\n",
    "im = plt.imshow(Z3, extent = [-4, 4, -4, 4])\n",
    "values = np.unique(Z3.ravel())\n",
    "colors = [im.cmap(im.norm(value)) for value in values]\n",
    "patches = [mp.Patch(color=colors[0], label=\"smaller than threshold\"), \n",
    "          mp.Patch(color=colors[1], label=\"greater than threshold\")]\n",
    "\n",
    "plt.legend(handles = patches, bbox_to_anchor = (1.05, 1), loc = 2, borderaxespad = 0. )\n",
    "plt.xlabel(\"x\")\n",
    "plt.ylabel(\"y\")\n",
    "plt.title(\"Plot of the Function with Threshold\")\n",
    "plt.show()"
   ]
  },
  {
   "cell_type": "markdown",
   "metadata": {},
   "source": [
    "## 9\n",
    "This exercise will walk through some basic numerical programming exercises.\n",
    "1. Synthesize $n=10^4$ normally distributed data points with mean $\\mu=2$ and a standard deviation of $\\sigma=1$. Call these observations from a random variable $X$, and call the vector of observations that you generate, $\\textbf{x}$.\n",
    "2. Calculate the mean and standard deviation of $\\textbf{x}$ to validate (1) and provide the result to a precision of four significant figures.\n",
    "3. Plot a histogram of the data in $\\textbf{x}$ with 30 bins\n",
    "4. What is the 90th percentile of $\\textbf{x}$? The 90th percentile is the value below which 90% of observations can be found.\n",
    "5. What is the 99th percentile of $\\textbf{x}$?\n",
    "6. Now synthesize $n=10^4$ normally distributed data points with mean $\\mu=0$ and a standard deviation of $\\sigma=3$. Call these observations from a random variable $Y$, and call the vector of observations that you generate, $\\textbf{y}$.\n",
    "7. Plot the histogram of the data in $\\textbf{y}$ on a (new) plot with the histogram of $\\textbf{x}$, so that both histograms can be seen and compared.\n",
    "8. Using the observations from $\\textbf{x}$ and $\\textbf{y}$, estimate $E[XY]$"
   ]
  },
  {
   "cell_type": "markdown",
   "metadata": {},
   "source": [
    "**ANSWER**"
   ]
  },
  {
   "cell_type": "code",
   "execution_count": 89,
   "metadata": {},
   "outputs": [
    {
     "name": "stdout",
     "output_type": "stream",
     "text": [
      "mean of x:\t 2.008\n",
      "sd of x:\t 1.004\n"
     ]
    },
    {
     "data": {
      "image/png": "[encoded data removed]",
      "text/plain": [
       "<Figure size 432x288 with 1 Axes>"
      ]
     },
     "metadata": {
      "needs_background": "light"
     },
     "output_type": "display_data"
    }
   ],
   "source": [
    "import numpy as np\n",
    "import matplotlib.pyplot as plt\n",
    "%matplotlib inline\n",
    "np.random.seed(234)\n",
    "\n",
    "# 1\n",
    "x = np.random.normal(2, 1, 10**4)\n",
    "\n",
    "# 2\n",
    "print(\"mean of x:\\t %1.3f\" % np.mean(x))\n",
    "print(\"sd of x:\\t %1.3f\" % np.std(x))\n",
    "\n",
    "# 3\n",
    "plt.figure()\n",
    "plt.title(\"Histogram of x\")\n",
    "xh = plt.hist(x, bins = 30)\n"
   ]
  },
  {
   "cell_type": "code",
   "execution_count": 90,
   "metadata": {},
   "outputs": [
    {
     "name": "stdout",
     "output_type": "stream",
     "text": [
      "90th percentile of x:\t 3.2803181105195205\n",
      "99th percentile of x:\t 4.367114368317831\n"
     ]
    },
    {
     "data": {
      "image/png": "[encoded data removed]",
      "text/plain": [
       "<Figure size 432x288 with 1 Axes>"
      ]
     },
     "metadata": {
      "needs_background": "light"
     },
     "output_type": "display_data"
    }
   ],
   "source": [
    "# 4\n",
    "a_90 = np.percentile(x, 90)\n",
    "print('90th percentile of x:\\t', a_90)\n",
    "\n",
    "# 5\n",
    "a_99 = np.percentile(x, 99)\n",
    "print('99th percentile of x:\\t', a_99)\n",
    "\n",
    "# 6\n",
    "y = np.random.normal(0, 3, 10**4)\n",
    "\n",
    "# 7\n",
    "plt.figure()\n",
    "plt.title(\"Histogram of y\")\n",
    "yh = plt.hist(y, bins = 30, color = 'orange')"
   ]
  },
  {
   "cell_type": "markdown",
   "metadata": {},
   "source": [
    "8. We know that\n",
    "\n",
    "$$\n",
    "\\begin{align}\n",
    "\\mathrm{E}[XY] = \\int xy P(x,y) \\mathrm{d}(xy)\n",
    "\\end{align}\n",
    "$$\n"
   ]
  },
  {
   "cell_type": "code",
   "execution_count": 92,
   "metadata": {},
   "outputs": [
    {
     "name": "stdout",
     "output_type": "stream",
     "text": [
      "Estimate of the estimated value of XY is -0.08534242758828127\n"
     ]
    }
   ],
   "source": [
    "# 8\n",
    "print(\"Estimate of the estimated value of XY is\", np.mean(x*y))"
   ]
  },
  {
   "cell_type": "markdown",
   "metadata": {},
   "source": [
    "## 10\n",
    "Estimate the integral of the function $f(x)$ on the interval $0\\leq x < 2.5$ assuming we only know the following points from $f$:\n",
    "\n",
    "*Table 1. Dataset containing n=5 observations*\n",
    "\n",
    "| $x_i$ | 0.0 | 0.5 | 1.0 | 1.5 | 2.0 |\n",
    "|-|-|-|-|-|-|\n",
    "| $y_i$ | 6 | 7 | 8 | 4 | 1 |\n"
   ]
  },
  {
   "cell_type": "markdown",
   "metadata": {},
   "source": [
    "**ANSWER**\n",
    "\n"
   ]
  },
  {
   "cell_type": "markdown",
   "metadata": {},
   "source": [
    "Using trapezoidal rule to solve this proble."
   ]
  },
  {
   "cell_type": "code",
   "execution_count": 106,
   "metadata": {},
   "outputs": [
    {
     "name": "stdout",
     "output_type": "stream",
     "text": [
      "Estimate Integral:  11.25\n"
     ]
    }
   ],
   "source": [
    "xi = np.linspace(0, 2, 5)\n",
    "yi = np.array([6, 7, 8, 4, 1])\n",
    "\n",
    "print(\"Estimate Integral: \", np.trapz(yi, xi))"
   ]
  },
  {
   "cell_type": "markdown",
   "metadata": {
    "collapsed": true
   },
   "source": [
    "# Version Control via Git"
   ]
  },
  {
   "cell_type": "markdown",
   "metadata": {},
   "source": [
    "## 11\n",
    "Complete the [Atlassian Git tutorial](https://www.atlassian.com/git/tutorials/what-is-version-control), specifically the following sections. Try each concept that's presented. For this tutorial, instead of using BitBucket, use Github. Create a github account here if you don't already have one: https://github.com/\n",
    "1. [What is version control](https://www.atlassian.com/git/tutorials/what-is-version-control)\n",
    "2. [What is Git](https://www.atlassian.com/git/tutorials/what-is-git)\n",
    "3. [Install Git](https://www.atlassian.com/git/tutorials/install-git)\n",
    "4. [Setting up a repository](https://www.atlassian.com/git/tutorials/install-git)\n",
    "5. [Saving changes](https://www.atlassian.com/git/tutorials/saving-changes)\n",
    "6. [Inspecting a repository](https://www.atlassian.com/git/tutorials/inspecting-a-repository)\n",
    "7. [Undoing changes](https://www.atlassian.com/git/tutorials/undoing-changes)\n",
    "8. [Rewriting history](https://www.atlassian.com/git/tutorials/rewriting-history)\n",
    "9. [Syncing](https://www.atlassian.com/git/tutorials/syncing)\n",
    "10. [Making a pull request](https://www.atlassian.com/git/tutorials/making-a-pull-request)\n",
    "11. [Using branches](https://www.atlassian.com/git/tutorials/using-branches)\n",
    "12. [Comparing workflows](https://www.atlassian.com/git/tutorials/comparing-workflows)\n",
    "\n",
    "For your answer, affirm that you either completed the tutorial or have previous experience with all of the concepts above. Do this by typing your name below and selecting the situation that applies from the two options in brackets."
   ]
  },
  {
   "cell_type": "markdown",
   "metadata": {},
   "source": [
    "**ANSWER**\n",
    "\n",
    "*I, [**Yifei Wang**], affirm that I have [**completed the above tutorial / I have previous experience that covers all the content in this tutorial**]*"
   ]
  },
  {
   "cell_type": "markdown",
   "metadata": {},
   "source": [
    "## 12\n",
    "Using Github to create a static HTML website:\n",
    "1. Create a branch in your `machine-learning-course` repo called \"gh-pages\" and checkout that branch (this will provide an example of how to create a simple static website using [Github Pages](https://pages.github.com/))\n",
    "2. Create a file called \"index.html\" with the contents \"Hello World\" and add, commit, and push it to that branch.\n",
    "3. Submit the following: (a) a link to your github repository and (b) a link to your new \"Hello World\" website. The latter should be at the address https://[USERNAME].github.io/ECE590-assignment0 (where [USERNAME] is your github username)."
   ]
  },
  {
   "cell_type": "markdown",
   "metadata": {},
   "source": [
    "**ANSWER**\n",
    "\n"
   ]
  },
  {
   "cell_type": "markdown",
   "metadata": {
    "collapsed": true
   },
   "source": [
    "# Exploratory Data Analysis\n",
    "## 13\n",
    "Here you'll bring together some of the individual skills that you demonstrated above and create a Jupyter notebook based blog post on data analysis.\n",
    "\n",
    "1. Find a dataset that interests you and relates to a question or problem that you find intriguing\n",
    "2. Using a Jupyter notebook, describe the dataset, the source of the data, and the reason the dataset was of interest.\n",
    "3. Check the data and see if they need to be cleaned: are there missing values? Are there clearly erroneous values? Do two tables need to be merged together? Clean the data so it can be visualized.\n",
    "3. Plot the data, demonstrating interesting features that you discover. Are there any relationships between variables that were surprising or patterns that emerged? Please exercise creativity and curiosity in your plots.\n",
    "4. What insights are you able to take away from exploring the data? Is there a reason why analyzing the dataset you chose is particularly interesting or important? Summarize this as if your target audience was the readership of a major news organization - boil down your findings in a way that is accessible, but still accurate.\n",
    "5. Create a public repository on your github account titled \"machine-learning-course\". In it, create a readme file that contains the heading \"ECE590: Introductory Machine Learning for Data Science\". Add, commit, and push that Jupyter notebook to the master branch. Provide the link to the that post here."
   ]
  },
  {
   "cell_type": "markdown",
   "metadata": {},
   "source": [
    "**ANSWER**\n",
    "\n"
   ]
  }
 ],
 "metadata": {
  "kernelspec": {
   "display_name": "Python 3",
   "language": "python",
   "name": "python3"
  },
  "language_info": {
   "codemirror_mode": {
    "name": "ipython",
    "version": 3
   },
   "file_extension": ".py",
   "mimetype": "text/x-python",
   "name": "python",
   "nbconvert_exporter": "python",
   "pygments_lexer": "ipython3",
   "version": "3.7.2"
  }
 },
 "nbformat": 4,
 "nbformat_minor": 2
}
